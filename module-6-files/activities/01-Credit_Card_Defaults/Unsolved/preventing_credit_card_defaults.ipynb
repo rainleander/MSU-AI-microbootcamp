{
 "cells": [
  {
   "cell_type": "markdown",
   "metadata": {},
   "source": [
    "# Preventing Credit Card Defaults\n",
    "\n",
    "In this activity, you will use Keras to build a neural network model that predicts whether a credit card customer will default on their debt."
   ]
  },
  {
   "cell_type": "code",
   "execution_count": 1,
   "metadata": {},
   "outputs": [],
   "source": [
    "# Imports\n",
    "import pandas as pd\n",
    "from sklearn.preprocessing import StandardScaler\n",
    "from sklearn.model_selection import train_test_split"
   ]
  },
  {
   "cell_type": "markdown",
   "metadata": {},
   "source": [
    "## Step 1: Read the CSV file into a Pandas DataFrame."
   ]
  },
  {
   "cell_type": "code",
   "execution_count": 2,
   "metadata": {},
   "outputs": [
    {
     "data": {
      "text/html": [
       "<div>\n",
       "<style scoped>\n",
       "    .dataframe tbody tr th:only-of-type {\n",
       "        vertical-align: middle;\n",
       "    }\n",
       "\n",
       "    .dataframe tbody tr th {\n",
       "        vertical-align: top;\n",
       "    }\n",
       "\n",
       "    .dataframe thead th {\n",
       "        text-align: right;\n",
       "    }\n",
       "</style>\n",
       "<table border=\"1\" class=\"dataframe\">\n",
       "  <thead>\n",
       "    <tr style=\"text-align: right;\">\n",
       "      <th></th>\n",
       "      <th>LIMIT_BAL</th>\n",
       "      <th>EDUCATION</th>\n",
       "      <th>MARITAL_STATUS</th>\n",
       "      <th>AGE</th>\n",
       "      <th>PAY_0</th>\n",
       "      <th>PAY_2</th>\n",
       "      <th>PAY_3</th>\n",
       "      <th>PAY_4</th>\n",
       "      <th>PAY_5</th>\n",
       "      <th>PAY_6</th>\n",
       "      <th>...</th>\n",
       "      <th>\"BILL_AMT4\"</th>\n",
       "      <th>BILL_AMT5</th>\n",
       "      <th>BILL_AMT6</th>\n",
       "      <th>PAY_AMT1</th>\n",
       "      <th>PAY_AMT2</th>\n",
       "      <th>PAY_AMT3</th>\n",
       "      <th>PAY_AMT4</th>\n",
       "      <th>PAY_AMT5</th>\n",
       "      <th>PAY_AMT6</th>\n",
       "      <th>DEFAULT</th>\n",
       "    </tr>\n",
       "  </thead>\n",
       "  <tbody>\n",
       "    <tr>\n",
       "      <th>0</th>\n",
       "      <td>20000</td>\n",
       "      <td>2</td>\n",
       "      <td>1</td>\n",
       "      <td>24</td>\n",
       "      <td>2</td>\n",
       "      <td>2</td>\n",
       "      <td>-1</td>\n",
       "      <td>-1</td>\n",
       "      <td>-2</td>\n",
       "      <td>-2</td>\n",
       "      <td>...</td>\n",
       "      <td>0</td>\n",
       "      <td>0</td>\n",
       "      <td>0</td>\n",
       "      <td>0</td>\n",
       "      <td>689</td>\n",
       "      <td>0</td>\n",
       "      <td>0</td>\n",
       "      <td>0</td>\n",
       "      <td>0</td>\n",
       "      <td>1</td>\n",
       "    </tr>\n",
       "    <tr>\n",
       "      <th>1</th>\n",
       "      <td>120000</td>\n",
       "      <td>2</td>\n",
       "      <td>2</td>\n",
       "      <td>26</td>\n",
       "      <td>-1</td>\n",
       "      <td>2</td>\n",
       "      <td>0</td>\n",
       "      <td>0</td>\n",
       "      <td>0</td>\n",
       "      <td>2</td>\n",
       "      <td>...</td>\n",
       "      <td>3272</td>\n",
       "      <td>3455</td>\n",
       "      <td>3261</td>\n",
       "      <td>0</td>\n",
       "      <td>1000</td>\n",
       "      <td>1000</td>\n",
       "      <td>1000</td>\n",
       "      <td>0</td>\n",
       "      <td>2000</td>\n",
       "      <td>1</td>\n",
       "    </tr>\n",
       "    <tr>\n",
       "      <th>2</th>\n",
       "      <td>90000</td>\n",
       "      <td>2</td>\n",
       "      <td>2</td>\n",
       "      <td>34</td>\n",
       "      <td>0</td>\n",
       "      <td>0</td>\n",
       "      <td>0</td>\n",
       "      <td>0</td>\n",
       "      <td>0</td>\n",
       "      <td>0</td>\n",
       "      <td>...</td>\n",
       "      <td>14331</td>\n",
       "      <td>14948</td>\n",
       "      <td>15549</td>\n",
       "      <td>1518</td>\n",
       "      <td>1500</td>\n",
       "      <td>1000</td>\n",
       "      <td>1000</td>\n",
       "      <td>1000</td>\n",
       "      <td>5000</td>\n",
       "      <td>0</td>\n",
       "    </tr>\n",
       "    <tr>\n",
       "      <th>3</th>\n",
       "      <td>50000</td>\n",
       "      <td>2</td>\n",
       "      <td>1</td>\n",
       "      <td>37</td>\n",
       "      <td>0</td>\n",
       "      <td>0</td>\n",
       "      <td>0</td>\n",
       "      <td>0</td>\n",
       "      <td>0</td>\n",
       "      <td>0</td>\n",
       "      <td>...</td>\n",
       "      <td>28314</td>\n",
       "      <td>28959</td>\n",
       "      <td>29547</td>\n",
       "      <td>2000</td>\n",
       "      <td>2019</td>\n",
       "      <td>1200</td>\n",
       "      <td>1100</td>\n",
       "      <td>1069</td>\n",
       "      <td>1000</td>\n",
       "      <td>0</td>\n",
       "    </tr>\n",
       "    <tr>\n",
       "      <th>4</th>\n",
       "      <td>50000</td>\n",
       "      <td>2</td>\n",
       "      <td>1</td>\n",
       "      <td>57</td>\n",
       "      <td>-1</td>\n",
       "      <td>0</td>\n",
       "      <td>-1</td>\n",
       "      <td>0</td>\n",
       "      <td>0</td>\n",
       "      <td>0</td>\n",
       "      <td>...</td>\n",
       "      <td>20940</td>\n",
       "      <td>19146</td>\n",
       "      <td>19131</td>\n",
       "      <td>2000</td>\n",
       "      <td>36681</td>\n",
       "      <td>10000</td>\n",
       "      <td>9000</td>\n",
       "      <td>689</td>\n",
       "      <td>679</td>\n",
       "      <td>0</td>\n",
       "    </tr>\n",
       "  </tbody>\n",
       "</table>\n",
       "<p>5 rows × 23 columns</p>\n",
       "</div>"
      ],
      "text/plain": [
       "   LIMIT_BAL  EDUCATION  MARITAL_STATUS  AGE  PAY_0  PAY_2  PAY_3  PAY_4  \\\n",
       "0      20000          2               1   24      2      2     -1     -1   \n",
       "1     120000          2               2   26     -1      2      0      0   \n",
       "2      90000          2               2   34      0      0      0      0   \n",
       "3      50000          2               1   37      0      0      0      0   \n",
       "4      50000          2               1   57     -1      0     -1      0   \n",
       "\n",
       "   PAY_5  PAY_6  ...           \"BILL_AMT4\"  BILL_AMT5  BILL_AMT6  PAY_AMT1  \\\n",
       "0     -2     -2  ...                     0          0          0         0   \n",
       "1      0      2  ...                  3272       3455       3261         0   \n",
       "2      0      0  ...                 14331      14948      15549      1518   \n",
       "3      0      0  ...                 28314      28959      29547      2000   \n",
       "4      0      0  ...                 20940      19146      19131      2000   \n",
       "\n",
       "   PAY_AMT2  PAY_AMT3  PAY_AMT4  PAY_AMT5  PAY_AMT6  DEFAULT  \n",
       "0       689         0         0         0         0        1  \n",
       "1      1000      1000      1000         0      2000        1  \n",
       "2      1500      1000      1000      1000      5000        0  \n",
       "3      2019      1200      1100      1069      1000        0  \n",
       "4     36681     10000      9000       689       679        0  \n",
       "\n",
       "[5 rows x 23 columns]"
      ]
     },
     "execution_count": 2,
     "metadata": {},
     "output_type": "execute_result"
    }
   ],
   "source": [
    "# Read the cc_default.csv file into a Pandas DataFrame\n",
    "file_path = \"https://static.bc-edx.com/mbc/ai/m6/datasets/cc_default.csv\"\n",
    "\n",
    "\n",
    "# Review the DataFrame\n"
   ]
  },
  {
   "cell_type": "markdown",
   "metadata": {},
   "source": [
    "## Step 2: Define the features set `X` by including all of the DataFrame columns except the “DEFAULT” column."
   ]
  },
  {
   "cell_type": "code",
   "execution_count": 3,
   "metadata": {},
   "outputs": [
    {
     "data": {
      "text/html": [
       "<div>\n",
       "<style scoped>\n",
       "    .dataframe tbody tr th:only-of-type {\n",
       "        vertical-align: middle;\n",
       "    }\n",
       "\n",
       "    .dataframe tbody tr th {\n",
       "        vertical-align: top;\n",
       "    }\n",
       "\n",
       "    .dataframe thead th {\n",
       "        text-align: right;\n",
       "    }\n",
       "</style>\n",
       "<table border=\"1\" class=\"dataframe\">\n",
       "  <thead>\n",
       "    <tr style=\"text-align: right;\">\n",
       "      <th></th>\n",
       "      <th>LIMIT_BAL</th>\n",
       "      <th>EDUCATION</th>\n",
       "      <th>MARITAL_STATUS</th>\n",
       "      <th>AGE</th>\n",
       "      <th>PAY_0</th>\n",
       "      <th>PAY_2</th>\n",
       "      <th>PAY_3</th>\n",
       "      <th>PAY_4</th>\n",
       "      <th>PAY_5</th>\n",
       "      <th>PAY_6</th>\n",
       "      <th>...</th>\n",
       "      <th>BILL_AMT3</th>\n",
       "      <th>\"BILL_AMT4\"</th>\n",
       "      <th>BILL_AMT5</th>\n",
       "      <th>BILL_AMT6</th>\n",
       "      <th>PAY_AMT1</th>\n",
       "      <th>PAY_AMT2</th>\n",
       "      <th>PAY_AMT3</th>\n",
       "      <th>PAY_AMT4</th>\n",
       "      <th>PAY_AMT5</th>\n",
       "      <th>PAY_AMT6</th>\n",
       "    </tr>\n",
       "  </thead>\n",
       "  <tbody>\n",
       "    <tr>\n",
       "      <th>0</th>\n",
       "      <td>20000</td>\n",
       "      <td>2</td>\n",
       "      <td>1</td>\n",
       "      <td>24</td>\n",
       "      <td>2</td>\n",
       "      <td>2</td>\n",
       "      <td>-1</td>\n",
       "      <td>-1</td>\n",
       "      <td>-2</td>\n",
       "      <td>-2</td>\n",
       "      <td>...</td>\n",
       "      <td>689</td>\n",
       "      <td>0</td>\n",
       "      <td>0</td>\n",
       "      <td>0</td>\n",
       "      <td>0</td>\n",
       "      <td>689</td>\n",
       "      <td>0</td>\n",
       "      <td>0</td>\n",
       "      <td>0</td>\n",
       "      <td>0</td>\n",
       "    </tr>\n",
       "    <tr>\n",
       "      <th>1</th>\n",
       "      <td>120000</td>\n",
       "      <td>2</td>\n",
       "      <td>2</td>\n",
       "      <td>26</td>\n",
       "      <td>-1</td>\n",
       "      <td>2</td>\n",
       "      <td>0</td>\n",
       "      <td>0</td>\n",
       "      <td>0</td>\n",
       "      <td>2</td>\n",
       "      <td>...</td>\n",
       "      <td>2682</td>\n",
       "      <td>3272</td>\n",
       "      <td>3455</td>\n",
       "      <td>3261</td>\n",
       "      <td>0</td>\n",
       "      <td>1000</td>\n",
       "      <td>1000</td>\n",
       "      <td>1000</td>\n",
       "      <td>0</td>\n",
       "      <td>2000</td>\n",
       "    </tr>\n",
       "    <tr>\n",
       "      <th>2</th>\n",
       "      <td>90000</td>\n",
       "      <td>2</td>\n",
       "      <td>2</td>\n",
       "      <td>34</td>\n",
       "      <td>0</td>\n",
       "      <td>0</td>\n",
       "      <td>0</td>\n",
       "      <td>0</td>\n",
       "      <td>0</td>\n",
       "      <td>0</td>\n",
       "      <td>...</td>\n",
       "      <td>13559</td>\n",
       "      <td>14331</td>\n",
       "      <td>14948</td>\n",
       "      <td>15549</td>\n",
       "      <td>1518</td>\n",
       "      <td>1500</td>\n",
       "      <td>1000</td>\n",
       "      <td>1000</td>\n",
       "      <td>1000</td>\n",
       "      <td>5000</td>\n",
       "    </tr>\n",
       "    <tr>\n",
       "      <th>3</th>\n",
       "      <td>50000</td>\n",
       "      <td>2</td>\n",
       "      <td>1</td>\n",
       "      <td>37</td>\n",
       "      <td>0</td>\n",
       "      <td>0</td>\n",
       "      <td>0</td>\n",
       "      <td>0</td>\n",
       "      <td>0</td>\n",
       "      <td>0</td>\n",
       "      <td>...</td>\n",
       "      <td>49291</td>\n",
       "      <td>28314</td>\n",
       "      <td>28959</td>\n",
       "      <td>29547</td>\n",
       "      <td>2000</td>\n",
       "      <td>2019</td>\n",
       "      <td>1200</td>\n",
       "      <td>1100</td>\n",
       "      <td>1069</td>\n",
       "      <td>1000</td>\n",
       "    </tr>\n",
       "    <tr>\n",
       "      <th>4</th>\n",
       "      <td>50000</td>\n",
       "      <td>2</td>\n",
       "      <td>1</td>\n",
       "      <td>57</td>\n",
       "      <td>-1</td>\n",
       "      <td>0</td>\n",
       "      <td>-1</td>\n",
       "      <td>0</td>\n",
       "      <td>0</td>\n",
       "      <td>0</td>\n",
       "      <td>...</td>\n",
       "      <td>35835</td>\n",
       "      <td>20940</td>\n",
       "      <td>19146</td>\n",
       "      <td>19131</td>\n",
       "      <td>2000</td>\n",
       "      <td>36681</td>\n",
       "      <td>10000</td>\n",
       "      <td>9000</td>\n",
       "      <td>689</td>\n",
       "      <td>679</td>\n",
       "    </tr>\n",
       "  </tbody>\n",
       "</table>\n",
       "<p>5 rows × 22 columns</p>\n",
       "</div>"
      ],
      "text/plain": [
       "   LIMIT_BAL  EDUCATION  MARITAL_STATUS  AGE  PAY_0  PAY_2  PAY_3  PAY_4  \\\n",
       "0      20000          2               1   24      2      2     -1     -1   \n",
       "1     120000          2               2   26     -1      2      0      0   \n",
       "2      90000          2               2   34      0      0      0      0   \n",
       "3      50000          2               1   37      0      0      0      0   \n",
       "4      50000          2               1   57     -1      0     -1      0   \n",
       "\n",
       "   PAY_5  PAY_6  ...  BILL_AMT3           \"BILL_AMT4\"  BILL_AMT5  BILL_AMT6  \\\n",
       "0     -2     -2  ...        689                     0          0          0   \n",
       "1      0      2  ...       2682                  3272       3455       3261   \n",
       "2      0      0  ...      13559                 14331      14948      15549   \n",
       "3      0      0  ...      49291                 28314      28959      29547   \n",
       "4      0      0  ...      35835                 20940      19146      19131   \n",
       "\n",
       "   PAY_AMT1  PAY_AMT2  PAY_AMT3  PAY_AMT4  PAY_AMT5  PAY_AMT6  \n",
       "0         0       689         0         0         0         0  \n",
       "1         0      1000      1000      1000         0      2000  \n",
       "2      1518      1500      1000      1000      1000      5000  \n",
       "3      2000      2019      1200      1100      1069      1000  \n",
       "4      2000     36681     10000      9000       689       679  \n",
       "\n",
       "[5 rows x 22 columns]"
      ]
     },
     "execution_count": 3,
     "metadata": {},
     "output_type": "execute_result"
    }
   ],
   "source": [
    "# Define features set X by selecting all columns but DEFAULT\n",
    "\n",
    "\n",
    "# Display the features DataFrame\n"
   ]
  },
  {
   "cell_type": "markdown",
   "metadata": {},
   "source": [
    "## Step 3: Create the target `y` by assigning the values of the DataFrame “DEFAULT” column."
   ]
  },
  {
   "cell_type": "code",
   "execution_count": 4,
   "metadata": {},
   "outputs": [
    {
     "data": {
      "text/plain": [
       "0    1\n",
       "1    1\n",
       "2    0\n",
       "3    0\n",
       "4    0\n",
       "Name: DEFAULT, dtype: int64"
      ]
     },
     "execution_count": 4,
     "metadata": {},
     "output_type": "execute_result"
    }
   ],
   "source": [
    "# Define target set by selecting the DEFAULT column\n",
    "\n",
    "\n",
    "# Display a sample y\n"
   ]
  },
  {
   "cell_type": "markdown",
   "metadata": {},
   "source": [
    "## Step 4: Create the training and testing sets using the `train_test_split` function from scikit-learn."
   ]
  },
  {
   "cell_type": "code",
   "execution_count": 5,
   "metadata": {},
   "outputs": [],
   "source": [
    "# Create training and testing datasets using train_test_split\n",
    "# Assign the function a random_state equal to 1\n"
   ]
  },
  {
   "cell_type": "markdown",
   "metadata": {},
   "source": [
    "## Step 5: Scale the features data using the `StandardScaler` from sklearn."
   ]
  },
  {
   "cell_type": "code",
   "execution_count": 6,
   "metadata": {},
   "outputs": [],
   "source": [
    "# Create the StandardScaler instance\n"
   ]
  },
  {
   "cell_type": "code",
   "execution_count": 7,
   "metadata": {},
   "outputs": [
    {
     "data": {
      "text/plain": [
       "StandardScaler()"
      ]
     },
     "execution_count": 7,
     "metadata": {},
     "output_type": "execute_result"
    }
   ],
   "source": [
    "# Fit the scaler to the features training dataset\n"
   ]
  },
  {
   "cell_type": "code",
   "execution_count": 8,
   "metadata": {},
   "outputs": [],
   "source": [
    "# Scale both the training and testing data from the features dataset\n"
   ]
  },
  {
   "cell_type": "markdown",
   "metadata": {},
   "source": [
    "## Step 6: Create a neural network model with an input layer that consists of 22 inputs, one hidden layer, and an output layer. Use the `units` parameter to define 12 neurons for the hidden layer and a single output for the output layer. Use the ReLU activation function for the hidden layer and the sigmoid activation function for the output layer."
   ]
  },
  {
   "cell_type": "code",
   "execution_count": 9,
   "metadata": {},
   "outputs": [
    {
     "name": "stderr",
     "output_type": "stream",
     "text": [
      "2023-04-13 13:26:57.964590: I tensorflow/core/platform/cpu_feature_guard.cc:182] This TensorFlow binary is optimized to use available CPU instructions in performance-critical operations.\n",
      "To enable the following instructions: AVX2 FMA, in other operations, rebuild TensorFlow with the appropriate compiler flags.\n"
     ]
    }
   ],
   "source": [
    "# Imports\n",
    "import tensorflow as tf\n",
    "from tensorflow.keras.layers import Dense\n",
    "from tensorflow.keras.models import Sequential"
   ]
  },
  {
   "cell_type": "code",
   "execution_count": 10,
   "metadata": {},
   "outputs": [],
   "source": [
    "# Define the the number of inputs to the model\n",
    "\n",
    "\n",
    "# Define the number of hidden nodes for the model\n",
    "\n",
    "\n",
    "# Create the Sequential model instance\n",
    "\n",
    "# Add a Dense layer specifying the number of inputs, the number of hidden nodes, and the activation function\n",
    "\n",
    "\n",
    "# Add the output layer to the model specifying the number of output neurons and activation function\n"
   ]
  },
  {
   "cell_type": "markdown",
   "metadata": {},
   "source": [
    "## Step 7: Display the model structure using the `summary` function."
   ]
  },
  {
   "cell_type": "code",
   "execution_count": 11,
   "metadata": {},
   "outputs": [
    {
     "name": "stdout",
     "output_type": "stream",
     "text": [
      "Model: \"sequential\"\n",
      "_________________________________________________________________\n",
      " Layer (type)                Output Shape              Param #   \n",
      "=================================================================\n",
      " dense (Dense)               (None, 12)                276       \n",
      "                                                                 \n",
      " dense_1 (Dense)             (None, 1)                 13        \n",
      "                                                                 \n",
      "=================================================================\n",
      "Total params: 289\n",
      "Trainable params: 289\n",
      "Non-trainable params: 0\n",
      "_________________________________________________________________\n"
     ]
    }
   ],
   "source": [
    "# Display the Sequential model summary\n"
   ]
  },
  {
   "cell_type": "markdown",
   "metadata": {},
   "source": [
    "##### The number of params for the first Dense layer is (22 x 12) + 12 = 276\n",
    "##### The number of params for the second Dense layer is (12 x 1) + 1 = 13"
   ]
  },
  {
   "cell_type": "markdown",
   "metadata": {},
   "source": [
    "## Step 8:  Compile the neural network model using the `binary_crossentropy` loss function, the `adam` optimizer, and the additional metric `accuracy`."
   ]
  },
  {
   "cell_type": "code",
   "execution_count": 12,
   "metadata": {
    "tags": []
   },
   "outputs": [],
   "source": [
    "# Compile the Sequential model\n"
   ]
  },
  {
   "cell_type": "markdown",
   "metadata": {},
   "source": [
    "## Step 9: Fit the model with 100 epochs using the training data."
   ]
  },
  {
   "cell_type": "code",
   "execution_count": 13,
   "metadata": {},
   "outputs": [
    {
     "name": "stdout",
     "output_type": "stream",
     "text": [
      "Epoch 1/100\n",
      "704/704 [==============================] - 1s 1ms/step - loss: 0.5129 - accuracy: 0.7840\n",
      "Epoch 2/100\n",
      "704/704 [==============================] - 1s 819us/step - loss: 0.4622 - accuracy: 0.8092\n",
      "Epoch 3/100\n",
      "704/704 [==============================] - 1s 731us/step - loss: 0.4527 - accuracy: 0.8128\n",
      "Epoch 4/100\n",
      "704/704 [==============================] - 1s 731us/step - loss: 0.4479 - accuracy: 0.8163\n",
      "Epoch 5/100\n",
      "704/704 [==============================] - 0s 692us/step - loss: 0.4448 - accuracy: 0.8162\n",
      "Epoch 6/100\n",
      "704/704 [==============================] - 0s 675us/step - loss: 0.4425 - accuracy: 0.8182\n",
      "Epoch 7/100\n",
      "704/704 [==============================] - 1s 722us/step - loss: 0.4407 - accuracy: 0.8186\n",
      "Epoch 8/100\n",
      "704/704 [==============================] - 1s 731us/step - loss: 0.4393 - accuracy: 0.8184\n",
      "Epoch 9/100\n",
      "704/704 [==============================] - 0s 708us/step - loss: 0.4379 - accuracy: 0.8190\n",
      "Epoch 10/100\n",
      "704/704 [==============================] - 1s 709us/step - loss: 0.4371 - accuracy: 0.8192\n",
      "Epoch 11/100\n",
      "704/704 [==============================] - 1s 723us/step - loss: 0.4366 - accuracy: 0.8204\n",
      "Epoch 12/100\n",
      "704/704 [==============================] - 1s 758us/step - loss: 0.4358 - accuracy: 0.8200\n",
      "Epoch 13/100\n",
      "704/704 [==============================] - 0s 692us/step - loss: 0.4355 - accuracy: 0.8210\n",
      "Epoch 14/100\n",
      "704/704 [==============================] - 0s 683us/step - loss: 0.4349 - accuracy: 0.8199\n",
      "Epoch 15/100\n",
      "704/704 [==============================] - 0s 677us/step - loss: 0.4344 - accuracy: 0.8203\n",
      "Epoch 16/100\n",
      "704/704 [==============================] - 0s 687us/step - loss: 0.4340 - accuracy: 0.8192\n",
      "Epoch 17/100\n",
      "704/704 [==============================] - 1s 731us/step - loss: 0.4338 - accuracy: 0.8202\n",
      "Epoch 18/100\n",
      "704/704 [==============================] - 1s 777us/step - loss: 0.4333 - accuracy: 0.8205\n",
      "Epoch 19/100\n",
      "704/704 [==============================] - 0s 697us/step - loss: 0.4329 - accuracy: 0.8208\n",
      "Epoch 20/100\n",
      "704/704 [==============================] - 0s 708us/step - loss: 0.4324 - accuracy: 0.8201\n",
      "Epoch 21/100\n",
      "704/704 [==============================] - 0s 708us/step - loss: 0.4324 - accuracy: 0.8211\n",
      "Epoch 22/100\n",
      "704/704 [==============================] - 0s 685us/step - loss: 0.4323 - accuracy: 0.8214\n",
      "Epoch 23/100\n",
      "704/704 [==============================] - 0s 692us/step - loss: 0.4317 - accuracy: 0.8206\n",
      "Epoch 24/100\n",
      "704/704 [==============================] - 1s 868us/step - loss: 0.4317 - accuracy: 0.8209\n",
      "Epoch 25/100\n",
      "704/704 [==============================] - 1s 945us/step - loss: 0.4312 - accuracy: 0.8209\n",
      "Epoch 26/100\n",
      "704/704 [==============================] - 1s 1ms/step - loss: 0.4308 - accuracy: 0.8225\n",
      "Epoch 27/100\n",
      "704/704 [==============================] - 1s 895us/step - loss: 0.4308 - accuracy: 0.8211\n",
      "Epoch 28/100\n",
      "704/704 [==============================] - 1s 823us/step - loss: 0.4306 - accuracy: 0.8219\n",
      "Epoch 29/100\n",
      "704/704 [==============================] - 1s 732us/step - loss: 0.4304 - accuracy: 0.8210\n",
      "Epoch 30/100\n",
      "704/704 [==============================] - 1s 810us/step - loss: 0.4303 - accuracy: 0.8216\n",
      "Epoch 31/100\n",
      "704/704 [==============================] - 1s 755us/step - loss: 0.4301 - accuracy: 0.8205\n",
      "Epoch 32/100\n",
      "704/704 [==============================] - 1s 710us/step - loss: 0.4296 - accuracy: 0.8214\n",
      "Epoch 33/100\n",
      "704/704 [==============================] - 0s 686us/step - loss: 0.4298 - accuracy: 0.8215\n",
      "Epoch 34/100\n",
      "704/704 [==============================] - 0s 674us/step - loss: 0.4296 - accuracy: 0.8212\n",
      "Epoch 35/100\n",
      "704/704 [==============================] - 0s 695us/step - loss: 0.4292 - accuracy: 0.8212\n",
      "Epoch 36/100\n",
      "704/704 [==============================] - 0s 691us/step - loss: 0.4293 - accuracy: 0.8209\n",
      "Epoch 37/100\n",
      "704/704 [==============================] - 1s 816us/step - loss: 0.4293 - accuracy: 0.8205\n",
      "Epoch 38/100\n",
      "704/704 [==============================] - 0s 685us/step - loss: 0.4288 - accuracy: 0.8205\n",
      "Epoch 39/100\n",
      "704/704 [==============================] - 0s 695us/step - loss: 0.4287 - accuracy: 0.8212\n",
      "Epoch 40/100\n",
      "704/704 [==============================] - 1s 729us/step - loss: 0.4288 - accuracy: 0.8221\n",
      "Epoch 41/100\n",
      "704/704 [==============================] - 0s 685us/step - loss: 0.4284 - accuracy: 0.8210\n",
      "Epoch 42/100\n",
      "704/704 [==============================] - 0s 680us/step - loss: 0.4283 - accuracy: 0.8217\n",
      "Epoch 43/100\n",
      "704/704 [==============================] - 0s 695us/step - loss: 0.4287 - accuracy: 0.8221\n",
      "Epoch 44/100\n",
      "704/704 [==============================] - 0s 686us/step - loss: 0.4277 - accuracy: 0.8209\n",
      "Epoch 45/100\n",
      "704/704 [==============================] - 0s 690us/step - loss: 0.4282 - accuracy: 0.8207\n",
      "Epoch 46/100\n",
      "704/704 [==============================] - 1s 710us/step - loss: 0.4277 - accuracy: 0.8208\n",
      "Epoch 47/100\n",
      "704/704 [==============================] - 0s 686us/step - loss: 0.4277 - accuracy: 0.8220\n",
      "Epoch 48/100\n",
      "704/704 [==============================] - 0s 683us/step - loss: 0.4279 - accuracy: 0.8224\n",
      "Epoch 49/100\n",
      "704/704 [==============================] - 0s 680us/step - loss: 0.4280 - accuracy: 0.8215\n",
      "Epoch 50/100\n",
      "704/704 [==============================] - 0s 677us/step - loss: 0.4277 - accuracy: 0.8204\n",
      "Epoch 51/100\n",
      "704/704 [==============================] - 0s 691us/step - loss: 0.4274 - accuracy: 0.8214\n",
      "Epoch 52/100\n",
      "704/704 [==============================] - 1s 951us/step - loss: 0.4276 - accuracy: 0.8221\n",
      "Epoch 53/100\n",
      "704/704 [==============================] - 1s 778us/step - loss: 0.4276 - accuracy: 0.8213\n",
      "Epoch 54/100\n",
      "704/704 [==============================] - 1s 736us/step - loss: 0.4277 - accuracy: 0.8215\n",
      "Epoch 55/100\n",
      "704/704 [==============================] - 0s 674us/step - loss: 0.4275 - accuracy: 0.8222\n",
      "Epoch 56/100\n",
      "704/704 [==============================] - 0s 667us/step - loss: 0.4271 - accuracy: 0.8216\n",
      "Epoch 57/100\n",
      "704/704 [==============================] - 1s 746us/step - loss: 0.4274 - accuracy: 0.8214\n",
      "Epoch 58/100\n",
      "704/704 [==============================] - 1s 753us/step - loss: 0.4271 - accuracy: 0.8217\n",
      "Epoch 59/100\n",
      "704/704 [==============================] - 0s 697us/step - loss: 0.4271 - accuracy: 0.8214\n",
      "Epoch 60/100\n",
      "704/704 [==============================] - 1s 890us/step - loss: 0.4270 - accuracy: 0.8213\n",
      "Epoch 61/100\n",
      "704/704 [==============================] - 0s 701us/step - loss: 0.4271 - accuracy: 0.8217\n",
      "Epoch 62/100\n",
      "704/704 [==============================] - 1s 741us/step - loss: 0.4270 - accuracy: 0.8215\n",
      "Epoch 63/100\n",
      "704/704 [==============================] - 0s 682us/step - loss: 0.4269 - accuracy: 0.8221\n",
      "Epoch 64/100\n",
      "704/704 [==============================] - 0s 690us/step - loss: 0.4267 - accuracy: 0.8216\n",
      "Epoch 65/100\n",
      "704/704 [==============================] - 0s 682us/step - loss: 0.4270 - accuracy: 0.8220\n",
      "Epoch 66/100\n",
      "704/704 [==============================] - 0s 702us/step - loss: 0.4267 - accuracy: 0.8209\n",
      "Epoch 67/100\n",
      "704/704 [==============================] - 0s 683us/step - loss: 0.4271 - accuracy: 0.8224\n",
      "Epoch 68/100\n",
      "704/704 [==============================] - 0s 678us/step - loss: 0.4268 - accuracy: 0.8217\n",
      "Epoch 69/100\n",
      "704/704 [==============================] - 0s 691us/step - loss: 0.4270 - accuracy: 0.8219\n",
      "Epoch 70/100\n",
      "704/704 [==============================] - 0s 689us/step - loss: 0.4270 - accuracy: 0.8217\n",
      "Epoch 71/100\n",
      "704/704 [==============================] - 1s 746us/step - loss: 0.4268 - accuracy: 0.8224\n",
      "Epoch 72/100\n",
      "704/704 [==============================] - 0s 702us/step - loss: 0.4269 - accuracy: 0.8218\n",
      "Epoch 73/100\n",
      "704/704 [==============================] - 1s 733us/step - loss: 0.4266 - accuracy: 0.8222\n",
      "Epoch 74/100\n",
      "704/704 [==============================] - 1s 728us/step - loss: 0.4270 - accuracy: 0.8219\n",
      "Epoch 75/100\n",
      "704/704 [==============================] - 1s 715us/step - loss: 0.4270 - accuracy: 0.8226\n",
      "Epoch 76/100\n",
      "704/704 [==============================] - 1s 715us/step - loss: 0.4265 - accuracy: 0.8213\n",
      "Epoch 77/100\n",
      "704/704 [==============================] - 0s 698us/step - loss: 0.4264 - accuracy: 0.8225\n",
      "Epoch 78/100\n",
      "704/704 [==============================] - 1s 714us/step - loss: 0.4267 - accuracy: 0.8209\n",
      "Epoch 79/100\n",
      "704/704 [==============================] - 1s 710us/step - loss: 0.4265 - accuracy: 0.8218\n",
      "Epoch 80/100\n",
      "704/704 [==============================] - 0s 703us/step - loss: 0.4262 - accuracy: 0.8230\n",
      "Epoch 81/100\n",
      "704/704 [==============================] - 0s 673us/step - loss: 0.4266 - accuracy: 0.8223\n",
      "Epoch 82/100\n",
      "704/704 [==============================] - 0s 688us/step - loss: 0.4265 - accuracy: 0.8220\n",
      "Epoch 83/100\n",
      "704/704 [==============================] - 0s 674us/step - loss: 0.4263 - accuracy: 0.8228\n",
      "Epoch 84/100\n",
      "704/704 [==============================] - 0s 678us/step - loss: 0.4264 - accuracy: 0.8222\n",
      "Epoch 85/100\n",
      "704/704 [==============================] - 0s 708us/step - loss: 0.4266 - accuracy: 0.8234\n",
      "Epoch 86/100\n",
      "704/704 [==============================] - 0s 686us/step - loss: 0.4262 - accuracy: 0.8225\n",
      "Epoch 87/100\n",
      "704/704 [==============================] - 0s 680us/step - loss: 0.4264 - accuracy: 0.8218\n",
      "Epoch 88/100\n",
      "704/704 [==============================] - 0s 686us/step - loss: 0.4264 - accuracy: 0.8219\n",
      "Epoch 89/100\n",
      "704/704 [==============================] - 1s 895us/step - loss: 0.4259 - accuracy: 0.8221\n",
      "Epoch 90/100\n",
      "704/704 [==============================] - 1s 710us/step - loss: 0.4263 - accuracy: 0.8226\n",
      "Epoch 91/100\n",
      "704/704 [==============================] - 0s 679us/step - loss: 0.4263 - accuracy: 0.8227\n",
      "Epoch 92/100\n",
      "704/704 [==============================] - 0s 674us/step - loss: 0.4263 - accuracy: 0.8219\n",
      "Epoch 93/100\n",
      "704/704 [==============================] - 1s 834us/step - loss: 0.4265 - accuracy: 0.8225\n",
      "Epoch 94/100\n",
      "704/704 [==============================] - 0s 701us/step - loss: 0.4258 - accuracy: 0.8226\n",
      "Epoch 95/100\n",
      "704/704 [==============================] - 0s 690us/step - loss: 0.4261 - accuracy: 0.8220\n",
      "Epoch 96/100\n",
      "704/704 [==============================] - 1s 717us/step - loss: 0.4263 - accuracy: 0.8222\n",
      "Epoch 97/100\n",
      "704/704 [==============================] - 0s 661us/step - loss: 0.4259 - accuracy: 0.8217\n",
      "Epoch 98/100\n",
      "704/704 [==============================] - 0s 664us/step - loss: 0.4262 - accuracy: 0.8222\n",
      "Epoch 99/100\n",
      "704/704 [==============================] - 0s 661us/step - loss: 0.4256 - accuracy: 0.8224\n",
      "Epoch 100/100\n",
      "704/704 [==============================] - 0s 686us/step - loss: 0.4258 - accuracy: 0.8224\n"
     ]
    }
   ],
   "source": [
    "# Fit the model using 100 epochs and the training data\n"
   ]
  },
  {
   "cell_type": "markdown",
   "metadata": {},
   "source": [
    "## Step 10: Plot the model’s loss function and accuracy over the 100 epochs."
   ]
  },
  {
   "cell_type": "code",
   "execution_count": 14,
   "metadata": {},
   "outputs": [],
   "source": [
    "# Create a DataFrame using the model history and an index parameter\n"
   ]
  },
  {
   "cell_type": "code",
   "execution_count": 15,
   "metadata": {},
   "outputs": [
    {
     "data": {
      "text/plain": [
       "<Axes: >"
      ]
     },
     "execution_count": 15,
     "metadata": {},
     "output_type": "execute_result"
    },
    {
     "data": {
      "image/png": "[encoded data removed]",
      "text/plain": [
       "<Figure size 432x288 with 1 Axes>"
      ]
     },
     "metadata": {
      "needs_background": "light"
     },
     "output_type": "display_data"
    }
   ],
   "source": [
    "# Visualize the model plot where the y-axis displays the loss metric\n"
   ]
  },
  {
   "cell_type": "code",
   "execution_count": 16,
   "metadata": {},
   "outputs": [
    {
     "data": {
      "text/plain": [
       "<Axes: >"
      ]
     },
     "execution_count": 16,
     "metadata": {},
     "output_type": "execute_result"
    },
    {
     "data": {
      "image/png": "[encoded data removed]",
      "text/plain": [
       "<Figure size 432x288 with 1 Axes>"
      ]
     },
     "metadata": {
      "needs_background": "light"
     },
     "output_type": "display_data"
    }
   ],
   "source": [
    "# Visualize the model plot where the y-axis displays the accuracy metric\n"
   ]
  },
  {
   "cell_type": "markdown",
   "metadata": {},
   "source": [
    "## Step 11: Evaluate the model using testing data and the `evaluate` method."
   ]
  },
  {
   "cell_type": "code",
   "execution_count": 17,
   "metadata": {},
   "outputs": [
    {
     "name": "stdout",
     "output_type": "stream",
     "text": [
      "235/235 - 0s - loss: 0.4372 - accuracy: 0.8153 - 211ms/epoch - 897us/step\n",
      "Loss: 0.437156617641449, Accuracy: 0.8153333067893982\n"
     ]
    }
   ],
   "source": [
    "# Evaluate the model loss and accuracy metrics using the evaluate method and the test data\n",
    "\n",
    "\n",
    "# Display the evaluation results\n"
   ]
  },
  {
   "cell_type": "markdown",
   "metadata": {},
   "source": [
    "## Step 12: Use the model and your scaled `X` test data to predict the `y` values for the test data."
   ]
  },
  {
   "cell_type": "code",
   "execution_count": 18,
   "metadata": {},
   "outputs": [
    {
     "name": "stdout",
     "output_type": "stream",
     "text": [
      "235/235 [==============================] - 0s 498us/step\n"
     ]
    }
   ],
   "source": [
    "# Make predictions on test data\n"
   ]
  },
  {
   "cell_type": "markdown",
   "metadata": {},
   "source": [
    "## Step 13: Create a dataframe that includes the predicted `y` values and the actual `y` values. Display a sample of this dataframe."
   ]
  },
  {
   "cell_type": "code",
   "execution_count": 23,
   "metadata": {},
   "outputs": [
    {
     "data": {
      "text/html": [
       "<div>\n",
       "<style scoped>\n",
       "    .dataframe tbody tr th:only-of-type {\n",
       "        vertical-align: middle;\n",
       "    }\n",
       "\n",
       "    .dataframe tbody tr th {\n",
       "        vertical-align: top;\n",
       "    }\n",
       "\n",
       "    .dataframe thead th {\n",
       "        text-align: right;\n",
       "    }\n",
       "</style>\n",
       "<table border=\"1\" class=\"dataframe\">\n",
       "  <thead>\n",
       "    <tr style=\"text-align: right;\">\n",
       "      <th></th>\n",
       "      <th>predictions</th>\n",
       "      <th>actual</th>\n",
       "    </tr>\n",
       "  </thead>\n",
       "  <tbody>\n",
       "    <tr>\n",
       "      <th>10747</th>\n",
       "      <td>0</td>\n",
       "      <td>0</td>\n",
       "    </tr>\n",
       "    <tr>\n",
       "      <th>12573</th>\n",
       "      <td>0</td>\n",
       "      <td>1</td>\n",
       "    </tr>\n",
       "    <tr>\n",
       "      <th>29676</th>\n",
       "      <td>0</td>\n",
       "      <td>0</td>\n",
       "    </tr>\n",
       "    <tr>\n",
       "      <th>8856</th>\n",
       "      <td>1</td>\n",
       "      <td>1</td>\n",
       "    </tr>\n",
       "    <tr>\n",
       "      <th>21098</th>\n",
       "      <td>0</td>\n",
       "      <td>0</td>\n",
       "    </tr>\n",
       "    <tr>\n",
       "      <th>17458</th>\n",
       "      <td>0</td>\n",
       "      <td>0</td>\n",
       "    </tr>\n",
       "    <tr>\n",
       "      <th>1476</th>\n",
       "      <td>0</td>\n",
       "      <td>0</td>\n",
       "    </tr>\n",
       "    <tr>\n",
       "      <th>5120</th>\n",
       "      <td>0</td>\n",
       "      <td>0</td>\n",
       "    </tr>\n",
       "    <tr>\n",
       "      <th>18338</th>\n",
       "      <td>0</td>\n",
       "      <td>0</td>\n",
       "    </tr>\n",
       "    <tr>\n",
       "      <th>28279</th>\n",
       "      <td>0</td>\n",
       "      <td>0</td>\n",
       "    </tr>\n",
       "    <tr>\n",
       "      <th>1684</th>\n",
       "      <td>0</td>\n",
       "      <td>0</td>\n",
       "    </tr>\n",
       "    <tr>\n",
       "      <th>20371</th>\n",
       "      <td>0</td>\n",
       "      <td>1</td>\n",
       "    </tr>\n",
       "    <tr>\n",
       "      <th>3608</th>\n",
       "      <td>0</td>\n",
       "      <td>0</td>\n",
       "    </tr>\n",
       "    <tr>\n",
       "      <th>13012</th>\n",
       "      <td>0</td>\n",
       "      <td>0</td>\n",
       "    </tr>\n",
       "    <tr>\n",
       "      <th>6793</th>\n",
       "      <td>0</td>\n",
       "      <td>0</td>\n",
       "    </tr>\n",
       "    <tr>\n",
       "      <th>5416</th>\n",
       "      <td>0</td>\n",
       "      <td>0</td>\n",
       "    </tr>\n",
       "    <tr>\n",
       "      <th>21810</th>\n",
       "      <td>1</td>\n",
       "      <td>1</td>\n",
       "    </tr>\n",
       "    <tr>\n",
       "      <th>13638</th>\n",
       "      <td>0</td>\n",
       "      <td>0</td>\n",
       "    </tr>\n",
       "    <tr>\n",
       "      <th>7526</th>\n",
       "      <td>0</td>\n",
       "      <td>0</td>\n",
       "    </tr>\n",
       "    <tr>\n",
       "      <th>17945</th>\n",
       "      <td>0</td>\n",
       "      <td>0</td>\n",
       "    </tr>\n",
       "  </tbody>\n",
       "</table>\n",
       "</div>"
      ],
      "text/plain": [
       "       predictions  actual\n",
       "10747            0       0\n",
       "12573            0       1\n",
       "29676            0       0\n",
       "8856             1       1\n",
       "21098            0       0\n",
       "17458            0       0\n",
       "1476             0       0\n",
       "5120             0       0\n",
       "18338            0       0\n",
       "28279            0       0\n",
       "1684             0       0\n",
       "20371            0       1\n",
       "3608             0       0\n",
       "13012            0       0\n",
       "6793             0       0\n",
       "5416             0       0\n",
       "21810            1       1\n",
       "13638            0       0\n",
       "7526             0       0\n",
       "17945            0       0"
      ]
     },
     "execution_count": 23,
     "metadata": {},
     "output_type": "execute_result"
    }
   ],
   "source": [
    "# Create a DataFrame to compare the predictions with the actual values\n",
    "\n",
    "\n",
    "# Display sample data\n"
   ]
  },
  {
   "cell_type": "markdown",
   "metadata": {},
   "source": [
    "## Step 14: Use the results of steps 12 and 13 to consider how well your model performed on the unseen test data. How accurate were the results? Can you think of any ways you might improve the model accuracy?"
   ]
  }
 ],
 "metadata": {
  "file_extension": ".py",
  "kernelspec": {
   "display_name": "Python 3 (ipykernel)",
   "language": "python",
   "name": "python3"
  },
  "language_info": {
   "codemirror_mode": {
    "name": "ipython",
    "version": 3
   },
   "file_extension": ".py",
   "mimetype": "text/x-python",
   "name": "python",
   "nbconvert_exporter": "python",
   "pygments_lexer": "ipython3",
   "version": "3.10.10"
  },
  "mimetype": "text/x-python",
  "name": "python",
  "npconvert_exporter": "python",
  "pygments_lexer": "ipython3",
  "version": 3
 },
 "nbformat": 4,
 "nbformat_minor": 4
}
