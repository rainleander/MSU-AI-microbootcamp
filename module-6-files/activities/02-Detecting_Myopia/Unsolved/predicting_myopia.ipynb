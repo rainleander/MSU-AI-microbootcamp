{
 "cells": [
  {
   "cell_type": "markdown",
   "metadata": {},
   "source": [
    "# Predicting Myopia\n",
    "\n",
    "In this activity, you'll use a deep learning model to predict whether a person has myopia."
   ]
  },
  {
   "cell_type": "code",
   "execution_count": 1,
   "metadata": {
    "colab": {
     "base_uri": "https://localhost:8080/",
     "height": 204
    },
    "id": "8LOf4mvV2nlf",
    "outputId": "d6b51881-042b-4315-ea98-f922d5e01f96"
   },
   "outputs": [
    {
     "name": "stderr",
     "output_type": "stream",
     "text": [
      "2023-04-17 11:26:31.223814: I tensorflow/core/platform/cpu_feature_guard.cc:182] This TensorFlow binary is optimized to use available CPU instructions in performance-critical operations.\n",
      "To enable the following instructions: AVX2 FMA, in other operations, rebuild TensorFlow with the appropriate compiler flags.\n"
     ]
    }
   ],
   "source": [
    "# Import our dependencies\n",
    "from sklearn.model_selection import train_test_split\n",
    "from sklearn.preprocessing import StandardScaler\n",
    "from sklearn.metrics import accuracy_score\n",
    "import pandas as pd\n",
    "import tensorflow as tf"
   ]
  },
  {
   "cell_type": "code",
   "execution_count": 2,
   "metadata": {},
   "outputs": [
    {
     "data": {
      "text/html": [
       "<div>\n",
       "<style scoped>\n",
       "    .dataframe tbody tr th:only-of-type {\n",
       "        vertical-align: middle;\n",
       "    }\n",
       "\n",
       "    .dataframe tbody tr th {\n",
       "        vertical-align: top;\n",
       "    }\n",
       "\n",
       "    .dataframe thead th {\n",
       "        text-align: right;\n",
       "    }\n",
       "</style>\n",
       "<table border=\"1\" class=\"dataframe\">\n",
       "  <thead>\n",
       "    <tr style=\"text-align: right;\">\n",
       "      <th></th>\n",
       "      <th>AGE</th>\n",
       "      <th>SPHEQ</th>\n",
       "      <th>AL</th>\n",
       "      <th>ACD</th>\n",
       "      <th>LT</th>\n",
       "      <th>VCD</th>\n",
       "      <th>SPORTHR</th>\n",
       "      <th>READHR</th>\n",
       "      <th>COMPHR</th>\n",
       "      <th>STUDYHR</th>\n",
       "      <th>TVHR</th>\n",
       "      <th>DIOPTERHR</th>\n",
       "      <th>MOMMY</th>\n",
       "      <th>DADMY</th>\n",
       "      <th>MYOPIC</th>\n",
       "    </tr>\n",
       "  </thead>\n",
       "  <tbody>\n",
       "    <tr>\n",
       "      <th>0</th>\n",
       "      <td>6</td>\n",
       "      <td>-0.052</td>\n",
       "      <td>21.889999</td>\n",
       "      <td>3.690</td>\n",
       "      <td>3.498</td>\n",
       "      <td>14.70</td>\n",
       "      <td>45</td>\n",
       "      <td>8</td>\n",
       "      <td>0</td>\n",
       "      <td>0</td>\n",
       "      <td>10</td>\n",
       "      <td>34</td>\n",
       "      <td>1</td>\n",
       "      <td>1</td>\n",
       "      <td>1</td>\n",
       "    </tr>\n",
       "    <tr>\n",
       "      <th>1</th>\n",
       "      <td>6</td>\n",
       "      <td>0.608</td>\n",
       "      <td>22.379999</td>\n",
       "      <td>3.702</td>\n",
       "      <td>3.392</td>\n",
       "      <td>15.29</td>\n",
       "      <td>4</td>\n",
       "      <td>0</td>\n",
       "      <td>1</td>\n",
       "      <td>1</td>\n",
       "      <td>7</td>\n",
       "      <td>12</td>\n",
       "      <td>1</td>\n",
       "      <td>1</td>\n",
       "      <td>0</td>\n",
       "    </tr>\n",
       "    <tr>\n",
       "      <th>2</th>\n",
       "      <td>6</td>\n",
       "      <td>1.179</td>\n",
       "      <td>22.490000</td>\n",
       "      <td>3.462</td>\n",
       "      <td>3.514</td>\n",
       "      <td>15.52</td>\n",
       "      <td>14</td>\n",
       "      <td>0</td>\n",
       "      <td>2</td>\n",
       "      <td>0</td>\n",
       "      <td>10</td>\n",
       "      <td>14</td>\n",
       "      <td>0</td>\n",
       "      <td>0</td>\n",
       "      <td>0</td>\n",
       "    </tr>\n",
       "    <tr>\n",
       "      <th>3</th>\n",
       "      <td>6</td>\n",
       "      <td>0.525</td>\n",
       "      <td>22.200001</td>\n",
       "      <td>3.862</td>\n",
       "      <td>3.612</td>\n",
       "      <td>14.73</td>\n",
       "      <td>18</td>\n",
       "      <td>11</td>\n",
       "      <td>0</td>\n",
       "      <td>0</td>\n",
       "      <td>4</td>\n",
       "      <td>37</td>\n",
       "      <td>0</td>\n",
       "      <td>1</td>\n",
       "      <td>1</td>\n",
       "    </tr>\n",
       "    <tr>\n",
       "      <th>4</th>\n",
       "      <td>5</td>\n",
       "      <td>0.697</td>\n",
       "      <td>23.290001</td>\n",
       "      <td>3.676</td>\n",
       "      <td>3.454</td>\n",
       "      <td>16.16</td>\n",
       "      <td>14</td>\n",
       "      <td>0</td>\n",
       "      <td>0</td>\n",
       "      <td>0</td>\n",
       "      <td>4</td>\n",
       "      <td>4</td>\n",
       "      <td>1</td>\n",
       "      <td>0</td>\n",
       "      <td>0</td>\n",
       "    </tr>\n",
       "  </tbody>\n",
       "</table>\n",
       "</div>"
      ],
      "text/plain": [
       "   AGE  SPHEQ         AL    ACD     LT    VCD  SPORTHR  READHR  COMPHR  \\\n",
       "0    6 -0.052  21.889999  3.690  3.498  14.70       45       8       0   \n",
       "1    6  0.608  22.379999  3.702  3.392  15.29        4       0       1   \n",
       "2    6  1.179  22.490000  3.462  3.514  15.52       14       0       2   \n",
       "3    6  0.525  22.200001  3.862  3.612  14.73       18      11       0   \n",
       "4    5  0.697  23.290001  3.676  3.454  16.16       14       0       0   \n",
       "\n",
       "   STUDYHR  TVHR  DIOPTERHR  MOMMY  DADMY  MYOPIC  \n",
       "0        0    10         34      1      1       1  \n",
       "1        1     7         12      1      1       0  \n",
       "2        0    10         14      0      0       0  \n",
       "3        0     4         37      0      1       1  \n",
       "4        0     4          4      1      0       0  "
      ]
     },
     "execution_count": 2,
     "metadata": {},
     "output_type": "execute_result"
    }
   ],
   "source": [
    "# Import our input dataset\n",
    "file_path = \"https://static.bc-edx.com/mbc/ai/m6/datasets/myopia.csv\"\n",
    "\n",
    "\n",
    "# Display sample data\n"
   ]
  },
  {
   "cell_type": "code",
   "execution_count": 3,
   "metadata": {
    "id": "6mnUA9Jz2nlp"
   },
   "outputs": [],
   "source": [
    "# Create the features and target sets\n"
   ]
  },
  {
   "cell_type": "code",
   "execution_count": 4,
   "metadata": {
    "id": "reOMnWTW2nlq"
   },
   "outputs": [],
   "source": [
    "# Preprocess numerical data for neural network\n",
    "\n",
    "# Create a StandardScaler instances\n",
    "\n",
    "\n",
    "# Scale the data\n"
   ]
  },
  {
   "cell_type": "code",
   "execution_count": 5,
   "metadata": {},
   "outputs": [],
   "source": [
    "# Split training/test datasets\n"
   ]
  },
  {
   "cell_type": "code",
   "execution_count": 6,
   "metadata": {
    "colab": {
     "base_uri": "https://localhost:8080/"
    },
    "id": "gJP8qIlU2nlq",
    "outputId": "96c0759d-3ac4-4cb1-c3b2-bd2f50ac50f0"
   },
   "outputs": [],
   "source": [
    "# Define the deep learning model \n"
   ]
  },
  {
   "cell_type": "code",
   "execution_count": 7,
   "metadata": {
    "id": "mUleMxww2nlr"
   },
   "outputs": [],
   "source": [
    "# Compile the Sequential model together and customize metrics\n"
   ]
  },
  {
   "cell_type": "code",
   "execution_count": 8,
   "metadata": {},
   "outputs": [
    {
     "name": "stdout",
     "output_type": "stream",
     "text": [
      "Epoch 1/50\n",
      "15/15 [==============================] - 0s 1ms/step - loss: 0.6265 - accuracy: 0.6631\n",
      "Epoch 2/50\n",
      "15/15 [==============================] - 0s 968us/step - loss: 0.5300 - accuracy: 0.8143\n",
      "Epoch 3/50\n",
      "15/15 [==============================] - 0s 889us/step - loss: 0.4666 - accuracy: 0.8596\n",
      "Epoch 4/50\n",
      "15/15 [==============================] - 0s 892us/step - loss: 0.4312 - accuracy: 0.8683\n",
      "Epoch 5/50\n",
      "15/15 [==============================] - 0s 921us/step - loss: 0.4106 - accuracy: 0.8683\n",
      "Epoch 6/50\n",
      "15/15 [==============================] - 0s 900us/step - loss: 0.3963 - accuracy: 0.8683\n",
      "Epoch 7/50\n",
      "15/15 [==============================] - 0s 928us/step - loss: 0.3858 - accuracy: 0.8683\n",
      "Epoch 8/50\n",
      "15/15 [==============================] - 0s 900us/step - loss: 0.3773 - accuracy: 0.8683\n",
      "Epoch 9/50\n",
      "15/15 [==============================] - 0s 958us/step - loss: 0.3703 - accuracy: 0.8683\n",
      "Epoch 10/50\n",
      "15/15 [==============================] - 0s 932us/step - loss: 0.3634 - accuracy: 0.8683\n",
      "Epoch 11/50\n",
      "15/15 [==============================] - 0s 944us/step - loss: 0.3572 - accuracy: 0.8683\n",
      "Epoch 12/50\n",
      "15/15 [==============================] - 0s 932us/step - loss: 0.3514 - accuracy: 0.8683\n",
      "Epoch 13/50\n",
      "15/15 [==============================] - 0s 924us/step - loss: 0.3461 - accuracy: 0.8683\n",
      "Epoch 14/50\n",
      "15/15 [==============================] - 0s 938us/step - loss: 0.3410 - accuracy: 0.8683\n",
      "Epoch 15/50\n",
      "15/15 [==============================] - 0s 932us/step - loss: 0.3364 - accuracy: 0.8683\n",
      "Epoch 16/50\n",
      "15/15 [==============================] - 0s 907us/step - loss: 0.3317 - accuracy: 0.8683\n",
      "Epoch 17/50\n",
      "15/15 [==============================] - 0s 911us/step - loss: 0.3272 - accuracy: 0.8683\n",
      "Epoch 18/50\n",
      "15/15 [==============================] - 0s 931us/step - loss: 0.3227 - accuracy: 0.8704\n",
      "Epoch 19/50\n",
      "15/15 [==============================] - 0s 915us/step - loss: 0.3187 - accuracy: 0.8704\n",
      "Epoch 20/50\n",
      "15/15 [==============================] - 0s 906us/step - loss: 0.3146 - accuracy: 0.8683\n",
      "Epoch 21/50\n",
      "15/15 [==============================] - 0s 905us/step - loss: 0.3102 - accuracy: 0.8683\n",
      "Epoch 22/50\n",
      "15/15 [==============================] - 0s 902us/step - loss: 0.3070 - accuracy: 0.8726\n",
      "Epoch 23/50\n",
      "15/15 [==============================] - 0s 918us/step - loss: 0.3034 - accuracy: 0.8747\n",
      "Epoch 24/50\n",
      "15/15 [==============================] - 0s 931us/step - loss: 0.3000 - accuracy: 0.8747\n",
      "Epoch 25/50\n",
      "15/15 [==============================] - 0s 904us/step - loss: 0.2964 - accuracy: 0.8769\n",
      "Epoch 26/50\n",
      "15/15 [==============================] - 0s 932us/step - loss: 0.2938 - accuracy: 0.8769\n",
      "Epoch 27/50\n",
      "15/15 [==============================] - 0s 961us/step - loss: 0.2903 - accuracy: 0.8769\n",
      "Epoch 28/50\n",
      "15/15 [==============================] - 0s 966us/step - loss: 0.2871 - accuracy: 0.8747\n",
      "Epoch 29/50\n",
      "15/15 [==============================] - 0s 924us/step - loss: 0.2840 - accuracy: 0.8790\n",
      "Epoch 30/50\n",
      "15/15 [==============================] - 0s 922us/step - loss: 0.2814 - accuracy: 0.8790\n",
      "Epoch 31/50\n",
      "15/15 [==============================] - 0s 930us/step - loss: 0.2778 - accuracy: 0.8834\n",
      "Epoch 32/50\n",
      "15/15 [==============================] - 0s 923us/step - loss: 0.2757 - accuracy: 0.8834\n",
      "Epoch 33/50\n",
      "15/15 [==============================] - 0s 951us/step - loss: 0.2737 - accuracy: 0.8855\n",
      "Epoch 34/50\n",
      "15/15 [==============================] - 0s 965us/step - loss: 0.2700 - accuracy: 0.8942\n",
      "Epoch 35/50\n",
      "15/15 [==============================] - 0s 940us/step - loss: 0.2673 - accuracy: 0.8942\n",
      "Epoch 36/50\n",
      "15/15 [==============================] - 0s 946us/step - loss: 0.2653 - accuracy: 0.8942\n",
      "Epoch 37/50\n",
      "15/15 [==============================] - 0s 946us/step - loss: 0.2631 - accuracy: 0.8942\n",
      "Epoch 38/50\n",
      "15/15 [==============================] - 0s 960us/step - loss: 0.2609 - accuracy: 0.8942\n",
      "Epoch 39/50\n",
      "15/15 [==============================] - 0s 933us/step - loss: 0.2599 - accuracy: 0.8898\n",
      "Epoch 40/50\n",
      "15/15 [==============================] - 0s 938us/step - loss: 0.2562 - accuracy: 0.8898\n",
      "Epoch 41/50\n",
      "15/15 [==============================] - 0s 938us/step - loss: 0.2550 - accuracy: 0.8942\n",
      "Epoch 42/50\n",
      "15/15 [==============================] - 0s 932us/step - loss: 0.2526 - accuracy: 0.8942\n",
      "Epoch 43/50\n",
      "15/15 [==============================] - 0s 933us/step - loss: 0.2516 - accuracy: 0.8963\n",
      "Epoch 44/50\n",
      "15/15 [==============================] - 0s 950us/step - loss: 0.2497 - accuracy: 0.8963\n",
      "Epoch 45/50\n",
      "15/15 [==============================] - 0s 968us/step - loss: 0.2487 - accuracy: 0.8985\n",
      "Epoch 46/50\n",
      "15/15 [==============================] - 0s 941us/step - loss: 0.2455 - accuracy: 0.9028\n",
      "Epoch 47/50\n",
      "15/15 [==============================] - 0s 947us/step - loss: 0.2450 - accuracy: 0.9028\n",
      "Epoch 48/50\n",
      "15/15 [==============================] - 0s 973us/step - loss: 0.2417 - accuracy: 0.9050\n",
      "Epoch 49/50\n",
      "15/15 [==============================] - 0s 946us/step - loss: 0.2411 - accuracy: 0.8985\n",
      "Epoch 50/50\n",
      "15/15 [==============================] - 0s 935us/step - loss: 0.2401 - accuracy: 0.8985\n"
     ]
    }
   ],
   "source": [
    "# Train the model\n"
   ]
  },
  {
   "cell_type": "code",
   "execution_count": 9,
   "metadata": {},
   "outputs": [
    {
     "name": "stdout",
     "output_type": "stream",
     "text": [
      "5/5 - 0s - loss: 0.2447 - accuracy: 0.9161 - 114ms/epoch - 23ms/step\n",
      "Loss: 0.24467287957668304, Accuracy: 0.9161290526390076\n"
     ]
    }
   ],
   "source": [
    "# Evaluate the model using the test data\n"
   ]
  },
  {
   "cell_type": "code",
   "execution_count": 10,
   "metadata": {},
   "outputs": [
    {
     "name": "stdout",
     "output_type": "stream",
     "text": [
      "5/5 [==============================] - 0s 902us/step\n"
     ]
    }
   ],
   "source": [
    "# Make predictions on the test data\n"
   ]
  },
  {
   "cell_type": "code",
   "execution_count": 11,
   "metadata": {},
   "outputs": [
    {
     "data": {
      "text/html": [
       "<div>\n",
       "<style scoped>\n",
       "    .dataframe tbody tr th:only-of-type {\n",
       "        vertical-align: middle;\n",
       "    }\n",
       "\n",
       "    .dataframe tbody tr th {\n",
       "        vertical-align: top;\n",
       "    }\n",
       "\n",
       "    .dataframe thead th {\n",
       "        text-align: right;\n",
       "    }\n",
       "</style>\n",
       "<table border=\"1\" class=\"dataframe\">\n",
       "  <thead>\n",
       "    <tr style=\"text-align: right;\">\n",
       "      <th></th>\n",
       "      <th>predictions</th>\n",
       "      <th>actual</th>\n",
       "    </tr>\n",
       "  </thead>\n",
       "  <tbody>\n",
       "    <tr>\n",
       "      <th>0</th>\n",
       "      <td>1</td>\n",
       "      <td>1</td>\n",
       "    </tr>\n",
       "    <tr>\n",
       "      <th>1</th>\n",
       "      <td>0</td>\n",
       "      <td>0</td>\n",
       "    </tr>\n",
       "    <tr>\n",
       "      <th>2</th>\n",
       "      <td>0</td>\n",
       "      <td>1</td>\n",
       "    </tr>\n",
       "    <tr>\n",
       "      <th>3</th>\n",
       "      <td>1</td>\n",
       "      <td>1</td>\n",
       "    </tr>\n",
       "    <tr>\n",
       "      <th>4</th>\n",
       "      <td>0</td>\n",
       "      <td>0</td>\n",
       "    </tr>\n",
       "    <tr>\n",
       "      <th>5</th>\n",
       "      <td>0</td>\n",
       "      <td>0</td>\n",
       "    </tr>\n",
       "    <tr>\n",
       "      <th>6</th>\n",
       "      <td>0</td>\n",
       "      <td>0</td>\n",
       "    </tr>\n",
       "    <tr>\n",
       "      <th>7</th>\n",
       "      <td>0</td>\n",
       "      <td>0</td>\n",
       "    </tr>\n",
       "    <tr>\n",
       "      <th>8</th>\n",
       "      <td>0</td>\n",
       "      <td>0</td>\n",
       "    </tr>\n",
       "    <tr>\n",
       "      <th>9</th>\n",
       "      <td>0</td>\n",
       "      <td>0</td>\n",
       "    </tr>\n",
       "  </tbody>\n",
       "</table>\n",
       "</div>"
      ],
      "text/plain": [
       "   predictions  actual\n",
       "0            1       1\n",
       "1            0       0\n",
       "2            0       1\n",
       "3            1       1\n",
       "4            0       0\n",
       "5            0       0\n",
       "6            0       0\n",
       "7            0       0\n",
       "8            0       0\n",
       "9            0       0"
      ]
     },
     "execution_count": 11,
     "metadata": {},
     "output_type": "execute_result"
    }
   ],
   "source": [
    "# Create a DataFrame to compare the predictions with the actual values\n",
    "\n",
    "\n",
    "# Display sample data\n"
   ]
  }
 ],
 "metadata": {
  "colab": {
   "name": "DetectingDiabetes.ipynb",
   "provenance": []
  },
  "kernelspec": {
   "display_name": "Python 3 (ipykernel)",
   "language": "python",
   "name": "python3"
  },
  "language_info": {
   "codemirror_mode": {
    "name": "ipython",
    "version": 3
   },
   "file_extension": ".py",
   "mimetype": "text/x-python",
   "name": "python",
   "nbconvert_exporter": "python",
   "pygments_lexer": "ipython3",
   "version": "3.10.10"
  }
 },
 "nbformat": 4,
 "nbformat_minor": 4
}
