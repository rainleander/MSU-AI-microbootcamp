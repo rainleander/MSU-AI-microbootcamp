{
 "cells": [
  {
   "cell_type": "markdown",
   "metadata": {},
   "source": [
    "# Make Predictions with a Neural Network"
   ]
  },
  {
   "cell_type": "code",
   "execution_count": 1,
   "metadata": {},
   "outputs": [
    {
     "name": "stderr",
     "output_type": "stream",
     "text": [
      "2023-04-14 11:58:37.557436: I tensorflow/core/platform/cpu_feature_guard.cc:182] This TensorFlow binary is optimized to use available CPU instructions in performance-critical operations.\n",
      "To enable the following instructions: AVX2 FMA, in other operations, rebuild TensorFlow with the appropriate compiler flags.\n"
     ]
    }
   ],
   "source": [
    "# Initial imports\n",
    "import pandas as pd\n",
    "from sklearn.datasets import make_blobs\n",
    "from sklearn.preprocessing import StandardScaler\n",
    "from sklearn.model_selection import train_test_split\n",
    "\n",
    "# Keras modules\n",
    "from tensorflow.keras.models import Sequential\n",
    "from tensorflow.keras.layers import Dense"
   ]
  },
  {
   "cell_type": "markdown",
   "metadata": {},
   "source": [
    "## Data Generation and Preprocessing"
   ]
  },
  {
   "cell_type": "code",
   "execution_count": 2,
   "metadata": {},
   "outputs": [],
   "source": [
    "# Generate 1000 demo data samples with 2 features and two centers\n",
    "X, y = make_blobs(n_samples=1000, centers=2, n_features=2, random_state=1)"
   ]
  },
  {
   "cell_type": "code",
   "execution_count": 3,
   "metadata": {},
   "outputs": [
    {
     "data": {
      "text/plain": [
       "(1000, 1)"
      ]
     },
     "execution_count": 3,
     "metadata": {},
     "output_type": "execute_result"
    }
   ],
   "source": [
    "# Transforming y to a vertical vector\n",
    "y = y.reshape(-1, 1)\n",
    "y.shape"
   ]
  },
  {
   "cell_type": "code",
   "execution_count": 4,
   "metadata": {},
   "outputs": [
    {
     "data": {
      "text/html": [
       "<div>\n",
       "<style scoped>\n",
       "    .dataframe tbody tr th:only-of-type {\n",
       "        vertical-align: middle;\n",
       "    }\n",
       "\n",
       "    .dataframe tbody tr th {\n",
       "        vertical-align: top;\n",
       "    }\n",
       "\n",
       "    .dataframe thead th {\n",
       "        text-align: right;\n",
       "    }\n",
       "</style>\n",
       "<table border=\"1\" class=\"dataframe\">\n",
       "  <thead>\n",
       "    <tr style=\"text-align: right;\">\n",
       "      <th></th>\n",
       "      <th>Feature 1</th>\n",
       "      <th>Feature 2</th>\n",
       "      <th>Target</th>\n",
       "    </tr>\n",
       "  </thead>\n",
       "  <tbody>\n",
       "    <tr>\n",
       "      <th>0</th>\n",
       "      <td>-3.058373</td>\n",
       "      <td>4.488258</td>\n",
       "      <td>0</td>\n",
       "    </tr>\n",
       "    <tr>\n",
       "      <th>1</th>\n",
       "      <td>-8.609739</td>\n",
       "      <td>-3.727149</td>\n",
       "      <td>1</td>\n",
       "    </tr>\n",
       "    <tr>\n",
       "      <th>2</th>\n",
       "      <td>1.371297</td>\n",
       "      <td>5.231074</td>\n",
       "      <td>0</td>\n",
       "    </tr>\n",
       "    <tr>\n",
       "      <th>3</th>\n",
       "      <td>-9.339176</td>\n",
       "      <td>-2.954447</td>\n",
       "      <td>1</td>\n",
       "    </tr>\n",
       "    <tr>\n",
       "      <th>4</th>\n",
       "      <td>-11.571786</td>\n",
       "      <td>-3.852755</td>\n",
       "      <td>1</td>\n",
       "    </tr>\n",
       "  </tbody>\n",
       "</table>\n",
       "</div>"
      ],
      "text/plain": [
       "   Feature 1  Feature 2  Target\n",
       "0  -3.058373   4.488258       0\n",
       "1  -8.609739  -3.727149       1\n",
       "2   1.371297   5.231074       0\n",
       "3  -9.339176  -2.954447       1\n",
       "4 -11.571786  -3.852755       1"
      ]
     },
     "execution_count": 4,
     "metadata": {},
     "output_type": "execute_result"
    }
   ],
   "source": [
    "# Creating a DataFrame with the dummy data\n",
    "df = pd.DataFrame(X, columns=[\"Feature 1\", \"Feature 2\"])\n",
    "df[\"Target\"] = y\n",
    "df.head()"
   ]
  },
  {
   "cell_type": "code",
   "execution_count": 5,
   "metadata": {},
   "outputs": [
    {
     "data": {
      "text/plain": [
       "<Axes: xlabel='Feature 1', ylabel='Feature 2'>"
      ]
     },
     "execution_count": 5,
     "metadata": {},
     "output_type": "execute_result"
    },
    {
     "data": {
      "image/png": "[encoded data removed]",
      "text/plain": [
       "<Figure size 432x288 with 2 Axes>"
      ]
     },
     "metadata": {
      "needs_background": "light"
     },
     "output_type": "display_data"
    }
   ],
   "source": [
    "# Plotting the dummy data\n",
    "df.plot.scatter(x=\"Feature 1\", y=\"Feature 2\", c=\"Target\", colormap=\"winter\")"
   ]
  },
  {
   "cell_type": "code",
   "execution_count": 6,
   "metadata": {},
   "outputs": [],
   "source": [
    "# Create training and testing datasets\n",
    "X_train, X_test, y_train, y_test = train_test_split(X, y, random_state=1)"
   ]
  },
  {
   "cell_type": "code",
   "execution_count": 7,
   "metadata": {},
   "outputs": [],
   "source": [
    "# Create scaler instance\n",
    "X_scaler = StandardScaler()\n",
    "\n",
    "# Fit the scaler\n",
    "X_scaler.fit(X_train)\n",
    "\n",
    "# Scale the data\n",
    "X_train_scaled = X_scaler.transform(X_train)\n",
    "X_test_scaled = X_scaler.transform(X_test)"
   ]
  },
  {
   "cell_type": "markdown",
   "metadata": {},
   "source": [
    "## Creating a Neural Network Model"
   ]
  },
  {
   "cell_type": "code",
   "execution_count": 8,
   "metadata": {},
   "outputs": [],
   "source": [
    "# Create a sequential neural network model\n",
    "neuron = Sequential()"
   ]
  },
  {
   "cell_type": "code",
   "execution_count": 9,
   "metadata": {},
   "outputs": [],
   "source": [
    "# Add the input and the hidden layer to the model\n",
    "number_inputs = 2\n",
    "number_hidden_nodes = 1\n",
    "\n",
    "neuron.add(Dense(units=number_hidden_nodes, activation=\"relu\", input_dim=number_inputs))"
   ]
  },
  {
   "cell_type": "code",
   "execution_count": 10,
   "metadata": {},
   "outputs": [],
   "source": [
    "# Add the output layer\n",
    "number_classes = 1\n",
    "\n",
    "neuron.add(Dense(units=number_classes, activation=\"sigmoid\"))"
   ]
  },
  {
   "cell_type": "code",
   "execution_count": 11,
   "metadata": {},
   "outputs": [
    {
     "name": "stdout",
     "output_type": "stream",
     "text": [
      "Model: \"sequential\"\n",
      "_________________________________________________________________\n",
      " Layer (type)                Output Shape              Param #   \n",
      "=================================================================\n",
      " dense (Dense)               (None, 1)                 3         \n",
      "                                                                 \n",
      " dense_1 (Dense)             (None, 1)                 2         \n",
      "                                                                 \n",
      "=================================================================\n",
      "Total params: 5\n",
      "Trainable params: 5\n",
      "Non-trainable params: 0\n",
      "_________________________________________________________________\n"
     ]
    }
   ],
   "source": [
    "# Display model summary\n",
    "neuron.summary()"
   ]
  },
  {
   "cell_type": "markdown",
   "metadata": {},
   "source": [
    "## Compiling a Neural Network Model"
   ]
  },
  {
   "cell_type": "code",
   "execution_count": 12,
   "metadata": {},
   "outputs": [],
   "source": [
    "# Compile the model\n",
    "neuron.compile(loss=\"binary_crossentropy\", optimizer=\"adam\", metrics=[\"accuracy\"])"
   ]
  },
  {
   "cell_type": "markdown",
   "metadata": {},
   "source": [
    "## Fitting and Testing a Neural Network"
   ]
  },
  {
   "cell_type": "code",
   "execution_count": 13,
   "metadata": {},
   "outputs": [
    {
     "name": "stdout",
     "output_type": "stream",
     "text": [
      "Epoch 1/100\n",
      "24/24 [==============================] - 1s 921us/step - loss: 0.7801 - accuracy: 0.0000e+00\n",
      "Epoch 2/100\n",
      "24/24 [==============================] - 0s 812us/step - loss: 0.7588 - accuracy: 0.0000e+00\n",
      "Epoch 3/100\n",
      "24/24 [==============================] - 0s 768us/step - loss: 0.7395 - accuracy: 0.0000e+00\n",
      "Epoch 4/100\n",
      "24/24 [==============================] - 0s 767us/step - loss: 0.7225 - accuracy: 0.0080\n",
      "Epoch 5/100\n",
      "24/24 [==============================] - 0s 783us/step - loss: 0.7069 - accuracy: 0.1320\n",
      "Epoch 6/100\n",
      "24/24 [==============================] - 0s 1ms/step - loss: 0.6958 - accuracy: 0.4613\n",
      "Epoch 7/100\n",
      "24/24 [==============================] - 0s 1ms/step - loss: 0.6932 - accuracy: 0.5067\n",
      "Epoch 8/100\n",
      "24/24 [==============================] - 0s 950us/step - loss: 0.6931 - accuracy: 0.5080\n",
      "Epoch 9/100\n",
      "24/24 [==============================] - 0s 1ms/step - loss: 0.6931 - accuracy: 0.5067\n",
      "Epoch 10/100\n",
      "24/24 [==============================] - 0s 1ms/step - loss: 0.6931 - accuracy: 0.5080\n",
      "Epoch 11/100\n",
      "24/24 [==============================] - 0s 1ms/step - loss: 0.6931 - accuracy: 0.5080\n",
      "Epoch 12/100\n",
      "24/24 [==============================] - 0s 1ms/step - loss: 0.6931 - accuracy: 0.5080\n",
      "Epoch 13/100\n",
      "24/24 [==============================] - 0s 983us/step - loss: 0.6931 - accuracy: 0.5080\n",
      "Epoch 14/100\n",
      "24/24 [==============================] - 0s 954us/step - loss: 0.6931 - accuracy: 0.5080\n",
      "Epoch 15/100\n",
      "24/24 [==============================] - 0s 940us/step - loss: 0.6931 - accuracy: 0.5080\n",
      "Epoch 16/100\n",
      "24/24 [==============================] - 0s 949us/step - loss: 0.6930 - accuracy: 0.5080\n",
      "Epoch 17/100\n",
      "24/24 [==============================] - 0s 1ms/step - loss: 0.6931 - accuracy: 0.5080\n",
      "Epoch 18/100\n",
      "24/24 [==============================] - 0s 924us/step - loss: 0.6931 - accuracy: 0.5080\n",
      "Epoch 19/100\n",
      "24/24 [==============================] - 0s 911us/step - loss: 0.6930 - accuracy: 0.5080\n",
      "Epoch 20/100\n",
      "24/24 [==============================] - 0s 947us/step - loss: 0.6930 - accuracy: 0.5080\n",
      "Epoch 21/100\n",
      "24/24 [==============================] - 0s 984us/step - loss: 0.6930 - accuracy: 0.5080\n",
      "Epoch 22/100\n",
      "24/24 [==============================] - 0s 1ms/step - loss: 0.6931 - accuracy: 0.5080\n",
      "Epoch 23/100\n",
      "24/24 [==============================] - 0s 1ms/step - loss: 0.6930 - accuracy: 0.5080\n",
      "Epoch 24/100\n",
      "24/24 [==============================] - 0s 978us/step - loss: 0.6930 - accuracy: 0.5080\n",
      "Epoch 25/100\n",
      "24/24 [==============================] - 0s 967us/step - loss: 0.6931 - accuracy: 0.5080\n",
      "Epoch 26/100\n",
      "24/24 [==============================] - 0s 930us/step - loss: 0.6930 - accuracy: 0.5080\n",
      "Epoch 27/100\n",
      "24/24 [==============================] - 0s 876us/step - loss: 0.6930 - accuracy: 0.5080\n",
      "Epoch 28/100\n",
      "24/24 [==============================] - 0s 953us/step - loss: 0.6930 - accuracy: 0.5080\n",
      "Epoch 29/100\n",
      "24/24 [==============================] - 0s 1ms/step - loss: 0.6931 - accuracy: 0.5080\n",
      "Epoch 30/100\n",
      "24/24 [==============================] - 0s 962us/step - loss: 0.6931 - accuracy: 0.5080\n",
      "Epoch 31/100\n",
      "24/24 [==============================] - 0s 1ms/step - loss: 0.6930 - accuracy: 0.5080\n",
      "Epoch 32/100\n",
      "24/24 [==============================] - 0s 927us/step - loss: 0.6930 - accuracy: 0.5080\n",
      "Epoch 33/100\n",
      "24/24 [==============================] - 0s 882us/step - loss: 0.6930 - accuracy: 0.5080\n",
      "Epoch 34/100\n",
      "24/24 [==============================] - 0s 938us/step - loss: 0.6930 - accuracy: 0.5080\n",
      "Epoch 35/100\n",
      "24/24 [==============================] - 0s 942us/step - loss: 0.6931 - accuracy: 0.5080\n",
      "Epoch 36/100\n",
      "24/24 [==============================] - 0s 867us/step - loss: 0.6930 - accuracy: 0.5080\n",
      "Epoch 37/100\n",
      "24/24 [==============================] - 0s 830us/step - loss: 0.6931 - accuracy: 0.5080\n",
      "Epoch 38/100\n",
      "24/24 [==============================] - 0s 835us/step - loss: 0.6930 - accuracy: 0.5080\n",
      "Epoch 39/100\n",
      "24/24 [==============================] - 0s 829us/step - loss: 0.6930 - accuracy: 0.5080\n",
      "Epoch 40/100\n",
      "24/24 [==============================] - 0s 827us/step - loss: 0.6930 - accuracy: 0.5080\n",
      "Epoch 41/100\n",
      "24/24 [==============================] - 0s 834us/step - loss: 0.6931 - accuracy: 0.5080\n",
      "Epoch 42/100\n",
      "24/24 [==============================] - 0s 824us/step - loss: 0.6931 - accuracy: 0.5080\n",
      "Epoch 43/100\n",
      "24/24 [==============================] - 0s 843us/step - loss: 0.6930 - accuracy: 0.5080\n",
      "Epoch 44/100\n",
      "24/24 [==============================] - 0s 826us/step - loss: 0.6930 - accuracy: 0.5080\n",
      "Epoch 45/100\n",
      "24/24 [==============================] - 0s 820us/step - loss: 0.6930 - accuracy: 0.5080\n",
      "Epoch 46/100\n",
      "24/24 [==============================] - 0s 816us/step - loss: 0.6930 - accuracy: 0.5080\n",
      "Epoch 47/100\n",
      "24/24 [==============================] - 0s 817us/step - loss: 0.6930 - accuracy: 0.5080\n",
      "Epoch 48/100\n",
      "24/24 [==============================] - 0s 819us/step - loss: 0.6931 - accuracy: 0.5080\n",
      "Epoch 49/100\n",
      "24/24 [==============================] - 0s 832us/step - loss: 0.6930 - accuracy: 0.5080\n",
      "Epoch 50/100\n",
      "24/24 [==============================] - 0s 810us/step - loss: 0.6930 - accuracy: 0.5080\n",
      "Epoch 51/100\n",
      "24/24 [==============================] - 0s 844us/step - loss: 0.6931 - accuracy: 0.5080\n",
      "Epoch 52/100\n",
      "24/24 [==============================] - 0s 884us/step - loss: 0.6930 - accuracy: 0.5080\n",
      "Epoch 53/100\n",
      "24/24 [==============================] - 0s 874us/step - loss: 0.6930 - accuracy: 0.5080\n",
      "Epoch 54/100\n",
      "24/24 [==============================] - 0s 877us/step - loss: 0.6930 - accuracy: 0.5080\n",
      "Epoch 55/100\n",
      "24/24 [==============================] - 0s 883us/step - loss: 0.6930 - accuracy: 0.5080\n",
      "Epoch 56/100\n",
      "24/24 [==============================] - 0s 865us/step - loss: 0.6930 - accuracy: 0.5080\n",
      "Epoch 57/100\n",
      "24/24 [==============================] - 0s 913us/step - loss: 0.6930 - accuracy: 0.5080\n",
      "Epoch 58/100\n",
      "24/24 [==============================] - 0s 917us/step - loss: 0.6930 - accuracy: 0.5080\n",
      "Epoch 59/100\n",
      "24/24 [==============================] - 0s 904us/step - loss: 0.6930 - accuracy: 0.5080\n",
      "Epoch 60/100\n",
      "24/24 [==============================] - 0s 859us/step - loss: 0.6931 - accuracy: 0.5080\n",
      "Epoch 61/100\n",
      "24/24 [==============================] - 0s 1ms/step - loss: 0.6931 - accuracy: 0.5080\n",
      "Epoch 62/100\n",
      "24/24 [==============================] - 0s 861us/step - loss: 0.6930 - accuracy: 0.5080\n",
      "Epoch 63/100\n",
      "24/24 [==============================] - 0s 812us/step - loss: 0.6930 - accuracy: 0.5080\n",
      "Epoch 64/100\n",
      "24/24 [==============================] - 0s 792us/step - loss: 0.6930 - accuracy: 0.5080\n",
      "Epoch 65/100\n",
      "24/24 [==============================] - 0s 785us/step - loss: 0.6930 - accuracy: 0.5080\n",
      "Epoch 66/100\n",
      "24/24 [==============================] - 0s 741us/step - loss: 0.6931 - accuracy: 0.5080\n",
      "Epoch 67/100\n",
      "24/24 [==============================] - 0s 714us/step - loss: 0.6931 - accuracy: 0.5080\n",
      "Epoch 68/100\n",
      "24/24 [==============================] - 0s 783us/step - loss: 0.6931 - accuracy: 0.5080\n",
      "Epoch 69/100\n",
      "24/24 [==============================] - 0s 826us/step - loss: 0.6930 - accuracy: 0.5080\n",
      "Epoch 70/100\n",
      "24/24 [==============================] - 0s 855us/step - loss: 0.6930 - accuracy: 0.5080\n",
      "Epoch 71/100\n",
      "24/24 [==============================] - 0s 892us/step - loss: 0.6930 - accuracy: 0.5080\n",
      "Epoch 72/100\n",
      "24/24 [==============================] - 0s 841us/step - loss: 0.6930 - accuracy: 0.5080\n",
      "Epoch 73/100\n",
      "24/24 [==============================] - 0s 792us/step - loss: 0.6930 - accuracy: 0.5080\n",
      "Epoch 74/100\n",
      "24/24 [==============================] - 0s 679us/step - loss: 0.6930 - accuracy: 0.5080\n",
      "Epoch 75/100\n",
      "24/24 [==============================] - 0s 687us/step - loss: 0.6930 - accuracy: 0.5080\n",
      "Epoch 76/100\n",
      "24/24 [==============================] - 0s 771us/step - loss: 0.6930 - accuracy: 0.5080\n",
      "Epoch 77/100\n",
      "24/24 [==============================] - 0s 795us/step - loss: 0.6930 - accuracy: 0.5080\n",
      "Epoch 78/100\n",
      "24/24 [==============================] - 0s 818us/step - loss: 0.6931 - accuracy: 0.5080\n",
      "Epoch 79/100\n",
      "24/24 [==============================] - 0s 807us/step - loss: 0.6931 - accuracy: 0.5080\n",
      "Epoch 80/100\n",
      "24/24 [==============================] - 0s 3ms/step - loss: 0.6930 - accuracy: 0.5080\n",
      "Epoch 81/100\n",
      "24/24 [==============================] - 0s 1ms/step - loss: 0.6930 - accuracy: 0.5080\n",
      "Epoch 82/100\n",
      "24/24 [==============================] - 0s 1ms/step - loss: 0.6931 - accuracy: 0.5080\n",
      "Epoch 83/100\n",
      "24/24 [==============================] - 0s 1ms/step - loss: 0.6930 - accuracy: 0.5080\n",
      "Epoch 84/100\n",
      "24/24 [==============================] - 0s 903us/step - loss: 0.6930 - accuracy: 0.5080\n",
      "Epoch 85/100\n",
      "24/24 [==============================] - 0s 1ms/step - loss: 0.6930 - accuracy: 0.5080\n",
      "Epoch 86/100\n",
      "24/24 [==============================] - 0s 959us/step - loss: 0.6930 - accuracy: 0.5080\n",
      "Epoch 87/100\n",
      "24/24 [==============================] - 0s 882us/step - loss: 0.6931 - accuracy: 0.5080\n",
      "Epoch 88/100\n",
      "24/24 [==============================] - 0s 874us/step - loss: 0.6931 - accuracy: 0.5080\n",
      "Epoch 89/100\n",
      "24/24 [==============================] - 0s 868us/step - loss: 0.6930 - accuracy: 0.5080\n",
      "Epoch 90/100\n",
      "24/24 [==============================] - 0s 840us/step - loss: 0.6930 - accuracy: 0.5080\n",
      "Epoch 91/100\n",
      "24/24 [==============================] - 0s 821us/step - loss: 0.6931 - accuracy: 0.5080\n",
      "Epoch 92/100\n",
      "24/24 [==============================] - 0s 833us/step - loss: 0.6930 - accuracy: 0.5080\n",
      "Epoch 93/100\n",
      "24/24 [==============================] - 0s 831us/step - loss: 0.6930 - accuracy: 0.5080\n",
      "Epoch 94/100\n",
      "24/24 [==============================] - 0s 823us/step - loss: 0.6931 - accuracy: 0.5080\n",
      "Epoch 95/100\n",
      "24/24 [==============================] - 0s 760us/step - loss: 0.6930 - accuracy: 0.5080\n",
      "Epoch 96/100\n",
      "24/24 [==============================] - 0s 682us/step - loss: 0.6930 - accuracy: 0.5080\n",
      "Epoch 97/100\n",
      "24/24 [==============================] - 0s 710us/step - loss: 0.6930 - accuracy: 0.5080\n",
      "Epoch 98/100\n",
      "24/24 [==============================] - 0s 730us/step - loss: 0.6930 - accuracy: 0.5080\n",
      "Epoch 99/100\n",
      "24/24 [==============================] - 0s 717us/step - loss: 0.6930 - accuracy: 0.5080\n",
      "Epoch 100/100\n",
      "24/24 [==============================] - 0s 786us/step - loss: 0.6930 - accuracy: 0.5080\n"
     ]
    }
   ],
   "source": [
    "# Fitting the model\n",
    "model = neuron.fit(X_train_scaled, y_train, epochs=100)"
   ]
  },
  {
   "cell_type": "markdown",
   "metadata": {},
   "source": [
    "## Plotting Loss and Accuracy"
   ]
  },
  {
   "cell_type": "code",
   "execution_count": 14,
   "metadata": {},
   "outputs": [],
   "source": [
    "# Create a DataFrame with the history dictionary\n",
    "df = pd.DataFrame(model.history, index=range(1, len(model.history[\"loss\"]) + 1))"
   ]
  },
  {
   "cell_type": "code",
   "execution_count": 15,
   "metadata": {},
   "outputs": [
    {
     "data": {
      "text/plain": [
       "<Axes: >"
      ]
     },
     "execution_count": 15,
     "metadata": {},
     "output_type": "execute_result"
    },
    {
     "data": {
      "image/png": "[encoded data removed]",
      "text/plain": [
       "<Figure size 432x288 with 1 Axes>"
      ]
     },
     "metadata": {
      "needs_background": "light"
     },
     "output_type": "display_data"
    }
   ],
   "source": [
    "# Plot the loss\n",
    "df.plot(y=\"loss\")"
   ]
  },
  {
   "cell_type": "code",
   "execution_count": 16,
   "metadata": {},
   "outputs": [
    {
     "data": {
      "text/plain": [
       "<Axes: >"
      ]
     },
     "execution_count": 16,
     "metadata": {},
     "output_type": "execute_result"
    },
    {
     "data": {
      "image/png": "[encoded data removed]",
      "text/plain": [
       "<Figure size 432x288 with 1 Axes>"
      ]
     },
     "metadata": {
      "needs_background": "light"
     },
     "output_type": "display_data"
    }
   ],
   "source": [
    "# Plot the accuracy\n",
    "df.plot(y=\"accuracy\")"
   ]
  },
  {
   "cell_type": "markdown",
   "metadata": {},
   "source": [
    "### Evaluating the Model Performance"
   ]
  },
  {
   "cell_type": "code",
   "execution_count": 17,
   "metadata": {},
   "outputs": [
    {
     "name": "stdout",
     "output_type": "stream",
     "text": [
      "8/8 - 0s - loss: 0.6939 - accuracy: 0.4760 - 96ms/epoch - 12ms/step\n",
      "Loss: 0.6939277052879333, Accuracy: 0.47600001096725464\n"
     ]
    }
   ],
   "source": [
    "# Evaluate the model using testing data\n",
    "model_loss, model_accuracy = neuron.evaluate(X_test_scaled, y_test, verbose=2)\n",
    "\n",
    "# Display evaluation results\n",
    "print(f\"Loss: {model_loss}, Accuracy: {model_accuracy}\")"
   ]
  },
  {
   "cell_type": "markdown",
   "metadata": {
    "tags": []
   },
   "source": [
    "## Making Predictions with a Neural Network Model"
   ]
  },
  {
   "cell_type": "code",
   "execution_count": 18,
   "metadata": {},
   "outputs": [],
   "source": [
    "# Create 10 new samples of dummy data\n",
    "new_X, new_y = make_blobs(n_samples=10, centers=2, n_features=2, random_state=1)"
   ]
  },
  {
   "cell_type": "code",
   "execution_count": 19,
   "metadata": {},
   "outputs": [
    {
     "name": "stdout",
     "output_type": "stream",
     "text": [
      "1/1 [==============================] - 0s 49ms/step\n"
     ]
    }
   ],
   "source": [
    "# Making predictions\n",
    "predictions = (neuron.predict(new_X) > 0.5).astype(\"int32\")"
   ]
  },
  {
   "cell_type": "code",
   "execution_count": 20,
   "metadata": {},
   "outputs": [
    {
     "data": {
      "text/html": [
       "<div>\n",
       "<style scoped>\n",
       "    .dataframe tbody tr th:only-of-type {\n",
       "        vertical-align: middle;\n",
       "    }\n",
       "\n",
       "    .dataframe tbody tr th {\n",
       "        vertical-align: top;\n",
       "    }\n",
       "\n",
       "    .dataframe thead th {\n",
       "        text-align: right;\n",
       "    }\n",
       "</style>\n",
       "<table border=\"1\" class=\"dataframe\">\n",
       "  <thead>\n",
       "    <tr style=\"text-align: right;\">\n",
       "      <th></th>\n",
       "      <th>predictions</th>\n",
       "      <th>actual</th>\n",
       "    </tr>\n",
       "  </thead>\n",
       "  <tbody>\n",
       "    <tr>\n",
       "      <th>0</th>\n",
       "      <td>0</td>\n",
       "      <td>1</td>\n",
       "    </tr>\n",
       "    <tr>\n",
       "      <th>1</th>\n",
       "      <td>0</td>\n",
       "      <td>1</td>\n",
       "    </tr>\n",
       "    <tr>\n",
       "      <th>2</th>\n",
       "      <td>0</td>\n",
       "      <td>1</td>\n",
       "    </tr>\n",
       "    <tr>\n",
       "      <th>3</th>\n",
       "      <td>0</td>\n",
       "      <td>1</td>\n",
       "    </tr>\n",
       "    <tr>\n",
       "      <th>4</th>\n",
       "      <td>1</td>\n",
       "      <td>0</td>\n",
       "    </tr>\n",
       "    <tr>\n",
       "      <th>5</th>\n",
       "      <td>0</td>\n",
       "      <td>0</td>\n",
       "    </tr>\n",
       "    <tr>\n",
       "      <th>6</th>\n",
       "      <td>1</td>\n",
       "      <td>0</td>\n",
       "    </tr>\n",
       "    <tr>\n",
       "      <th>7</th>\n",
       "      <td>0</td>\n",
       "      <td>1</td>\n",
       "    </tr>\n",
       "    <tr>\n",
       "      <th>8</th>\n",
       "      <td>1</td>\n",
       "      <td>0</td>\n",
       "    </tr>\n",
       "    <tr>\n",
       "      <th>9</th>\n",
       "      <td>0</td>\n",
       "      <td>0</td>\n",
       "    </tr>\n",
       "  </tbody>\n",
       "</table>\n",
       "</div>"
      ],
      "text/plain": [
       "   predictions  actual\n",
       "0            0       1\n",
       "1            0       1\n",
       "2            0       1\n",
       "3            0       1\n",
       "4            1       0\n",
       "5            0       0\n",
       "6            1       0\n",
       "7            0       1\n",
       "8            1       0\n",
       "9            0       0"
      ]
     },
     "execution_count": 20,
     "metadata": {},
     "output_type": "execute_result"
    }
   ],
   "source": [
    "# Create a DataFrame to compare the predictions with the actual values\n",
    "results = pd.DataFrame({\"predictions\": predictions.ravel(), \"actual\": new_y})\n",
    "\n",
    "# Display sample data\n",
    "results.head(10)"
   ]
  },
  {
   "cell_type": "code",
   "execution_count": null,
   "metadata": {},
   "outputs": [],
   "source": []
  }
 ],
 "metadata": {
  "kernelspec": {
   "display_name": "Python 3 (ipykernel)",
   "language": "python",
   "name": "python3"
  },
  "language_info": {
   "codemirror_mode": {
    "name": "ipython",
    "version": 3
   },
   "file_extension": ".py",
   "mimetype": "text/x-python",
   "name": "python",
   "nbconvert_exporter": "python",
   "pygments_lexer": "ipython3",
   "version": "3.10.10"
  }
 },
 "nbformat": 4,
 "nbformat_minor": 4
}
