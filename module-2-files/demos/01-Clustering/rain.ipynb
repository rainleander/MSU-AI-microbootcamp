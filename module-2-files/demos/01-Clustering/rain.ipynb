{
  "cells": [
    {
      "cell_type": "code",
      "execution_count": 2,
      "metadata": {
        "id": "cxv84s1qQGSl"
      },
      "outputs": [],
      "source": [
        "# Import the modules\n",
        "from sklearn.datasets import make_blobs\n",
        "import pandas as pd"
      ]
    },
    {
      "cell_type": "code",
      "execution_count": null,
      "metadata": {
        "id": "zXjtdiByQGSn"
      },
      "outputs": [],
      "source": [
        "# Generate three synthetic clusters\n",
        "X, y = make_blobs(\n",
        "    centers=3,\n",
        "    n_features=2,\n",
        "    random_state=1\n",
        ")"
      ]
    },
    {
      "cell_type": "code",
      "execution_count": null,
      "metadata": {
        "id": "cFbiI5_5QGSn",
        "outputId": "d3bb6ecc-1eb3-4a9f-e459-f2ce8eccb033"
      },
      "outputs": [
        {
          "data": {
            "text/plain": [
              "array([[-7.94152277e-01,  2.10495117e+00],\n",
              "       [-9.15155186e+00, -4.81286449e+00],\n",
              "       [-1.14418263e+01, -4.45781441e+00],\n",
              "       [-9.76761777e+00, -3.19133737e+00],\n",
              "       [-4.53655648e+00, -8.40186288e+00],\n",
              "       [-6.26302115e+00, -8.10666081e+00],\n",
              "       [-6.38481234e+00, -8.47302970e+00],\n",
              "       [-9.20490564e+00, -4.57687928e+00],\n",
              "       [-2.76017908e+00,  5.55121358e+00],\n",
              "       [-1.17104176e+00,  4.33091816e+00],\n",
              "       [-1.00364080e+01, -5.56912090e+00],\n",
              "       [-9.87589123e+00, -2.82386464e+00],\n",
              "       [-7.17532921e+00, -8.77059017e+00],\n",
              "       [-2.40671820e+00,  6.09894447e+00],\n",
              "       [-4.87418245e+00, -1.00495890e+01],\n",
              "       [-6.07854700e+00, -7.93969420e+00],\n",
              "       [-6.83238762e+00, -7.47067670e+00],\n",
              "       [-2.34673261e+00,  3.56128423e+00],\n",
              "       [-1.03415662e+01, -3.90975169e+00],\n",
              "       [-1.10926243e+01, -3.78396611e+00],\n",
              "       [-6.50212109e+00, -7.91249101e+00],\n",
              "       [-1.02639310e+01, -3.92073400e+00],\n",
              "       [-6.81608302e+00, -8.44986926e+00],\n",
              "       [-1.34052081e+00,  4.15711949e+00],\n",
              "       [-1.03729975e+01, -4.59207895e+00],\n",
              "       [-7.37499896e+00, -1.05880659e+01],\n",
              "       [-6.62351774e+00, -8.25338334e+00],\n",
              "       [-1.35938959e+00,  4.05424002e+00],\n",
              "       [-1.97451969e-01,  2.34634916e+00],\n",
              "       [-6.54430585e+00, -9.29756949e+00],\n",
              "       [-1.92744799e+00,  4.93684534e+00],\n",
              "       [-2.80207810e+00,  4.05714715e+00],\n",
              "       [-7.58197664e+00, -9.15025493e+00],\n",
              "       [-1.85139546e+00,  3.51886090e+00],\n",
              "       [-8.37006175e+00, -3.61533685e+00],\n",
              "       [-7.25145196e+00, -8.25497398e+00],\n",
              "       [-8.79879462e+00, -3.76819213e+00],\n",
              "       [-1.13708298e+01, -3.63818916e+00],\n",
              "       [-1.01786328e+01, -4.55726918e+00],\n",
              "       [-7.20132693e+00, -8.27228229e+00],\n",
              "       [-6.78421711e+00, -8.22634081e+00],\n",
              "       [-9.64716652e+00, -5.26563196e+00],\n",
              "       [-1.98197711e+00,  4.02243551e+00],\n",
              "       [-1.12277706e+01, -3.40281105e+00],\n",
              "       [-9.79941278e+00, -3.83433990e+00],\n",
              "       [-6.53541686e+00, -8.01552689e+00],\n",
              "       [-7.57969185e-01,  4.90898421e+00],\n",
              "       [ 5.26015501e-01,  3.00999353e+00],\n",
              "       [-2.77687025e+00,  4.64090557e+00],\n",
              "       [-1.78245013e+00,  3.47072043e+00],\n",
              "       [-1.02200406e+01, -4.15410662e+00],\n",
              "       [-6.40583239e+00, -9.78066645e+00],\n",
              "       [-6.98706106e+00, -7.53484784e+00],\n",
              "       [-7.46576038e+00, -7.32922249e+00],\n",
              "       [-1.53940095e+00,  5.02369298e+00],\n",
              "       [-6.56967086e+00, -8.32793126e+00],\n",
              "       [-1.06177133e+01, -3.25531651e+00],\n",
              "       [-8.72395657e+00, -1.98624680e+00],\n",
              "       [-1.61734616e+00,  4.98930508e+00],\n",
              "       [-1.14663009e+00,  4.10839703e+00],\n",
              "       [-9.81115111e+00, -3.54329690e+00],\n",
              "       [-7.71179887e+00, -7.25174121e+00],\n",
              "       [-6.56169737e+00, -6.86000222e+00],\n",
              "       [-1.00223295e+01, -4.72851017e+00],\n",
              "       [-1.18556944e+01, -2.71718452e+00],\n",
              "       [-5.73342507e+00, -8.44053597e+00],\n",
              "       [-2.41395785e+00,  5.65935802e+00],\n",
              "       [-8.33744094e+00, -7.83968038e+00],\n",
              "       [-1.83198811e+00,  3.52863145e+00],\n",
              "       [-9.57421815e+00, -3.87600848e+00],\n",
              "       [-9.59422086e+00, -3.35977002e+00],\n",
              "       [-9.25715605e+00, -4.90704915e+00],\n",
              "       [-6.46256290e+00, -7.73294590e+00],\n",
              "       [-8.20576492e-01,  5.33759195e+00],\n",
              "       [ 2.42271161e-04,  5.14853403e+00],\n",
              "       [-9.68207756e+00, -5.97554976e+00],\n",
              "       [-6.19599603e+00, -7.40281646e+00],\n",
              "       [-7.02121319e+00, -8.37954235e+00],\n",
              "       [-2.18773166e+00,  3.33352125e+00],\n",
              "       [-1.04448411e+01, -2.72884084e+00],\n",
              "       [-5.27930518e-01,  5.92630669e+00],\n",
              "       [-1.11969805e+01, -3.09000323e+00],\n",
              "       [-9.83767543e+00, -3.07717963e+00],\n",
              "       [-5.16022348e+00, -7.04217141e+00],\n",
              "       [-2.35122066e+00,  4.00973634e+00],\n",
              "       [-5.25790464e-01,  3.30659860e+00],\n",
              "       [-1.46864442e+00,  6.50674501e+00],\n",
              "       [-7.58703957e-01,  3.72276201e+00],\n",
              "       [-1.03039165e+01, -3.12537390e+00],\n",
              "       [-2.33080604e+00,  4.39382527e+00],\n",
              "       [-5.90454361e+00, -7.78373539e+00],\n",
              "       [-1.60875215e+00,  3.76949422e+00],\n",
              "       [-1.86845414e+00,  4.99311306e+00],\n",
              "       [-1.06683748e+01, -3.57578476e+00],\n",
              "       [-8.87629480e+00, -3.54444801e+00],\n",
              "       [-6.02605758e+00, -5.96624846e+00],\n",
              "       [-7.04747278e+00, -9.27524683e+00],\n",
              "       [-1.37397258e+00,  5.29163103e+00],\n",
              "       [-6.25393051e+00, -7.10878601e+00],\n",
              "       [ 8.52518583e-02,  3.64528297e+00]])"
            ]
          },
          "execution_count": 3,
          "metadata": {},
          "output_type": "execute_result"
        }
      ],
      "source": [
        "# Print out the X values\n",
        "X"
      ]
    },
    {
      "cell_type": "code",
      "execution_count": null,
      "metadata": {
        "id": "JL0N90F-QGSo",
        "outputId": "8f935beb-343a-4f3b-8366-da66923265a1"
      },
      "outputs": [
        {
          "data": {
            "text/plain": [
              "(100, 2)"
            ]
          },
          "execution_count": 4,
          "metadata": {},
          "output_type": "execute_result"
        }
      ],
      "source": [
        "# Get the shape of the X values\n",
        "X.shape"
      ]
    },
    {
      "cell_type": "code",
      "execution_count": null,
      "metadata": {
        "id": "IJ9f7TDwQGSo",
        "outputId": "79c38585-d94d-4e36-adb1-4c7e0d0d1c94"
      },
      "outputs": [
        {
          "name": "stdout",
          "output_type": "stream",
          "text": [
            "[0 1 1 1 2 2 2 1 0 0 1 1 2 0 2 2 2 0 1 1 2 1 2 0 1 2 2 0 0 2 0 0 2 0 1 2 1\n",
            " 1 1 2 2 1 0 1 1 2 0 0 0 0 1 2 2 2 0 2 1 1 0 0 1 2 2 1 1 2 0 2 0 1 1 1 2 0\n",
            " 0 1 2 2 0 1 0 1 1 2 0 0 0 0 1 0 2 0 0 1 1 2 2 0 2 0]\n"
          ]
        },
        {
          "data": {
            "text/plain": [
              "(100,)"
            ]
          },
          "execution_count": 5,
          "metadata": {},
          "output_type": "execute_result"
        }
      ],
      "source": [
        "# Print out the y values and get the shape.\n",
        "print(y)\n",
        "y.shape"
      ]
    },
    {
      "cell_type": "code",
      "execution_count": null,
      "metadata": {
        "id": "R_VgQr4UQGSp"
      },
      "outputs": [],
      "source": [
        "# Transform the y variables into a single column.\n",
        "y = y.reshape(-1, 1)"
      ]
    },
    {
      "cell_type": "code",
      "execution_count": null,
      "metadata": {
        "id": "rrNLsy8RQGSp",
        "outputId": "72f9998c-4f77-463d-bbf1-612b91ce3189"
      },
      "outputs": [
        {
          "data": {
            "text/html": [
              "<div>\n",
              "<style scoped>\n",
              "    .dataframe tbody tr th:only-of-type {\n",
              "        vertical-align: middle;\n",
              "    }\n",
              "\n",
              "    .dataframe tbody tr th {\n",
              "        vertical-align: top;\n",
              "    }\n",
              "\n",
              "    .dataframe thead th {\n",
              "        text-align: right;\n",
              "    }\n",
              "</style>\n",
              "<table border=\"1\" class=\"dataframe\">\n",
              "  <thead>\n",
              "    <tr style=\"text-align: right;\">\n",
              "      <th></th>\n",
              "      <th>Feature 1</th>\n",
              "      <th>Feature 2</th>\n",
              "      <th>Target</th>\n",
              "    </tr>\n",
              "  </thead>\n",
              "  <tbody>\n",
              "    <tr>\n",
              "      <th>0</th>\n",
              "      <td>-0.794152</td>\n",
              "      <td>2.104951</td>\n",
              "      <td>0</td>\n",
              "    </tr>\n",
              "    <tr>\n",
              "      <th>1</th>\n",
              "      <td>-9.151552</td>\n",
              "      <td>-4.812864</td>\n",
              "      <td>1</td>\n",
              "    </tr>\n",
              "    <tr>\n",
              "      <th>2</th>\n",
              "      <td>-11.441826</td>\n",
              "      <td>-4.457814</td>\n",
              "      <td>1</td>\n",
              "    </tr>\n",
              "    <tr>\n",
              "      <th>3</th>\n",
              "      <td>-9.767618</td>\n",
              "      <td>-3.191337</td>\n",
              "      <td>1</td>\n",
              "    </tr>\n",
              "    <tr>\n",
              "      <th>4</th>\n",
              "      <td>-4.536556</td>\n",
              "      <td>-8.401863</td>\n",
              "      <td>2</td>\n",
              "    </tr>\n",
              "    <tr>\n",
              "      <th>...</th>\n",
              "      <td>...</td>\n",
              "      <td>...</td>\n",
              "      <td>...</td>\n",
              "    </tr>\n",
              "    <tr>\n",
              "      <th>95</th>\n",
              "      <td>-6.026058</td>\n",
              "      <td>-5.966248</td>\n",
              "      <td>2</td>\n",
              "    </tr>\n",
              "    <tr>\n",
              "      <th>96</th>\n",
              "      <td>-7.047473</td>\n",
              "      <td>-9.275247</td>\n",
              "      <td>2</td>\n",
              "    </tr>\n",
              "    <tr>\n",
              "      <th>97</th>\n",
              "      <td>-1.373973</td>\n",
              "      <td>5.291631</td>\n",
              "      <td>0</td>\n",
              "    </tr>\n",
              "    <tr>\n",
              "      <th>98</th>\n",
              "      <td>-6.253931</td>\n",
              "      <td>-7.108786</td>\n",
              "      <td>2</td>\n",
              "    </tr>\n",
              "    <tr>\n",
              "      <th>99</th>\n",
              "      <td>0.085252</td>\n",
              "      <td>3.645283</td>\n",
              "      <td>0</td>\n",
              "    </tr>\n",
              "  </tbody>\n",
              "</table>\n",
              "<p>100 rows × 3 columns</p>\n",
              "</div>"
            ],
            "text/plain": [
              "    Feature 1  Feature 2  Target\n",
              "0   -0.794152   2.104951       0\n",
              "1   -9.151552  -4.812864       1\n",
              "2  -11.441826  -4.457814       1\n",
              "3   -9.767618  -3.191337       1\n",
              "4   -4.536556  -8.401863       2\n",
              "..        ...        ...     ...\n",
              "95  -6.026058  -5.966248       2\n",
              "96  -7.047473  -9.275247       2\n",
              "97  -1.373973   5.291631       0\n",
              "98  -6.253931  -7.108786       2\n",
              "99   0.085252   3.645283       0\n",
              "\n",
              "[100 rows x 3 columns]"
            ]
          },
          "execution_count": 7,
          "metadata": {},
          "output_type": "execute_result"
        }
      ],
      "source": [
        "# Create a DataFrame with the synthetic data\n",
        "df = pd.DataFrame(x, columns=[\"Feature 1\", \"Feature 2\"])\n",
        "\n",
        "# Add the y variables as the \"Target\" column.\n",
        "df[\"Target\"] = y\n",
        "\n",
        "# Display the data\n",
        "df"
      ]
    },
    {
      "cell_type": "code",
      "execution_count": null,
      "metadata": {
        "id": "IC6gS75-QGSp",
        "outputId": "500f0d95-dd15-4073-ec49-63dc1f3fb06a"
      },
      "outputs": [
        {
          "data": {
            "text/plain": [
              "<Axes: xlabel='Feature 1', ylabel='Feature 2'>"
            ]
          },
          "execution_count": 8,
          "metadata": {},
          "output_type": "execute_result"
        },
        {
          "data": {
            "image/png": "[encoded data removed]",
            "text/plain": [
              "<Figure size 640x480 with 2 Axes>"
            ]
          },
          "metadata": {},
          "output_type": "display_data"
        }
      ],
      "source": [
        "# Visualize the data\n",
        "df.plot.scatter(x=\"Feature 1\",\n",
        "                y=\"Feature 2\",\n",
        "                c=\"Target\",\n",
        "                colormap=\"winter\")"
      ]
    },
    {
      "cell_type": "markdown",
      "metadata": {
        "id": "yiP9GA_BQGSp"
      },
      "source": [
        "### Your turn."
      ]
    },
    {
      "cell_type": "code",
      "execution_count": 8,
      "metadata": {
        "id": "gfv3AjJiQGSq"
      },
      "outputs": [],
      "source": [
        "# Generate five synthetic clusters\n",
        "x, y = make_blobs(\n",
        "    centers=3,\n",
        "    n_features=2,\n",
        "    random_state=1)\n",
        "\n",
        "# Transform the y variables into a single column.\n",
        "y = y.reshape(-1, 1)"
      ]
    },
    {
      "cell_type": "code",
      "execution_count": 9,
      "metadata": {
        "colab": {
          "base_uri": "https://localhost:8080/",
          "height": 473
        },
        "id": "BovsN0FaQGSq",
        "outputId": "8f6ad6f0-01ed-420d-d7db-58a03c604438"
      },
      "outputs": [
        {
          "output_type": "execute_result",
          "data": {
            "text/plain": [
              "<Axes: xlabel='Feature 1', ylabel='Feature 2'>"
            ]
          },
          "metadata": {},
          "execution_count": 9
        },
        {
          "output_type": "display_data",
          "data": {
            "text/plain": [
              "<Figure size 640x480 with 2 Axes>"
            ],
            "image/png": "[encoded data removed]"
          },
          "metadata": {}
        }
      ],
      "source": [
        "# Create a DataFrame with the synthetic data\n",
        "df = pd.DataFrame(x, columns=[\"Feature 1\", \"Feature 2\"])\n",
        "\n",
        "# Add the y variables as the \"Target\" column.\n",
        "df[\"Target\"] = y\n",
        "\n",
        "# Visualize the data\n",
        "df.plot.scatter(x=\"Feature 1\", y=\"Feature 2\", c=\"Target\", colormap=\"spring\")"
      ]
    },
    {
      "cell_type": "code",
      "execution_count": null,
      "metadata": {
        "id": "9tOk_6Y8QGSq"
      },
      "outputs": [],
      "source": []
    }
  ],
  "metadata": {
    "kernelspec": {
      "display_name": "Python 3 (ipykernel)",
      "language": "python",
      "name": "python3"
    },
    "language_info": {
      "codemirror_mode": {
        "name": "ipython",
        "version": 3
      },
      "file_extension": ".py",
      "mimetype": "text/x-python",
      "name": "python",
      "nbconvert_exporter": "python",
      "pygments_lexer": "ipython3",
      "version": "3.10.10"
    },
    "latex_envs": {
      "LaTeX_envs_menu_present": true,
      "autoclose": false,
      "autocomplete": true,
      "bibliofile": "biblio.bib",
      "cite_by": "apalike",
      "current_citInitial": 1,
      "eqLabelWithNumbers": true,
      "eqNumInitial": 1,
      "hotkeys": {
        "equation": "Ctrl-E",
        "itemize": "Ctrl-I"
      },
      "labels_anchors": false,
      "latex_user_defs": false,
      "report_style_numbering": false,
      "user_envs_cfg": false
    },
    "colab": {
      "provenance": []
    }
  },
  "nbformat": 4,
  "nbformat_minor": 0
}
