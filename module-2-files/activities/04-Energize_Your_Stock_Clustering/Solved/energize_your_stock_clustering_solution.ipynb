{
 "cells": [
  {
   "cell_type": "code",
   "execution_count": 1,
   "metadata": {},
   "outputs": [],
   "source": [
    "# Import the required libraries and dependencies\n",
    "import pandas as pd\n",
    "from sklearn.cluster import KMeans\n",
    "from sklearn.decomposition import PCA\n",
    "from sklearn.preprocessing import StandardScaler"
   ]
  },
  {
   "cell_type": "markdown",
   "metadata": {},
   "source": [
    "### Step 1: Read in the `tsx-energy-2018.csv` file and create the DataFrame. Make sure to set the `Ticker` column as the DataFrame’s index. Then review the DataFrame."
   ]
  },
  {
   "cell_type": "code",
   "execution_count": 2,
   "metadata": {},
   "outputs": [
    {
     "data": {
      "text/html": [
       "<div>\n",
       "<style scoped>\n",
       "    .dataframe tbody tr th:only-of-type {\n",
       "        vertical-align: middle;\n",
       "    }\n",
       "\n",
       "    .dataframe tbody tr th {\n",
       "        vertical-align: top;\n",
       "    }\n",
       "\n",
       "    .dataframe thead th {\n",
       "        text-align: right;\n",
       "    }\n",
       "</style>\n",
       "<table border=\"1\" class=\"dataframe\">\n",
       "  <thead>\n",
       "    <tr style=\"text-align: right;\">\n",
       "      <th></th>\n",
       "      <th>CompanyName</th>\n",
       "      <th>MeanOpen</th>\n",
       "      <th>MeanHigh</th>\n",
       "      <th>MeanLow</th>\n",
       "      <th>MeanClose</th>\n",
       "      <th>MeanVolume</th>\n",
       "      <th>AnnualReturn</th>\n",
       "      <th>AnnualVariance</th>\n",
       "      <th>EnergyType</th>\n",
       "    </tr>\n",
       "    <tr>\n",
       "      <th>Ticker</th>\n",
       "      <th></th>\n",
       "      <th></th>\n",
       "      <th></th>\n",
       "      <th></th>\n",
       "      <th></th>\n",
       "      <th></th>\n",
       "      <th></th>\n",
       "      <th></th>\n",
       "      <th></th>\n",
       "    </tr>\n",
       "  </thead>\n",
       "  <tbody>\n",
       "    <tr>\n",
       "      <th>ARX</th>\n",
       "      <td>ARC Resources Ltd.</td>\n",
       "      <td>13.14</td>\n",
       "      <td>13.34</td>\n",
       "      <td>12.91</td>\n",
       "      <td>13.10</td>\n",
       "      <td>1479913.38</td>\n",
       "      <td>-0.7275</td>\n",
       "      <td>0.3590</td>\n",
       "      <td>Oil</td>\n",
       "    </tr>\n",
       "    <tr>\n",
       "      <th>CCO</th>\n",
       "      <td>Cameco Corporation</td>\n",
       "      <td>13.70</td>\n",
       "      <td>13.92</td>\n",
       "      <td>13.50</td>\n",
       "      <td>13.70</td>\n",
       "      <td>1203788.22</td>\n",
       "      <td>0.2014</td>\n",
       "      <td>0.3693</td>\n",
       "      <td>Other Energy</td>\n",
       "    </tr>\n",
       "    <tr>\n",
       "      <th>CNQ</th>\n",
       "      <td>Canadian Natural Resources Limited</td>\n",
       "      <td>41.97</td>\n",
       "      <td>42.46</td>\n",
       "      <td>41.46</td>\n",
       "      <td>41.91</td>\n",
       "      <td>3218248.68</td>\n",
       "      <td>-0.3461</td>\n",
       "      <td>0.2947</td>\n",
       "      <td>Oil</td>\n",
       "    </tr>\n",
       "    <tr>\n",
       "      <th>CVE</th>\n",
       "      <td>Cenovus Energy Inc.</td>\n",
       "      <td>11.96</td>\n",
       "      <td>12.18</td>\n",
       "      <td>11.75</td>\n",
       "      <td>11.95</td>\n",
       "      <td>4566143.56</td>\n",
       "      <td>-0.3219</td>\n",
       "      <td>0.4500</td>\n",
       "      <td>Oil</td>\n",
       "    </tr>\n",
       "    <tr>\n",
       "      <th>CPG</th>\n",
       "      <td>Crescent Point Energy Corp.</td>\n",
       "      <td>8.53</td>\n",
       "      <td>8.67</td>\n",
       "      <td>8.36</td>\n",
       "      <td>8.50</td>\n",
       "      <td>3919414.03</td>\n",
       "      <td>-1.0103</td>\n",
       "      <td>0.4597</td>\n",
       "      <td>Other Energy</td>\n",
       "    </tr>\n",
       "  </tbody>\n",
       "</table>\n",
       "</div>"
      ],
      "text/plain": [
       "                               CompanyName  MeanOpen  MeanHigh  MeanLow  \\\n",
       "Ticker                                                                    \n",
       "ARX                     ARC Resources Ltd.     13.14     13.34    12.91   \n",
       "CCO                     Cameco Corporation     13.70     13.92    13.50   \n",
       "CNQ     Canadian Natural Resources Limited     41.97     42.46    41.46   \n",
       "CVE                    Cenovus Energy Inc.     11.96     12.18    11.75   \n",
       "CPG            Crescent Point Energy Corp.      8.53      8.67     8.36   \n",
       "\n",
       "        MeanClose  MeanVolume  AnnualReturn  AnnualVariance    EnergyType  \n",
       "Ticker                                                                     \n",
       "ARX         13.10  1479913.38       -0.7275          0.3590           Oil  \n",
       "CCO         13.70  1203788.22        0.2014          0.3693  Other Energy  \n",
       "CNQ         41.91  3218248.68       -0.3461          0.2947           Oil  \n",
       "CVE         11.95  4566143.56       -0.3219          0.4500           Oil  \n",
       "CPG          8.50  3919414.03       -1.0103          0.4597  Other Energy  "
      ]
     },
     "execution_count": 2,
     "metadata": {},
     "output_type": "execute_result"
    }
   ],
   "source": [
    "# Read the CSV file into a Pandas DataFrame\n",
    "# Set the index using the Ticker column\n",
    "df_stocks = pd.read_csv(\"https://static.bc-edx.com/mbc/ai/m2/datasets/tsx-energy-2018.csv\", index_col=\"Ticker\")\n",
    "\n",
    "# Review the DataFrame\n",
    "df_stocks.head()"
   ]
  },
  {
   "cell_type": "markdown",
   "metadata": {},
   "source": [
    "### Step 2: Review the four code cells that are included in this step in the notebook. These cells contain the code that scales the `df_stocks` DataFrame and creates a new DataFrame that contains the scaled data. "
   ]
  },
  {
   "cell_type": "code",
   "execution_count": 3,
   "metadata": {},
   "outputs": [],
   "source": [
    "# Scale price data, return, and variance values\n",
    "stock_data_scaled = StandardScaler().fit_transform(\n",
    "    df_stocks[[\"MeanOpen\", \"MeanHigh\", \"MeanLow\", \"MeanClose\", \"MeanVolume\", \"AnnualReturn\", \"AnnualVariance\"]]\n",
    ")"
   ]
  },
  {
   "cell_type": "code",
   "execution_count": 4,
   "metadata": {},
   "outputs": [
    {
     "data": {
      "text/html": [
       "<div>\n",
       "<style scoped>\n",
       "    .dataframe tbody tr th:only-of-type {\n",
       "        vertical-align: middle;\n",
       "    }\n",
       "\n",
       "    .dataframe tbody tr th {\n",
       "        vertical-align: top;\n",
       "    }\n",
       "\n",
       "    .dataframe thead th {\n",
       "        text-align: right;\n",
       "    }\n",
       "</style>\n",
       "<table border=\"1\" class=\"dataframe\">\n",
       "  <thead>\n",
       "    <tr style=\"text-align: right;\">\n",
       "      <th></th>\n",
       "      <th>MeanOpen</th>\n",
       "      <th>MeanHigh</th>\n",
       "      <th>MeanLow</th>\n",
       "      <th>MeanClose</th>\n",
       "      <th>MeanVolume</th>\n",
       "      <th>AnnualReturn</th>\n",
       "      <th>AnnualVariance</th>\n",
       "    </tr>\n",
       "    <tr>\n",
       "      <th>Ticker</th>\n",
       "      <th></th>\n",
       "      <th></th>\n",
       "      <th></th>\n",
       "      <th></th>\n",
       "      <th></th>\n",
       "      <th></th>\n",
       "      <th></th>\n",
       "    </tr>\n",
       "  </thead>\n",
       "  <tbody>\n",
       "    <tr>\n",
       "      <th>ARX</th>\n",
       "      <td>-0.916832</td>\n",
       "      <td>-0.917217</td>\n",
       "      <td>-0.918045</td>\n",
       "      <td>-0.918135</td>\n",
       "      <td>-0.152786</td>\n",
       "      <td>-1.332445</td>\n",
       "      <td>0.460854</td>\n",
       "    </tr>\n",
       "    <tr>\n",
       "      <th>CCO</th>\n",
       "      <td>-0.880152</td>\n",
       "      <td>-0.879472</td>\n",
       "      <td>-0.879062</td>\n",
       "      <td>-0.878786</td>\n",
       "      <td>-0.379117</td>\n",
       "      <td>1.695742</td>\n",
       "      <td>0.559411</td>\n",
       "    </tr>\n",
       "    <tr>\n",
       "      <th>CNQ</th>\n",
       "      <td>0.971524</td>\n",
       "      <td>0.977848</td>\n",
       "      <td>0.968315</td>\n",
       "      <td>0.971255</td>\n",
       "      <td>1.272074</td>\n",
       "      <td>-0.089092</td>\n",
       "      <td>-0.154415</td>\n",
       "    </tr>\n",
       "    <tr>\n",
       "      <th>CVE</th>\n",
       "      <td>-0.994122</td>\n",
       "      <td>-0.992707</td>\n",
       "      <td>-0.994689</td>\n",
       "      <td>-0.993553</td>\n",
       "      <td>2.376902</td>\n",
       "      <td>-0.010201</td>\n",
       "      <td>1.331607</td>\n",
       "    </tr>\n",
       "    <tr>\n",
       "      <th>CPG</th>\n",
       "      <td>-1.218785</td>\n",
       "      <td>-1.221130</td>\n",
       "      <td>-1.218673</td>\n",
       "      <td>-1.219807</td>\n",
       "      <td>1.846798</td>\n",
       "      <td>-2.254365</td>\n",
       "      <td>1.424424</td>\n",
       "    </tr>\n",
       "  </tbody>\n",
       "</table>\n",
       "</div>"
      ],
      "text/plain": [
       "        MeanOpen  MeanHigh   MeanLow  MeanClose  MeanVolume  AnnualReturn  \\\n",
       "Ticker                                                                      \n",
       "ARX    -0.916832 -0.917217 -0.918045  -0.918135   -0.152786     -1.332445   \n",
       "CCO    -0.880152 -0.879472 -0.879062  -0.878786   -0.379117      1.695742   \n",
       "CNQ     0.971524  0.977848  0.968315   0.971255    1.272074     -0.089092   \n",
       "CVE    -0.994122 -0.992707 -0.994689  -0.993553    2.376902     -0.010201   \n",
       "CPG    -1.218785 -1.221130 -1.218673  -1.219807    1.846798     -2.254365   \n",
       "\n",
       "        AnnualVariance  \n",
       "Ticker                  \n",
       "ARX           0.460854  \n",
       "CCO           0.559411  \n",
       "CNQ          -0.154415  \n",
       "CVE           1.331607  \n",
       "CPG           1.424424  "
      ]
     },
     "execution_count": 4,
     "metadata": {},
     "output_type": "execute_result"
    }
   ],
   "source": [
    "# Create a DataFrame with the scaled data\n",
    "df_stocks_scaled = pd.DataFrame(\n",
    "    stock_data_scaled,\n",
    "    columns=[\"MeanOpen\", \"MeanHigh\", \"MeanLow\", \"MeanClose\", \"MeanVolume\", \"AnnualReturn\", \"AnnualVariance\"]\n",
    ")\n",
    "\n",
    "# Copy the tickers names from the original data\n",
    "df_stocks_scaled[\"Ticker\"] = df_stocks.index\n",
    "\n",
    "# Set the Ticker column as index\n",
    "df_stocks_scaled = df_stocks_scaled.set_index(\"Ticker\")\n",
    "\n",
    "# Display sample data\n",
    "df_stocks_scaled.head()"
   ]
  },
  {
   "cell_type": "code",
   "execution_count": 5,
   "metadata": {},
   "outputs": [
    {
     "data": {
      "text/html": [
       "<div>\n",
       "<style scoped>\n",
       "    .dataframe tbody tr th:only-of-type {\n",
       "        vertical-align: middle;\n",
       "    }\n",
       "\n",
       "    .dataframe tbody tr th {\n",
       "        vertical-align: top;\n",
       "    }\n",
       "\n",
       "    .dataframe thead th {\n",
       "        text-align: right;\n",
       "    }\n",
       "</style>\n",
       "<table border=\"1\" class=\"dataframe\">\n",
       "  <thead>\n",
       "    <tr style=\"text-align: right;\">\n",
       "      <th></th>\n",
       "      <th>Oil</th>\n",
       "      <th>Other Energy</th>\n",
       "    </tr>\n",
       "    <tr>\n",
       "      <th>Ticker</th>\n",
       "      <th></th>\n",
       "      <th></th>\n",
       "    </tr>\n",
       "  </thead>\n",
       "  <tbody>\n",
       "    <tr>\n",
       "      <th>ARX</th>\n",
       "      <td>1</td>\n",
       "      <td>0</td>\n",
       "    </tr>\n",
       "    <tr>\n",
       "      <th>CCO</th>\n",
       "      <td>0</td>\n",
       "      <td>1</td>\n",
       "    </tr>\n",
       "    <tr>\n",
       "      <th>CNQ</th>\n",
       "      <td>1</td>\n",
       "      <td>0</td>\n",
       "    </tr>\n",
       "    <tr>\n",
       "      <th>CVE</th>\n",
       "      <td>1</td>\n",
       "      <td>0</td>\n",
       "    </tr>\n",
       "    <tr>\n",
       "      <th>CPG</th>\n",
       "      <td>0</td>\n",
       "      <td>1</td>\n",
       "    </tr>\n",
       "  </tbody>\n",
       "</table>\n",
       "</div>"
      ],
      "text/plain": [
       "        Oil  Other Energy\n",
       "Ticker                   \n",
       "ARX       1             0\n",
       "CCO       0             1\n",
       "CNQ       1             0\n",
       "CVE       1             0\n",
       "CPG       0             1"
      ]
     },
     "execution_count": 5,
     "metadata": {},
     "output_type": "execute_result"
    }
   ],
   "source": [
    "# Encode (convert to dummy variables) the `EnergyType` column, which categorizes oil versus non-oil firms\n",
    "oil_dummies = pd.get_dummies(df_stocks[\"EnergyType\"])\n",
    "oil_dummies.head()"
   ]
  },
  {
   "cell_type": "code",
   "execution_count": 6,
   "metadata": {},
   "outputs": [
    {
     "data": {
      "text/html": [
       "<div>\n",
       "<style scoped>\n",
       "    .dataframe tbody tr th:only-of-type {\n",
       "        vertical-align: middle;\n",
       "    }\n",
       "\n",
       "    .dataframe tbody tr th {\n",
       "        vertical-align: top;\n",
       "    }\n",
       "\n",
       "    .dataframe thead th {\n",
       "        text-align: right;\n",
       "    }\n",
       "</style>\n",
       "<table border=\"1\" class=\"dataframe\">\n",
       "  <thead>\n",
       "    <tr style=\"text-align: right;\">\n",
       "      <th></th>\n",
       "      <th>MeanOpen</th>\n",
       "      <th>MeanHigh</th>\n",
       "      <th>MeanLow</th>\n",
       "      <th>MeanClose</th>\n",
       "      <th>MeanVolume</th>\n",
       "      <th>AnnualReturn</th>\n",
       "      <th>AnnualVariance</th>\n",
       "      <th>Oil</th>\n",
       "      <th>Other Energy</th>\n",
       "    </tr>\n",
       "    <tr>\n",
       "      <th>Ticker</th>\n",
       "      <th></th>\n",
       "      <th></th>\n",
       "      <th></th>\n",
       "      <th></th>\n",
       "      <th></th>\n",
       "      <th></th>\n",
       "      <th></th>\n",
       "      <th></th>\n",
       "      <th></th>\n",
       "    </tr>\n",
       "  </thead>\n",
       "  <tbody>\n",
       "    <tr>\n",
       "      <th>ARX</th>\n",
       "      <td>-0.916832</td>\n",
       "      <td>-0.917217</td>\n",
       "      <td>-0.918045</td>\n",
       "      <td>-0.918135</td>\n",
       "      <td>-0.152786</td>\n",
       "      <td>-1.332445</td>\n",
       "      <td>0.460854</td>\n",
       "      <td>1</td>\n",
       "      <td>0</td>\n",
       "    </tr>\n",
       "    <tr>\n",
       "      <th>CCO</th>\n",
       "      <td>-0.880152</td>\n",
       "      <td>-0.879472</td>\n",
       "      <td>-0.879062</td>\n",
       "      <td>-0.878786</td>\n",
       "      <td>-0.379117</td>\n",
       "      <td>1.695742</td>\n",
       "      <td>0.559411</td>\n",
       "      <td>0</td>\n",
       "      <td>1</td>\n",
       "    </tr>\n",
       "    <tr>\n",
       "      <th>CNQ</th>\n",
       "      <td>0.971524</td>\n",
       "      <td>0.977848</td>\n",
       "      <td>0.968315</td>\n",
       "      <td>0.971255</td>\n",
       "      <td>1.272074</td>\n",
       "      <td>-0.089092</td>\n",
       "      <td>-0.154415</td>\n",
       "      <td>1</td>\n",
       "      <td>0</td>\n",
       "    </tr>\n",
       "    <tr>\n",
       "      <th>CVE</th>\n",
       "      <td>-0.994122</td>\n",
       "      <td>-0.992707</td>\n",
       "      <td>-0.994689</td>\n",
       "      <td>-0.993553</td>\n",
       "      <td>2.376902</td>\n",
       "      <td>-0.010201</td>\n",
       "      <td>1.331607</td>\n",
       "      <td>1</td>\n",
       "      <td>0</td>\n",
       "    </tr>\n",
       "    <tr>\n",
       "      <th>CPG</th>\n",
       "      <td>-1.218785</td>\n",
       "      <td>-1.221130</td>\n",
       "      <td>-1.218673</td>\n",
       "      <td>-1.219807</td>\n",
       "      <td>1.846798</td>\n",
       "      <td>-2.254365</td>\n",
       "      <td>1.424424</td>\n",
       "      <td>0</td>\n",
       "      <td>1</td>\n",
       "    </tr>\n",
       "  </tbody>\n",
       "</table>\n",
       "</div>"
      ],
      "text/plain": [
       "        MeanOpen  MeanHigh   MeanLow  MeanClose  MeanVolume  AnnualReturn  \\\n",
       "Ticker                                                                      \n",
       "ARX    -0.916832 -0.917217 -0.918045  -0.918135   -0.152786     -1.332445   \n",
       "CCO    -0.880152 -0.879472 -0.879062  -0.878786   -0.379117      1.695742   \n",
       "CNQ     0.971524  0.977848  0.968315   0.971255    1.272074     -0.089092   \n",
       "CVE    -0.994122 -0.992707 -0.994689  -0.993553    2.376902     -0.010201   \n",
       "CPG    -1.218785 -1.221130 -1.218673  -1.219807    1.846798     -2.254365   \n",
       "\n",
       "        AnnualVariance  Oil  Other Energy  \n",
       "Ticker                                     \n",
       "ARX           0.460854    1             0  \n",
       "CCO           0.559411    0             1  \n",
       "CNQ          -0.154415    1             0  \n",
       "CVE           1.331607    1             0  \n",
       "CPG           1.424424    0             1  "
      ]
     },
     "execution_count": 6,
     "metadata": {},
     "output_type": "execute_result"
    }
   ],
   "source": [
    "# Concatenate the `EnergyType` encoded dummies with the scaled data DataFrame\n",
    "df_stocks_scaled = pd.concat([df_stocks_scaled, oil_dummies], axis=1)\n",
    "\n",
    "# Display the sample data\n",
    "df_stocks_scaled.head()"
   ]
  },
  {
   "cell_type": "markdown",
   "metadata": {},
   "source": [
    "### Step 3: Using the `df_stocks_scaled` DataFrame, cluster the data by using the K-means algorithm and a lowercase-k value of  3. Add the resulting list of company segment values as a new column in the `df_stocks_scaled` DataFrame. \n",
    "\n",
    "> **Rewind** You can use a lowercase-k value of 3 to start, or you can use the elbow method to find the optimal value for lowercase-k."
   ]
  },
  {
   "cell_type": "code",
   "execution_count": 7,
   "metadata": {},
   "outputs": [],
   "source": [
    "# Initialize the K-Means model with n_clusters=3\n",
    "model = KMeans(n_clusters=3, n_init='auto')"
   ]
  },
  {
   "cell_type": "code",
   "execution_count": 8,
   "metadata": {},
   "outputs": [
    {
     "data": {
      "text/html": [
       "<style>#sk-container-id-1 {color: black;background-color: white;}#sk-container-id-1 pre{padding: 0;}#sk-container-id-1 div.sk-toggleable {background-color: white;}#sk-container-id-1 label.sk-toggleable__label {cursor: pointer;display: block;width: 100%;margin-bottom: 0;padding: 0.3em;box-sizing: border-box;text-align: center;}#sk-container-id-1 label.sk-toggleable__label-arrow:before {content: \"▸\";float: left;margin-right: 0.25em;color: #696969;}#sk-container-id-1 label.sk-toggleable__label-arrow:hover:before {color: black;}#sk-container-id-1 div.sk-estimator:hover label.sk-toggleable__label-arrow:before {color: black;}#sk-container-id-1 div.sk-toggleable__content {max-height: 0;max-width: 0;overflow: hidden;text-align: left;background-color: #f0f8ff;}#sk-container-id-1 div.sk-toggleable__content pre {margin: 0.2em;color: black;border-radius: 0.25em;background-color: #f0f8ff;}#sk-container-id-1 input.sk-toggleable__control:checked~div.sk-toggleable__content {max-height: 200px;max-width: 100%;overflow: auto;}#sk-container-id-1 input.sk-toggleable__control:checked~label.sk-toggleable__label-arrow:before {content: \"▾\";}#sk-container-id-1 div.sk-estimator input.sk-toggleable__control:checked~label.sk-toggleable__label {background-color: #d4ebff;}#sk-container-id-1 div.sk-label input.sk-toggleable__control:checked~label.sk-toggleable__label {background-color: #d4ebff;}#sk-container-id-1 input.sk-hidden--visually {border: 0;clip: rect(1px 1px 1px 1px);clip: rect(1px, 1px, 1px, 1px);height: 1px;margin: -1px;overflow: hidden;padding: 0;position: absolute;width: 1px;}#sk-container-id-1 div.sk-estimator {font-family: monospace;background-color: #f0f8ff;border: 1px dotted black;border-radius: 0.25em;box-sizing: border-box;margin-bottom: 0.5em;}#sk-container-id-1 div.sk-estimator:hover {background-color: #d4ebff;}#sk-container-id-1 div.sk-parallel-item::after {content: \"\";width: 100%;border-bottom: 1px solid gray;flex-grow: 1;}#sk-container-id-1 div.sk-label:hover label.sk-toggleable__label {background-color: #d4ebff;}#sk-container-id-1 div.sk-serial::before {content: \"\";position: absolute;border-left: 1px solid gray;box-sizing: border-box;top: 0;bottom: 0;left: 50%;z-index: 0;}#sk-container-id-1 div.sk-serial {display: flex;flex-direction: column;align-items: center;background-color: white;padding-right: 0.2em;padding-left: 0.2em;position: relative;}#sk-container-id-1 div.sk-item {position: relative;z-index: 1;}#sk-container-id-1 div.sk-parallel {display: flex;align-items: stretch;justify-content: center;background-color: white;position: relative;}#sk-container-id-1 div.sk-item::before, #sk-container-id-1 div.sk-parallel-item::before {content: \"\";position: absolute;border-left: 1px solid gray;box-sizing: border-box;top: 0;bottom: 0;left: 50%;z-index: -1;}#sk-container-id-1 div.sk-parallel-item {display: flex;flex-direction: column;z-index: 1;position: relative;background-color: white;}#sk-container-id-1 div.sk-parallel-item:first-child::after {align-self: flex-end;width: 50%;}#sk-container-id-1 div.sk-parallel-item:last-child::after {align-self: flex-start;width: 50%;}#sk-container-id-1 div.sk-parallel-item:only-child::after {width: 0;}#sk-container-id-1 div.sk-dashed-wrapped {border: 1px dashed gray;margin: 0 0.4em 0.5em 0.4em;box-sizing: border-box;padding-bottom: 0.4em;background-color: white;}#sk-container-id-1 div.sk-label label {font-family: monospace;font-weight: bold;display: inline-block;line-height: 1.2em;}#sk-container-id-1 div.sk-label-container {text-align: center;}#sk-container-id-1 div.sk-container {/* jupyter's `normalize.less` sets `[hidden] { display: none; }` but bootstrap.min.css set `[hidden] { display: none !important; }` so we also need the `!important` here to be able to override the default hidden behavior on the sphinx rendered scikit-learn.org. See: https://github.com/scikit-learn/scikit-learn/issues/21755 */display: inline-block !important;position: relative;}#sk-container-id-1 div.sk-text-repr-fallback {display: none;}</style><div id=\"sk-container-id-1\" class=\"sk-top-container\"><div class=\"sk-text-repr-fallback\"><pre>KMeans(n_clusters=3, n_init=&#x27;auto&#x27;)</pre><b>In a Jupyter environment, please rerun this cell to show the HTML representation or trust the notebook. <br />On GitHub, the HTML representation is unable to render, please try loading this page with nbviewer.org.</b></div><div class=\"sk-container\" hidden><div class=\"sk-item\"><div class=\"sk-estimator sk-toggleable\"><input class=\"sk-toggleable__control sk-hidden--visually\" id=\"sk-estimator-id-1\" type=\"checkbox\" checked><label for=\"sk-estimator-id-1\" class=\"sk-toggleable__label sk-toggleable__label-arrow\">KMeans</label><div class=\"sk-toggleable__content\"><pre>KMeans(n_clusters=3, n_init=&#x27;auto&#x27;)</pre></div></div></div></div></div>"
      ],
      "text/plain": [
       "KMeans(n_clusters=3, n_init='auto')"
      ]
     },
     "execution_count": 8,
     "metadata": {},
     "output_type": "execute_result"
    }
   ],
   "source": [
    "# Fit the model for the df_stocks_scaled DataFrame\n",
    "model.fit(df_stocks_scaled)"
   ]
  },
  {
   "cell_type": "code",
   "execution_count": 9,
   "metadata": {},
   "outputs": [
    {
     "name": "stdout",
     "output_type": "stream",
     "text": [
      "[1 1 2 0 0 2 1 1 1 2 1 1 0 1 1 1 2 1 1 2 2 2 2 0]\n"
     ]
    }
   ],
   "source": [
    "# Predict the model segments (clusters)\n",
    "stock_clusters = model.predict(df_stocks_scaled)\n",
    "\n",
    "# View the stock segments\n",
    "print(stock_clusters)"
   ]
  },
  {
   "cell_type": "code",
   "execution_count": 10,
   "metadata": {},
   "outputs": [
    {
     "data": {
      "text/html": [
       "<div>\n",
       "<style scoped>\n",
       "    .dataframe tbody tr th:only-of-type {\n",
       "        vertical-align: middle;\n",
       "    }\n",
       "\n",
       "    .dataframe tbody tr th {\n",
       "        vertical-align: top;\n",
       "    }\n",
       "\n",
       "    .dataframe thead th {\n",
       "        text-align: right;\n",
       "    }\n",
       "</style>\n",
       "<table border=\"1\" class=\"dataframe\">\n",
       "  <thead>\n",
       "    <tr style=\"text-align: right;\">\n",
       "      <th></th>\n",
       "      <th>MeanOpen</th>\n",
       "      <th>MeanHigh</th>\n",
       "      <th>MeanLow</th>\n",
       "      <th>MeanClose</th>\n",
       "      <th>MeanVolume</th>\n",
       "      <th>AnnualReturn</th>\n",
       "      <th>AnnualVariance</th>\n",
       "      <th>Oil</th>\n",
       "      <th>Other Energy</th>\n",
       "      <th>StockCluster</th>\n",
       "    </tr>\n",
       "    <tr>\n",
       "      <th>Ticker</th>\n",
       "      <th></th>\n",
       "      <th></th>\n",
       "      <th></th>\n",
       "      <th></th>\n",
       "      <th></th>\n",
       "      <th></th>\n",
       "      <th></th>\n",
       "      <th></th>\n",
       "      <th></th>\n",
       "      <th></th>\n",
       "    </tr>\n",
       "  </thead>\n",
       "  <tbody>\n",
       "    <tr>\n",
       "      <th>ARX</th>\n",
       "      <td>-0.916832</td>\n",
       "      <td>-0.917217</td>\n",
       "      <td>-0.918045</td>\n",
       "      <td>-0.918135</td>\n",
       "      <td>-0.152786</td>\n",
       "      <td>-1.332445</td>\n",
       "      <td>0.460854</td>\n",
       "      <td>1</td>\n",
       "      <td>0</td>\n",
       "      <td>1</td>\n",
       "    </tr>\n",
       "    <tr>\n",
       "      <th>CCO</th>\n",
       "      <td>-0.880152</td>\n",
       "      <td>-0.879472</td>\n",
       "      <td>-0.879062</td>\n",
       "      <td>-0.878786</td>\n",
       "      <td>-0.379117</td>\n",
       "      <td>1.695742</td>\n",
       "      <td>0.559411</td>\n",
       "      <td>0</td>\n",
       "      <td>1</td>\n",
       "      <td>1</td>\n",
       "    </tr>\n",
       "    <tr>\n",
       "      <th>CNQ</th>\n",
       "      <td>0.971524</td>\n",
       "      <td>0.977848</td>\n",
       "      <td>0.968315</td>\n",
       "      <td>0.971255</td>\n",
       "      <td>1.272074</td>\n",
       "      <td>-0.089092</td>\n",
       "      <td>-0.154415</td>\n",
       "      <td>1</td>\n",
       "      <td>0</td>\n",
       "      <td>2</td>\n",
       "    </tr>\n",
       "    <tr>\n",
       "      <th>CVE</th>\n",
       "      <td>-0.994122</td>\n",
       "      <td>-0.992707</td>\n",
       "      <td>-0.994689</td>\n",
       "      <td>-0.993553</td>\n",
       "      <td>2.376902</td>\n",
       "      <td>-0.010201</td>\n",
       "      <td>1.331607</td>\n",
       "      <td>1</td>\n",
       "      <td>0</td>\n",
       "      <td>0</td>\n",
       "    </tr>\n",
       "    <tr>\n",
       "      <th>CPG</th>\n",
       "      <td>-1.218785</td>\n",
       "      <td>-1.221130</td>\n",
       "      <td>-1.218673</td>\n",
       "      <td>-1.219807</td>\n",
       "      <td>1.846798</td>\n",
       "      <td>-2.254365</td>\n",
       "      <td>1.424424</td>\n",
       "      <td>0</td>\n",
       "      <td>1</td>\n",
       "      <td>0</td>\n",
       "    </tr>\n",
       "  </tbody>\n",
       "</table>\n",
       "</div>"
      ],
      "text/plain": [
       "        MeanOpen  MeanHigh   MeanLow  MeanClose  MeanVolume  AnnualReturn  \\\n",
       "Ticker                                                                      \n",
       "ARX    -0.916832 -0.917217 -0.918045  -0.918135   -0.152786     -1.332445   \n",
       "CCO    -0.880152 -0.879472 -0.879062  -0.878786   -0.379117      1.695742   \n",
       "CNQ     0.971524  0.977848  0.968315   0.971255    1.272074     -0.089092   \n",
       "CVE    -0.994122 -0.992707 -0.994689  -0.993553    2.376902     -0.010201   \n",
       "CPG    -1.218785 -1.221130 -1.218673  -1.219807    1.846798     -2.254365   \n",
       "\n",
       "        AnnualVariance  Oil  Other Energy  StockCluster  \n",
       "Ticker                                                   \n",
       "ARX           0.460854    1             0             1  \n",
       "CCO           0.559411    0             1             1  \n",
       "CNQ          -0.154415    1             0             2  \n",
       "CVE           1.331607    1             0             0  \n",
       "CPG           1.424424    0             1             0  "
      ]
     },
     "execution_count": 10,
     "metadata": {},
     "output_type": "execute_result"
    }
   ],
   "source": [
    "# Create a new column in the DataFrame with the predicted clusters\n",
    "df_stocks_scaled[\"StockCluster\"] = stock_clusters\n",
    "\n",
    "# Review the DataFrame\n",
    "df_stocks_scaled.head()"
   ]
  },
  {
   "cell_type": "markdown",
   "metadata": {},
   "source": [
    "### Step 4: Using Pandas plot, create a scatter plot to visualize the clusters setting `x=\"AnnualVariance\"`,  `y=\"Annual Return\"`, and `by=\"StockCluster\"`. Be sure to style and format your plot."
   ]
  },
  {
   "cell_type": "code",
   "execution_count": 11,
   "metadata": {},
   "outputs": [
    {
     "data": {
      "text/plain": [
       "<Axes: title={'center': 'Scatter Plot by Stock Segment - k=3'}, xlabel='AnnualVariance', ylabel='AnnualReturn'>"
      ]
     },
     "execution_count": 11,
     "metadata": {},
     "output_type": "execute_result"
    },
    {
     "data": {
      "image/png": "[encoded data removed]",
      "text/plain": [
       "<Figure size 640x480 with 2 Axes>"
      ]
     },
     "metadata": {},
     "output_type": "display_data"
    }
   ],
   "source": [
    "# Create a scatter plot with x=\"AnnualVariance:,  y=\"AnnualReturn\"\n",
    "df_stocks_scaled.plot.scatter(\n",
    "    x=\"AnnualVariance\",\n",
    "    y=\"AnnualReturn\",\n",
    "    c=\"StockCluster\",\n",
    "    colormap='winter',\n",
    "    title = \"Scatter Plot by Stock Segment - k=3\"\n",
    ")"
   ]
  },
  {
   "cell_type": "markdown",
   "metadata": {},
   "source": [
    "### Step 5: To get another perspective on the clusters, reduce the number of features to two principal components by using PCA. Make sure to do the following: \n",
    "\n",
    "---\n",
    "- Use the `df_stocks_scaled` DataFrame to complete this analysis. \n",
    "- Review the PCA data. \n",
    "- Calculate the explained variance ratio that results from the PCA data. \n"
   ]
  },
  {
   "cell_type": "code",
   "execution_count": 12,
   "metadata": {},
   "outputs": [],
   "source": [
    "# Create the PCA model instance where n_components=2\n",
    "pca = PCA(n_components=2)"
   ]
  },
  {
   "cell_type": "code",
   "execution_count": 13,
   "metadata": {},
   "outputs": [
    {
     "data": {
      "text/plain": [
       "array([[-1.96491584,  0.63060645],\n",
       "       [-1.62673613, -1.5902607 ],\n",
       "       [ 2.02030981,  1.41606281],\n",
       "       [-2.52573934,  1.93146038],\n",
       "       [-3.2737383 ,  2.3485297 ]])"
      ]
     },
     "execution_count": 13,
     "metadata": {},
     "output_type": "execute_result"
    }
   ],
   "source": [
    "# Fit the df_stocks_scaled data to the PCA\n",
    "stocks_pca_data = pca.fit_transform(df_stocks_scaled)\n",
    "\n",
    "# Review the first five rose of the PCA data\n",
    "# using bracket notation ([0:5])\n",
    "stocks_pca_data[:5]"
   ]
  },
  {
   "cell_type": "code",
   "execution_count": 14,
   "metadata": {},
   "outputs": [
    {
     "data": {
      "text/plain": [
       "array([0.6356748 , 0.16100953])"
      ]
     },
     "execution_count": 14,
     "metadata": {},
     "output_type": "execute_result"
    }
   ],
   "source": [
    "# Calculate the explained variance\n",
    "pca.explained_variance_ratio_"
   ]
  },
  {
   "cell_type": "markdown",
   "metadata": {},
   "source": [
    "### Step 6: Using the PCA data calculated in the previous step, create a new DataFrame called `df_stocks_pca`. Make sure to do the following: \n",
    "\n",
    "* Add an additional column to the DataFrame that contains the tickers from the original `df_stocks` DataFrame. \n",
    "\n",
    "* Set the new Tickers column as the index. \n",
    "\n",
    "* Review the DataFrame.\n"
   ]
  },
  {
   "cell_type": "code",
   "execution_count": 15,
   "metadata": {},
   "outputs": [
    {
     "data": {
      "text/html": [
       "<div>\n",
       "<style scoped>\n",
       "    .dataframe tbody tr th:only-of-type {\n",
       "        vertical-align: middle;\n",
       "    }\n",
       "\n",
       "    .dataframe tbody tr th {\n",
       "        vertical-align: top;\n",
       "    }\n",
       "\n",
       "    .dataframe thead th {\n",
       "        text-align: right;\n",
       "    }\n",
       "</style>\n",
       "<table border=\"1\" class=\"dataframe\">\n",
       "  <thead>\n",
       "    <tr style=\"text-align: right;\">\n",
       "      <th></th>\n",
       "      <th>PC1</th>\n",
       "      <th>PC2</th>\n",
       "    </tr>\n",
       "    <tr>\n",
       "      <th>Ticker</th>\n",
       "      <th></th>\n",
       "      <th></th>\n",
       "    </tr>\n",
       "  </thead>\n",
       "  <tbody>\n",
       "    <tr>\n",
       "      <th>ARX</th>\n",
       "      <td>-1.964916</td>\n",
       "      <td>0.630606</td>\n",
       "    </tr>\n",
       "    <tr>\n",
       "      <th>CCO</th>\n",
       "      <td>-1.626736</td>\n",
       "      <td>-1.590261</td>\n",
       "    </tr>\n",
       "    <tr>\n",
       "      <th>CNQ</th>\n",
       "      <td>2.020310</td>\n",
       "      <td>1.416063</td>\n",
       "    </tr>\n",
       "    <tr>\n",
       "      <th>CVE</th>\n",
       "      <td>-2.525739</td>\n",
       "      <td>1.931460</td>\n",
       "    </tr>\n",
       "    <tr>\n",
       "      <th>CPG</th>\n",
       "      <td>-3.273738</td>\n",
       "      <td>2.348530</td>\n",
       "    </tr>\n",
       "  </tbody>\n",
       "</table>\n",
       "</div>"
      ],
      "text/plain": [
       "             PC1       PC2\n",
       "Ticker                    \n",
       "ARX    -1.964916  0.630606\n",
       "CCO    -1.626736 -1.590261\n",
       "CNQ     2.020310  1.416063\n",
       "CVE    -2.525739  1.931460\n",
       "CPG    -3.273738  2.348530"
      ]
     },
     "execution_count": 15,
     "metadata": {},
     "output_type": "execute_result"
    }
   ],
   "source": [
    "# Creating a DataFrame with the PCA data\n",
    "df_stocks_pca = pd.DataFrame(stocks_pca_data, columns=[\"PC1\", \"PC2\"])\n",
    "\n",
    "# Copy the tickers names from the original data\n",
    "df_stocks_pca[\"Ticker\"] = df_stocks.index\n",
    "\n",
    "# Set the Ticker column as index\n",
    "df_stocks_pca = df_stocks_pca.set_index(\"Ticker\")\n",
    "\n",
    "# Review the DataFrame\n",
    "df_stocks_pca.head()"
   ]
  },
  {
   "cell_type": "markdown",
   "metadata": {},
   "source": [
    "### Step 7: Rerun the K-means algorithm with the new principal-components data, and then create a scatter plot by using the two principal components for the x and y axes, and by using `StockCluster`. Be sure to style and format your plot."
   ]
  },
  {
   "cell_type": "code",
   "execution_count": 16,
   "metadata": {},
   "outputs": [
    {
     "name": "stdout",
     "output_type": "stream",
     "text": [
      "[2 0 1 2 2 1 0 0 0 1 0 0 2 0 0 0 1 0 2 1 1 1 1 2]\n"
     ]
    }
   ],
   "source": [
    "# Initialize the K-Means model with n_clusters=3\n",
    "model = KMeans(n_clusters=3, n_init='auto')\n",
    "\n",
    "# Fit the model for the df_stocks_pca DataFrame\n",
    "model.fit(df_stocks_pca)\n",
    "\n",
    "# Predict the model segments (clusters)\n",
    "stock_clusters = model.predict(df_stocks_pca)\n",
    "\n",
    "# View the stock segments\n",
    "print(stock_clusters)"
   ]
  },
  {
   "cell_type": "code",
   "execution_count": 17,
   "metadata": {},
   "outputs": [
    {
     "data": {
      "text/html": [
       "<div>\n",
       "<style scoped>\n",
       "    .dataframe tbody tr th:only-of-type {\n",
       "        vertical-align: middle;\n",
       "    }\n",
       "\n",
       "    .dataframe tbody tr th {\n",
       "        vertical-align: top;\n",
       "    }\n",
       "\n",
       "    .dataframe thead th {\n",
       "        text-align: right;\n",
       "    }\n",
       "</style>\n",
       "<table border=\"1\" class=\"dataframe\">\n",
       "  <thead>\n",
       "    <tr style=\"text-align: right;\">\n",
       "      <th></th>\n",
       "      <th>PC1</th>\n",
       "      <th>PC2</th>\n",
       "      <th>StockCluster</th>\n",
       "    </tr>\n",
       "    <tr>\n",
       "      <th>Ticker</th>\n",
       "      <th></th>\n",
       "      <th></th>\n",
       "      <th></th>\n",
       "    </tr>\n",
       "  </thead>\n",
       "  <tbody>\n",
       "    <tr>\n",
       "      <th>ARX</th>\n",
       "      <td>-1.964916</td>\n",
       "      <td>0.630606</td>\n",
       "      <td>2</td>\n",
       "    </tr>\n",
       "    <tr>\n",
       "      <th>CCO</th>\n",
       "      <td>-1.626736</td>\n",
       "      <td>-1.590261</td>\n",
       "      <td>0</td>\n",
       "    </tr>\n",
       "    <tr>\n",
       "      <th>CNQ</th>\n",
       "      <td>2.020310</td>\n",
       "      <td>1.416063</td>\n",
       "      <td>1</td>\n",
       "    </tr>\n",
       "    <tr>\n",
       "      <th>CVE</th>\n",
       "      <td>-2.525739</td>\n",
       "      <td>1.931460</td>\n",
       "      <td>2</td>\n",
       "    </tr>\n",
       "    <tr>\n",
       "      <th>CPG</th>\n",
       "      <td>-3.273738</td>\n",
       "      <td>2.348530</td>\n",
       "      <td>2</td>\n",
       "    </tr>\n",
       "  </tbody>\n",
       "</table>\n",
       "</div>"
      ],
      "text/plain": [
       "             PC1       PC2  StockCluster\n",
       "Ticker                                  \n",
       "ARX    -1.964916  0.630606             2\n",
       "CCO    -1.626736 -1.590261             0\n",
       "CNQ     2.020310  1.416063             1\n",
       "CVE    -2.525739  1.931460             2\n",
       "CPG    -3.273738  2.348530             2"
      ]
     },
     "execution_count": 17,
     "metadata": {},
     "output_type": "execute_result"
    }
   ],
   "source": [
    "# Create a copy of the df_stocks_pca DataFrame and name it as df_stocks_pca_predictions\n",
    "df_stocks_pca_predictions = df_stocks_pca.copy()\n",
    "\n",
    "# Create a new column in the DataFrame with the predicted clusters\n",
    "df_stocks_pca_predictions[\"StockCluster\"] = stock_clusters\n",
    "\n",
    "# Review the DataFrame\n",
    "df_stocks_pca_predictions.head()"
   ]
  },
  {
   "cell_type": "code",
   "execution_count": 18,
   "metadata": {},
   "outputs": [
    {
     "data": {
      "text/plain": [
       "<Axes: title={'center': 'Scatter Plot by Stock Segment - PCA=2'}, xlabel='PC1', ylabel='PC2'>"
      ]
     },
     "execution_count": 18,
     "metadata": {},
     "output_type": "execute_result"
    },
    {
     "data": {
      "image/png": "[encoded data removed]",
      "text/plain": [
       "<Figure size 640x480 with 2 Axes>"
      ]
     },
     "metadata": {},
     "output_type": "display_data"
    }
   ],
   "source": [
    "# Create the scatter plot with x=\"PC1\" and y=\"PC2\"\n",
    "df_stocks_pca_predictions.plot.scatter(\n",
    "    x=\"PC1\",\n",
    "    y=\"PC2\",\n",
    "    c=\"StockCluster\",\n",
    "    colormap='winter',\n",
    "    title = \"Scatter Plot by Stock Segment - PCA=2\"\n",
    ")"
   ]
  },
  {
   "cell_type": "code",
   "execution_count": null,
   "metadata": {},
   "outputs": [],
   "source": []
  }
 ],
 "metadata": {
  "kernelspec": {
   "display_name": "Python 3 (ipykernel)",
   "language": "python",
   "name": "python3"
  },
  "language_info": {
   "codemirror_mode": {
    "name": "ipython",
    "version": 3
   },
   "file_extension": ".py",
   "mimetype": "text/x-python",
   "name": "python",
   "nbconvert_exporter": "python",
   "pygments_lexer": "ipython3",
   "version": "3.10.10"
  }
 },
 "nbformat": 4,
 "nbformat_minor": 4
}
