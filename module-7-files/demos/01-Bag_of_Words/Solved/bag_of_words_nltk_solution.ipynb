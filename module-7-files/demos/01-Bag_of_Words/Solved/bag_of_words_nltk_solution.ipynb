{
 "cells": [
  {
   "cell_type": "code",
   "execution_count": 1,
   "id": "04f15f10",
   "metadata": {},
   "outputs": [
    {
     "name": "stderr",
     "output_type": "stream",
     "text": [
      "[nltk_data] Downloading package punkt to /Users/tberton/nltk_data...\n",
      "[nltk_data]   Package punkt is already up-to-date!\n"
     ]
    },
    {
     "data": {
      "text/plain": [
       "True"
      ]
     },
     "execution_count": 1,
     "metadata": {},
     "output_type": "execute_result"
    }
   ],
   "source": [
    "# Import the dependencies\n",
    "import nltk\n",
    "from nltk.corpus import stopwords\n",
    "nltk.download('punkt')"
   ]
  },
  {
   "cell_type": "code",
   "execution_count": 2,
   "id": "67c72302",
   "metadata": {},
   "outputs": [
    {
     "name": "stderr",
     "output_type": "stream",
     "text": [
      "[nltk_data] Downloading package stopwords to\n",
      "[nltk_data]     /Users/tberton/nltk_data...\n",
      "[nltk_data]   Package stopwords is already up-to-date!\n"
     ]
    }
   ],
   "source": [
    "# Initialize the stopwords\n",
    "nltk.download('stopwords')\n",
    "stop_words = set(stopwords.words('english'))"
   ]
  },
  {
   "cell_type": "code",
   "execution_count": 3,
   "id": "10c2beaf",
   "metadata": {},
   "outputs": [],
   "source": [
    "# Define the sentences.\n",
    "sentence_1 = \"I want to invest for retirement.\"\n",
    "sentence_2 = \"Should I invest in mutual funds, or should I invest in stocks?\"\n",
    "sentence_3 = \"I should schedule an appointment with a financial planner.\""
   ]
  },
  {
   "cell_type": "code",
   "execution_count": 4,
   "id": "c5827c3f",
   "metadata": {},
   "outputs": [
    {
     "data": {
      "text/plain": [
       "[['i', 'want', 'to', 'invest', 'for', 'retirement', '.'],\n",
       " ['should',\n",
       "  'i',\n",
       "  'invest',\n",
       "  'in',\n",
       "  'mutual',\n",
       "  'funds',\n",
       "  ',',\n",
       "  'or',\n",
       "  'should',\n",
       "  'i',\n",
       "  'invest',\n",
       "  'in',\n",
       "  'stocks',\n",
       "  '?'],\n",
       " ['i',\n",
       "  'should',\n",
       "  'schedule',\n",
       "  'an',\n",
       "  'appointment',\n",
       "  'with',\n",
       "  'a',\n",
       "  'financial',\n",
       "  'planner',\n",
       "  '.']]"
      ]
     },
     "execution_count": 4,
     "metadata": {},
     "output_type": "execute_result"
    }
   ],
   "source": [
    "# Tokenize the input text\n",
    "tokens = []\n",
    "sentence_1_tokens = nltk.word_tokenize(sentence_1.lower())\n",
    "tokens.append(sentence_1_tokens)\n",
    "sentence_2_tokens = nltk.word_tokenize(sentence_2.lower())\n",
    "tokens.append(sentence_2_tokens)\n",
    "sentence_3_tokens = nltk.word_tokenize(sentence_3.lower())\n",
    "tokens.append(sentence_3_tokens)\n",
    "\n",
    "tokens"
   ]
  },
  {
   "cell_type": "code",
   "execution_count": 5,
   "id": "ecfda1d0",
   "metadata": {},
   "outputs": [
    {
     "data": {
      "text/plain": [
       "[['want', 'invest', 'retirement', '.'],\n",
       " ['invest', 'mutual', 'funds', ',', 'invest', 'stocks', '?'],\n",
       " ['schedule', 'appointment', 'financial', 'planner', '.']]"
      ]
     },
     "execution_count": 5,
     "metadata": {},
     "output_type": "execute_result"
    }
   ],
   "source": [
    "# Remove stopwords\n",
    "filtered_tokens = []\n",
    "for token in tokens:\n",
    "    filtered_token = [word for word in token if not word in stop_words]\n",
    "    filtered_tokens.append(filtered_token)\n",
    "    \n",
    "filtered_tokens"
   ]
  },
  {
   "cell_type": "code",
   "execution_count": 6,
   "id": "c2fd5ec2",
   "metadata": {},
   "outputs": [
    {
     "data": {
      "text/plain": [
       "{'want': 1,\n",
       " 'invest': 3,\n",
       " 'retirement': 1,\n",
       " '.': 2,\n",
       " 'mutual': 1,\n",
       " 'funds': 1,\n",
       " ',': 1,\n",
       " 'stocks': 1,\n",
       " '?': 1,\n",
       " 'schedule': 1,\n",
       " 'appointment': 1,\n",
       " 'financial': 1,\n",
       " 'planner': 1}"
      ]
     },
     "execution_count": 6,
     "metadata": {},
     "output_type": "execute_result"
    }
   ],
   "source": [
    "# Create the bag-of-words\n",
    "bag_of_words = {}\n",
    "for i in range(len(filtered_tokens)):\n",
    "    for word in filtered_tokens[i]:\n",
    "        if word not in bag_of_words:\n",
    "            bag_of_words[word] = 0\n",
    "        bag_of_words[word] += 1\n",
    "\n",
    "bag_of_words      "
   ]
  },
  {
   "cell_type": "code",
   "execution_count": null,
   "id": "d0902311",
   "metadata": {},
   "outputs": [],
   "source": []
  }
 ],
 "metadata": {
  "kernelspec": {
   "display_name": "Python 3 (ipykernel)",
   "language": "python",
   "name": "python3"
  },
  "language_info": {
   "codemirror_mode": {
    "name": "ipython",
    "version": 3
   },
   "file_extension": ".py",
   "mimetype": "text/x-python",
   "name": "python",
   "nbconvert_exporter": "python",
   "pygments_lexer": "ipython3",
   "version": "3.10.10"
  }
 },
 "nbformat": 4,
 "nbformat_minor": 5
}
