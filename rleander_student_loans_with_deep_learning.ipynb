{
  "cells": [
    {
      "cell_type": "markdown",
      "metadata": {
        "id": "3zzSAZoJCwWy"
      },
      "source": [
        "# Student Loan Risk with Deep Learning"
      ]
    },
    {
      "cell_type": "code",
      "execution_count": 1,
      "metadata": {
        "id": "cTO2E5J1CwW0"
      },
      "outputs": [],
      "source": [
        "# Imports\n",
        "import pandas as pd\n",
        "from pathlib import Path\n",
        "import tensorflow as tf\n",
        "from tensorflow.keras.layers import Dense\n",
        "from tensorflow.keras.models import Sequential\n",
        "from sklearn.model_selection import train_test_split\n",
        "from sklearn.preprocessing import StandardScaler"
      ]
    },
    {
      "cell_type": "markdown",
      "metadata": {
        "id": "iPscN0aqCwW1"
      },
      "source": [
        "---\n",
        "\n",
        "## Prepare the data to be used on a neural network model"
      ]
    },
    {
      "cell_type": "markdown",
      "metadata": {
        "id": "purDTfutCwW1"
      },
      "source": [
        "### Step 1: Read the `student_loans.csv` file into a Pandas DataFrame. Review the DataFrame, looking for columns that could eventually define your features and target variables.   "
      ]
    },
    {
      "cell_type": "code",
      "execution_count": 2,
      "metadata": {
        "colab": {
          "base_uri": "https://localhost:8080/"
        },
        "id": "zxbNKj-QCwW1",
        "outputId": "5cd3eda2-6ec1-4200-ffda-8a5cbc0a358f"
      },
      "outputs": [
        {
          "output_type": "stream",
          "name": "stdout",
          "text": [
            "First few rows of the DataFrame:\n",
            "   payment_history  location_parameter  stem_degree_score  gpa_ranking  \\\n",
            "0              7.4                0.70               0.00          1.9   \n",
            "1              7.8                0.88               0.00          2.6   \n",
            "2              7.8                0.76               0.04          2.3   \n",
            "3             11.2                0.28               0.56          1.9   \n",
            "4              7.4                0.70               0.00          1.9   \n",
            "\n",
            "   alumni_success  study_major_code  time_to_completion  \\\n",
            "0           0.076              11.0                34.0   \n",
            "1           0.098              25.0                67.0   \n",
            "2           0.092              15.0                54.0   \n",
            "3           0.075              17.0                60.0   \n",
            "4           0.076              11.0                34.0   \n",
            "\n",
            "   finance_workshop_score  cohort_ranking  total_loan_score  \\\n",
            "0                  0.9978            3.51              0.56   \n",
            "1                  0.9968            3.20              0.68   \n",
            "2                  0.9970            3.26              0.65   \n",
            "3                  0.9980            3.16              0.58   \n",
            "4                  0.9978            3.51              0.56   \n",
            "\n",
            "   financial_aid_score  credit_ranking  \n",
            "0                  9.4               5  \n",
            "1                  9.8               5  \n",
            "2                  9.8               5  \n",
            "3                  9.8               6  \n",
            "4                  9.4               5  \n",
            "\n",
            "DataFrame Information:\n",
            "<class 'pandas.core.frame.DataFrame'>\n",
            "RangeIndex: 1599 entries, 0 to 1598\n",
            "Data columns (total 12 columns):\n",
            " #   Column                  Non-Null Count  Dtype  \n",
            "---  ------                  --------------  -----  \n",
            " 0   payment_history         1599 non-null   float64\n",
            " 1   location_parameter      1599 non-null   float64\n",
            " 2   stem_degree_score       1599 non-null   float64\n",
            " 3   gpa_ranking             1599 non-null   float64\n",
            " 4   alumni_success          1599 non-null   float64\n",
            " 5   study_major_code        1599 non-null   float64\n",
            " 6   time_to_completion      1599 non-null   float64\n",
            " 7   finance_workshop_score  1599 non-null   float64\n",
            " 8   cohort_ranking          1599 non-null   float64\n",
            " 9   total_loan_score        1599 non-null   float64\n",
            " 10  financial_aid_score     1599 non-null   float64\n",
            " 11  credit_ranking          1599 non-null   int64  \n",
            "dtypes: float64(11), int64(1)\n",
            "memory usage: 150.0 KB\n",
            "None\n",
            "\n",
            "DataFrame Statistical Summary:\n",
            "       payment_history  location_parameter  stem_degree_score  gpa_ranking  \\\n",
            "count      1599.000000         1599.000000        1599.000000  1599.000000   \n",
            "mean          8.319637            0.527821           0.270976     2.538806   \n",
            "std           1.741096            0.179060           0.194801     1.409928   \n",
            "min           4.600000            0.120000           0.000000     0.900000   \n",
            "25%           7.100000            0.390000           0.090000     1.900000   \n",
            "50%           7.900000            0.520000           0.260000     2.200000   \n",
            "75%           9.200000            0.640000           0.420000     2.600000   \n",
            "max          15.900000            1.580000           1.000000    15.500000   \n",
            "\n",
            "       alumni_success  study_major_code  time_to_completion  \\\n",
            "count     1599.000000       1599.000000         1599.000000   \n",
            "mean         0.087467         15.874922           46.467792   \n",
            "std          0.047065         10.460157           32.895324   \n",
            "min          0.012000          1.000000            6.000000   \n",
            "25%          0.070000          7.000000           22.000000   \n",
            "50%          0.079000         14.000000           38.000000   \n",
            "75%          0.090000         21.000000           62.000000   \n",
            "max          0.611000         72.000000          289.000000   \n",
            "\n",
            "       finance_workshop_score  cohort_ranking  total_loan_score  \\\n",
            "count             1599.000000     1599.000000       1599.000000   \n",
            "mean                 0.996747        3.311113          0.658149   \n",
            "std                  0.001887        0.154386          0.169507   \n",
            "min                  0.990070        2.740000          0.330000   \n",
            "25%                  0.995600        3.210000          0.550000   \n",
            "50%                  0.996750        3.310000          0.620000   \n",
            "75%                  0.997835        3.400000          0.730000   \n",
            "max                  1.003690        4.010000          2.000000   \n",
            "\n",
            "       financial_aid_score  credit_ranking  \n",
            "count          1599.000000     1599.000000  \n",
            "mean             10.422983        5.636023  \n",
            "std               1.065668        0.807569  \n",
            "min               8.400000        3.000000  \n",
            "25%               9.500000        5.000000  \n",
            "50%              10.200000        6.000000  \n",
            "75%              11.100000        6.000000  \n",
            "max              14.900000        8.000000  \n"
          ]
        }
      ],
      "source": [
        "# Read the csv into a Pandas DataFrame\n",
        "file_path = \"https://static.bc-edx.com/mbc/ai/m6/datasets/student_loans.csv\"\n",
        "df = pd.read_csv(file_path)\n",
        "\n",
        "# Review the DataFrame\n",
        "# Display the first few rows of the DataFrame\n",
        "print(\"First few rows of the DataFrame:\")\n",
        "print(df.head())\n",
        "\n",
        "# Display information about the DataFrame\n",
        "print(\"\\nDataFrame Information:\")\n",
        "print(df.info())\n",
        "\n",
        "# Display statistical summaries of the DataFrame\n",
        "print(\"\\nDataFrame Statistical Summary:\")\n",
        "print(df.describe())"
      ]
    },
    {
      "cell_type": "code",
      "execution_count": 4,
      "metadata": {
        "colab": {
          "base_uri": "https://localhost:8080/"
        },
        "id": "HSBuAnB-CwW1",
        "outputId": "8b0f6a5e-5f7a-4f52-c52a-ce0f6604faf2"
      },
      "outputs": [
        {
          "output_type": "stream",
          "name": "stdout",
          "text": [
            "payment_history           float64\n",
            "location_parameter        float64\n",
            "stem_degree_score         float64\n",
            "gpa_ranking               float64\n",
            "alumni_success            float64\n",
            "study_major_code          float64\n",
            "time_to_completion        float64\n",
            "finance_workshop_score    float64\n",
            "cohort_ranking            float64\n",
            "total_loan_score          float64\n",
            "financial_aid_score       float64\n",
            "credit_ranking              int64\n",
            "dtype: object\n"
          ]
        }
      ],
      "source": [
        "# Review the data types associated with the columns\n",
        "print(df.dtypes)\n"
      ]
    },
    {
      "cell_type": "markdown",
      "metadata": {
        "id": "YckAbGmbCwW1"
      },
      "source": [
        "### Step 2: Using the preprocessed data, create the features (`X`) and target (`y`) datasets. The target dataset should be defined by the preprocessed DataFrame column “credit_ranking”. The remaining columns should define the features dataset."
      ]
    },
    {
      "cell_type": "code",
      "execution_count": 5,
      "metadata": {
        "colab": {
          "base_uri": "https://localhost:8080/"
        },
        "id": "7fdTotbWCwW2",
        "outputId": "57c53fa1-0d3a-48a8-a2fa-3c18ef41330c"
      },
      "outputs": [
        {
          "output_type": "stream",
          "name": "stdout",
          "text": [
            "[5 5 5 6 5]\n"
          ]
        }
      ],
      "source": [
        "# Define the target set y using the credit_ranking column\n",
        "y = df['credit_ranking'].values\n",
        "\n",
        "# Display a sample of y\n",
        "print(y[:5])  # Display the first 5 entries\n"
      ]
    },
    {
      "cell_type": "code",
      "execution_count": 6,
      "metadata": {
        "colab": {
          "base_uri": "https://localhost:8080/"
        },
        "id": "cSuMnZFvCwW2",
        "outputId": "17446a83-287e-4fa4-be9f-95a7a10c851d"
      },
      "outputs": [
        {
          "output_type": "stream",
          "name": "stdout",
          "text": [
            "   payment_history  location_parameter  stem_degree_score  gpa_ranking  \\\n",
            "0              7.4                0.70               0.00          1.9   \n",
            "1              7.8                0.88               0.00          2.6   \n",
            "2              7.8                0.76               0.04          2.3   \n",
            "3             11.2                0.28               0.56          1.9   \n",
            "4              7.4                0.70               0.00          1.9   \n",
            "\n",
            "   alumni_success  study_major_code  time_to_completion  \\\n",
            "0           0.076              11.0                34.0   \n",
            "1           0.098              25.0                67.0   \n",
            "2           0.092              15.0                54.0   \n",
            "3           0.075              17.0                60.0   \n",
            "4           0.076              11.0                34.0   \n",
            "\n",
            "   finance_workshop_score  cohort_ranking  total_loan_score  \\\n",
            "0                  0.9978            3.51              0.56   \n",
            "1                  0.9968            3.20              0.68   \n",
            "2                  0.9970            3.26              0.65   \n",
            "3                  0.9980            3.16              0.58   \n",
            "4                  0.9978            3.51              0.56   \n",
            "\n",
            "   financial_aid_score  \n",
            "0                  9.4  \n",
            "1                  9.8  \n",
            "2                  9.8  \n",
            "3                  9.8  \n",
            "4                  9.4  \n"
          ]
        }
      ],
      "source": [
        "# Define features set X by selecting all columns but credit_ranking\n",
        "X = df.drop(columns=['credit_ranking'])\n",
        "\n",
        "# Review the features DataFrame\n",
        "print(X.head())  # Display the first few rows\n"
      ]
    },
    {
      "cell_type": "markdown",
      "metadata": {
        "id": "8feX5OKfCwW2"
      },
      "source": [
        "### Step 3: Split the features and target sets into training and testing datasets.\n"
      ]
    },
    {
      "cell_type": "code",
      "execution_count": 7,
      "metadata": {
        "colab": {
          "base_uri": "https://localhost:8080/"
        },
        "id": "-JKNv--FCwW2",
        "outputId": "da357f74-c858-46bd-8d89-e10fc2d16e59"
      },
      "outputs": [
        {
          "output_type": "stream",
          "name": "stdout",
          "text": [
            "X_train shape: (1199, 11)\n",
            "X_test shape: (400, 11)\n",
            "y_train shape: (1199,)\n",
            "y_test shape: (400,)\n"
          ]
        }
      ],
      "source": [
        "# Split the preprocessed data into a training and testing dataset\n",
        "# Assign the function a random_state equal to 1\n",
        "from sklearn.model_selection import train_test_split\n",
        "\n",
        "# Split the preprocessed data into a training and testing dataset\n",
        "X_train, X_test, y_train, y_test = train_test_split(X, y, random_state=1)\n",
        "\n",
        "# Optionally, you can review the shapes of the datasets\n",
        "print(\"X_train shape:\", X_train.shape)\n",
        "print(\"X_test shape:\", X_test.shape)\n",
        "print(\"y_train shape:\", y_train.shape)\n",
        "print(\"y_test shape:\", y_test.shape)\n"
      ]
    },
    {
      "cell_type": "markdown",
      "metadata": {
        "id": "Bv8R4MmOCwW2"
      },
      "source": [
        "### Step 4: Use scikit-learn's `StandardScaler` to scale the features data."
      ]
    },
    {
      "cell_type": "code",
      "execution_count": 9,
      "metadata": {
        "colab": {
          "base_uri": "https://localhost:8080/"
        },
        "id": "5rNisiV7CwW2",
        "outputId": "c528ec82-2cbc-4914-9ef5-8e3c5610aa81"
      },
      "outputs": [
        {
          "output_type": "stream",
          "name": "stdout",
          "text": [
            "Scaled X_train sample:\n",
            " [[-0.56794375 -1.18088385 -0.19241296 -0.17192598 -0.45737585  1.86853316\n",
            "   0.7479316  -0.45120802  0.73249574 -0.22553894 -0.31915735]\n",
            " [-0.00940983  0.80065564 -0.04123135 -0.32236513 -0.0699402  -0.45384715\n",
            "  -0.08558383  0.44779905 -0.03016065 -0.75844691 -1.15783431]\n",
            " [ 2.33643265 -0.84597577  1.67216021  0.05373275 -0.13451281  1.48146978\n",
            "   0.80967349  1.49315611 -1.36480934  0.42579302  0.05358797]\n",
            " [ 0.21400374  1.30301776 -0.24280683 -0.17192598 -0.50042426 -0.64737885\n",
            "  -0.11645477 -0.23168303 -1.36480934 -0.64002292 -0.97146166]\n",
            " [-0.00940983  1.74956187 -1.30107808 -0.24714555 -0.37127904 -1.03444223\n",
            "  -0.98084114 -0.02261162  0.03339405 -0.46238693  0.51951962]]\n",
            "Scaled X_test sample:\n",
            " [[ 0.26985713 -0.67852173  1.87373569 -0.24714555  0.12377763 -0.64737885\n",
            "  -0.11645477  0.97047758  1.43159743  0.01130905  0.05358797]\n",
            " [ 0.21400374  0.54947458  0.05955639  0.12895233  0.18835024  0.12674792\n",
            "   0.71706066  0.31190264 -0.34793415 -0.16632694 -0.22597102]\n",
            " [ 1.16351141 -1.06924782  1.57137247  0.88114808  1.86723809 -0.93767639\n",
            "  -0.91909926  0.13419194 -0.79281704  0.24815703  0.7990786 ]\n",
            " [-0.67965054 -0.39943166 -0.34359456 -0.47280428 -0.22060962  1.19117224\n",
            "   0.25399653 -0.597558    0.35116754 -0.10711495 -0.03959836]\n",
            " [-0.67965054 -0.79015775 -0.74674552 -0.32236513 -0.47890006 -0.16354961\n",
            "  -0.67213173 -2.20740788 -0.09371535 -0.75844691  2.66280519]]\n"
          ]
        }
      ],
      "source": [
        "from sklearn.preprocessing import StandardScaler\n",
        "\n",
        "# Create a StandardScaler instance\n",
        "scaler = StandardScaler()\n",
        "\n",
        "# Fit the scaler to the features training dataset\n",
        "scaler.fit(X_train)\n",
        "\n",
        "# Fit the scaler to the features training dataset\n",
        "# Assumed this ^ was a typo and ignored it\n",
        "\n",
        "# Scale the features training dataset\n",
        "X_train_scaled = scaler.transform(X_train)\n",
        "\n",
        "# Scale the features testing dataset\n",
        "X_test_scaled = scaler.transform(X_test)\n",
        "\n",
        "# Review the scaled data\n",
        "print(\"Scaled X_train sample:\\n\", X_train_scaled[:5])\n",
        "print(\"Scaled X_test sample:\\n\", X_test_scaled[:5])"
      ]
    },
    {
      "cell_type": "markdown",
      "metadata": {
        "id": "ebNbH0sUCwW2"
      },
      "source": [
        "---\n",
        "\n",
        "## Compile and Evaluate a Model Using a Neural Network"
      ]
    },
    {
      "cell_type": "markdown",
      "metadata": {
        "id": "Rn8FxEuaCwW2"
      },
      "source": [
        "### Step 1: Create a deep neural network by assigning the number of input features, the number of layers, and the number of neurons on each layer using Tensorflow’s Keras.\n",
        "\n",
        "> **Hint** You can start with a two-layer deep neural network model that uses the `relu` activation function for both layers.\n"
      ]
    },
    {
      "cell_type": "code",
      "execution_count": 10,
      "metadata": {
        "colab": {
          "base_uri": "https://localhost:8080/"
        },
        "id": "lPvAwF8BCwW3",
        "outputId": "154415f5-a0a3-4856-f12f-9c7c96051fad"
      },
      "outputs": [
        {
          "output_type": "stream",
          "name": "stdout",
          "text": [
            "11\n"
          ]
        }
      ],
      "source": [
        "# Define the number of inputs (features) to the model\n",
        "number_input_features = X_train_scaled.shape[1]\n",
        "\n",
        "# Review the number of features\n",
        "print(number_input_features)\n"
      ]
    },
    {
      "cell_type": "code",
      "execution_count": 11,
      "metadata": {
        "id": "71EPNhgcCwW3"
      },
      "outputs": [],
      "source": [
        "# Define the number of neurons in the output layer\n",
        "number_output_neurons = 1\n"
      ]
    },
    {
      "cell_type": "code",
      "execution_count": 13,
      "metadata": {
        "colab": {
          "base_uri": "https://localhost:8080/"
        },
        "id": "tSU-Yn39CwW3",
        "outputId": "39cff876-c95f-481e-e05d-c3fbd1eadcc5"
      },
      "outputs": [
        {
          "output_type": "stream",
          "name": "stdout",
          "text": [
            "6\n"
          ]
        }
      ],
      "source": [
        "# Define the number of hidden nodes for the first hidden layer\n",
        "hidden_nodes_layer1 = (number_input_features + number_output_neurons) // 2\n",
        "\n",
        "# Review the number hidden nodes in the first layer\n",
        "print(hidden_nodes_layer1)\n"
      ]
    },
    {
      "cell_type": "code",
      "execution_count": 15,
      "metadata": {
        "colab": {
          "base_uri": "https://localhost:8080/"
        },
        "id": "-WbEwCecCwW3",
        "outputId": "c2b01938-b314-4bf3-8829-6e9a74c44c28"
      },
      "outputs": [
        {
          "output_type": "stream",
          "name": "stdout",
          "text": [
            "3\n"
          ]
        }
      ],
      "source": [
        "# Define the number of hidden nodes for the second hidden layer\n",
        "hidden_nodes_layer2 = hidden_nodes_layer1 // 2\n",
        "\n",
        "# Review the number hidden nodes in the second layer\n",
        "print(hidden_nodes_layer2)\n"
      ]
    },
    {
      "cell_type": "code",
      "execution_count": 16,
      "metadata": {
        "id": "xYAhqJXzCwW3"
      },
      "outputs": [],
      "source": [
        "# Create the Sequential model instance\n",
        "model = Sequential()\n"
      ]
    },
    {
      "cell_type": "code",
      "execution_count": 17,
      "metadata": {
        "id": "6Q1jS4qhCwW3"
      },
      "outputs": [],
      "source": [
        "# Add the first hidden layer\n",
        "model.add(Dense(units=hidden_nodes_layer1, input_dim=number_input_features, activation='relu'))\n"
      ]
    },
    {
      "cell_type": "code",
      "execution_count": 18,
      "metadata": {
        "id": "Qa1_epbJCwW3"
      },
      "outputs": [],
      "source": [
        "# Add the second hidden layer\n",
        "model.add(Dense(units=hidden_nodes_layer2, activation='relu'))\n"
      ]
    },
    {
      "cell_type": "code",
      "execution_count": 19,
      "metadata": {
        "id": "367qDhF9CwW3"
      },
      "outputs": [],
      "source": [
        "# Add the output layer to the model specifying the number of output neurons and activation function\n",
        "model.add(Dense(units=1, activation='linear'))\n"
      ]
    },
    {
      "cell_type": "code",
      "execution_count": 20,
      "metadata": {
        "colab": {
          "base_uri": "https://localhost:8080/"
        },
        "id": "nK-oWyv8CwW3",
        "outputId": "4284f8bd-640f-4a15-d1f4-dcedff01344f"
      },
      "outputs": [
        {
          "output_type": "stream",
          "name": "stdout",
          "text": [
            "Model: \"sequential\"\n",
            "_________________________________________________________________\n",
            " Layer (type)                Output Shape              Param #   \n",
            "=================================================================\n",
            " dense (Dense)               (None, 6)                 72        \n",
            "                                                                 \n",
            " dense_1 (Dense)             (None, 3)                 21        \n",
            "                                                                 \n",
            " dense_2 (Dense)             (None, 1)                 4         \n",
            "                                                                 \n",
            "=================================================================\n",
            "Total params: 97 (388.00 Byte)\n",
            "Trainable params: 97 (388.00 Byte)\n",
            "Non-trainable params: 0 (0.00 Byte)\n",
            "_________________________________________________________________\n"
          ]
        }
      ],
      "source": [
        "# Display the Sequential model summary\n",
        "model.summary()\n"
      ]
    },
    {
      "cell_type": "markdown",
      "metadata": {
        "id": "DrOvUJT3CwW3"
      },
      "source": [
        "### Step 2: Compile and fit the model using the `mse` loss function, the `adam` optimizer, and the `mse` evaluation metric.\n"
      ]
    },
    {
      "cell_type": "code",
      "execution_count": 21,
      "metadata": {
        "id": "3nLCHT45CwW3"
      },
      "outputs": [],
      "source": [
        "# Compile the Sequential model\n",
        "model.compile(loss=\"mse\", optimizer=\"adam\", metrics=[\"mse\"])\n"
      ]
    },
    {
      "cell_type": "code",
      "execution_count": 22,
      "metadata": {
        "colab": {
          "base_uri": "https://localhost:8080/"
        },
        "id": "xtJN_EXMCwW3",
        "outputId": "f323858f-e045-4f7b-f379-5e5eacf05121"
      },
      "outputs": [
        {
          "output_type": "stream",
          "name": "stdout",
          "text": [
            "Epoch 1/50\n",
            "38/38 [==============================] - 1s 4ms/step - loss: 34.3902 - mse: 34.3902\n",
            "Epoch 2/50\n",
            "38/38 [==============================] - 0s 3ms/step - loss: 32.8451 - mse: 32.8451\n",
            "Epoch 3/50\n",
            "38/38 [==============================] - 0s 2ms/step - loss: 31.8808 - mse: 31.8808\n",
            "Epoch 4/50\n",
            "38/38 [==============================] - 0s 3ms/step - loss: 31.2607 - mse: 31.2607\n",
            "Epoch 5/50\n",
            "38/38 [==============================] - 0s 2ms/step - loss: 30.7746 - mse: 30.7746\n",
            "Epoch 6/50\n",
            "38/38 [==============================] - 0s 2ms/step - loss: 30.3379 - mse: 30.3379\n",
            "Epoch 7/50\n",
            "38/38 [==============================] - 0s 2ms/step - loss: 29.9159 - mse: 29.9159\n",
            "Epoch 8/50\n",
            "38/38 [==============================] - 0s 2ms/step - loss: 29.5053 - mse: 29.5053\n",
            "Epoch 9/50\n",
            "38/38 [==============================] - 0s 2ms/step - loss: 29.1026 - mse: 29.1026\n",
            "Epoch 10/50\n",
            "38/38 [==============================] - 0s 2ms/step - loss: 28.7063 - mse: 28.7063\n",
            "Epoch 11/50\n",
            "38/38 [==============================] - 0s 2ms/step - loss: 28.3168 - mse: 28.3168\n",
            "Epoch 12/50\n",
            "38/38 [==============================] - 0s 2ms/step - loss: 27.9320 - mse: 27.9320\n",
            "Epoch 13/50\n",
            "38/38 [==============================] - 0s 2ms/step - loss: 27.5517 - mse: 27.5517\n",
            "Epoch 14/50\n",
            "38/38 [==============================] - 0s 3ms/step - loss: 27.1754 - mse: 27.1754\n",
            "Epoch 15/50\n",
            "38/38 [==============================] - 0s 2ms/step - loss: 26.8029 - mse: 26.8029\n",
            "Epoch 16/50\n",
            "38/38 [==============================] - 0s 3ms/step - loss: 26.4350 - mse: 26.4350\n",
            "Epoch 17/50\n",
            "38/38 [==============================] - 0s 3ms/step - loss: 26.0697 - mse: 26.0697\n",
            "Epoch 18/50\n",
            "38/38 [==============================] - 0s 2ms/step - loss: 25.7086 - mse: 25.7086\n",
            "Epoch 19/50\n",
            "38/38 [==============================] - 0s 3ms/step - loss: 25.3506 - mse: 25.3506\n",
            "Epoch 20/50\n",
            "38/38 [==============================] - 0s 2ms/step - loss: 24.9971 - mse: 24.9971\n",
            "Epoch 21/50\n",
            "38/38 [==============================] - 0s 2ms/step - loss: 24.6463 - mse: 24.6463\n",
            "Epoch 22/50\n",
            "38/38 [==============================] - 0s 2ms/step - loss: 24.2998 - mse: 24.2998\n",
            "Epoch 23/50\n",
            "38/38 [==============================] - 0s 2ms/step - loss: 23.9565 - mse: 23.9565\n",
            "Epoch 24/50\n",
            "38/38 [==============================] - 0s 3ms/step - loss: 23.6168 - mse: 23.6168\n",
            "Epoch 25/50\n",
            "38/38 [==============================] - 0s 2ms/step - loss: 23.2804 - mse: 23.2804\n",
            "Epoch 26/50\n",
            "38/38 [==============================] - 0s 2ms/step - loss: 22.9477 - mse: 22.9477\n",
            "Epoch 27/50\n",
            "38/38 [==============================] - 0s 2ms/step - loss: 22.6182 - mse: 22.6182\n",
            "Epoch 28/50\n",
            "38/38 [==============================] - 0s 2ms/step - loss: 22.2918 - mse: 22.2918\n",
            "Epoch 29/50\n",
            "38/38 [==============================] - 0s 2ms/step - loss: 21.9690 - mse: 21.9690\n",
            "Epoch 30/50\n",
            "38/38 [==============================] - 0s 2ms/step - loss: 21.6498 - mse: 21.6498\n",
            "Epoch 31/50\n",
            "38/38 [==============================] - 0s 2ms/step - loss: 21.3337 - mse: 21.3337\n",
            "Epoch 32/50\n",
            "38/38 [==============================] - 0s 2ms/step - loss: 21.0206 - mse: 21.0206\n",
            "Epoch 33/50\n",
            "38/38 [==============================] - 0s 2ms/step - loss: 20.7109 - mse: 20.7109\n",
            "Epoch 34/50\n",
            "38/38 [==============================] - 0s 2ms/step - loss: 20.4047 - mse: 20.4047\n",
            "Epoch 35/50\n",
            "38/38 [==============================] - 0s 2ms/step - loss: 20.1019 - mse: 20.1019\n",
            "Epoch 36/50\n",
            "38/38 [==============================] - 0s 2ms/step - loss: 19.8017 - mse: 19.8017\n",
            "Epoch 37/50\n",
            "38/38 [==============================] - 0s 3ms/step - loss: 19.5049 - mse: 19.5049\n",
            "Epoch 38/50\n",
            "38/38 [==============================] - 0s 3ms/step - loss: 19.2111 - mse: 19.2111\n",
            "Epoch 39/50\n",
            "38/38 [==============================] - 0s 3ms/step - loss: 18.9205 - mse: 18.9205\n",
            "Epoch 40/50\n",
            "38/38 [==============================] - 0s 3ms/step - loss: 18.6331 - mse: 18.6331\n",
            "Epoch 41/50\n",
            "38/38 [==============================] - 0s 3ms/step - loss: 18.3486 - mse: 18.3486\n",
            "Epoch 42/50\n",
            "38/38 [==============================] - 0s 2ms/step - loss: 18.0670 - mse: 18.0670\n",
            "Epoch 43/50\n",
            "38/38 [==============================] - 0s 2ms/step - loss: 17.7884 - mse: 17.7884\n",
            "Epoch 44/50\n",
            "38/38 [==============================] - 0s 3ms/step - loss: 17.5130 - mse: 17.5130\n",
            "Epoch 45/50\n",
            "38/38 [==============================] - 0s 2ms/step - loss: 17.2401 - mse: 17.2401\n",
            "Epoch 46/50\n",
            "38/38 [==============================] - 0s 3ms/step - loss: 16.9708 - mse: 16.9708\n",
            "Epoch 47/50\n",
            "38/38 [==============================] - 0s 3ms/step - loss: 16.7042 - mse: 16.7042\n",
            "Epoch 48/50\n",
            "38/38 [==============================] - 0s 3ms/step - loss: 16.4404 - mse: 16.4404\n",
            "Epoch 49/50\n",
            "38/38 [==============================] - 0s 3ms/step - loss: 16.1796 - mse: 16.1796\n",
            "Epoch 50/50\n",
            "38/38 [==============================] - 0s 2ms/step - loss: 15.9215 - mse: 15.9215\n"
          ]
        },
        {
          "output_type": "execute_result",
          "data": {
            "text/plain": [
              "<keras.src.callbacks.History at 0x7e29d8bb7b80>"
            ]
          },
          "metadata": {},
          "execution_count": 22
        }
      ],
      "source": [
        "# Fit the model using 50 epochs and the training data\n",
        "model.fit(X_train_scaled, y_train, epochs=50)\n"
      ]
    },
    {
      "cell_type": "markdown",
      "metadata": {
        "id": "6gcMF3nkCwW4"
      },
      "source": [
        "### Step 3: Evaluate the model using the test data to determine the model’s loss and accuracy.\n"
      ]
    },
    {
      "cell_type": "code",
      "execution_count": 23,
      "metadata": {
        "colab": {
          "base_uri": "https://localhost:8080/"
        },
        "id": "TPUrLaPhCwW4",
        "outputId": "a7fc9b7f-db75-4687-cc94-34565382371b"
      },
      "outputs": [
        {
          "output_type": "stream",
          "name": "stdout",
          "text": [
            "13/13 - 0s - loss: 15.3866 - mse: 15.3866 - 166ms/epoch - 13ms/step\n",
            "Loss: 15.386613845825195, Accuracy: 15.386613845825195\n"
          ]
        }
      ],
      "source": [
        "# Evaluate the model loss and accuracy metrics using the evaluate method and the test data\n",
        "model_loss, model_accuracy = model.evaluate(X_test_scaled, y_test, verbose=2)\n",
        "\n",
        "# Display the model loss and accuracy results\n",
        "print(f\"Loss: {model_loss}, Accuracy: {model_accuracy}\")\n"
      ]
    },
    {
      "cell_type": "markdown",
      "metadata": {
        "id": "RslkHP0mCwW4"
      },
      "source": [
        "### Step 4: Save and export your model to an HDF5 file, and name the file `student_loans.h5`.\n"
      ]
    },
    {
      "cell_type": "code",
      "execution_count": 24,
      "metadata": {
        "colab": {
          "base_uri": "https://localhost:8080/"
        },
        "id": "U7hkG_nNCwW4",
        "outputId": "da02157e-4f97-4a4b-8367-cf1929954977"
      },
      "outputs": [
        {
          "output_type": "stream",
          "name": "stderr",
          "text": [
            "/usr/local/lib/python3.10/dist-packages/keras/src/engine/training.py:3079: UserWarning: You are saving your model as an HDF5 file via `model.save()`. This file format is considered legacy. We recommend using instead the native Keras format, e.g. `model.save('my_model.keras')`.\n",
            "  saving_api.save_model(\n"
          ]
        }
      ],
      "source": [
        "# Set the model's file path\n",
        "file_path = \"student_loans.h5\"\n",
        "\n",
        "# Export your model to a HDF5 file\n",
        "model.save(file_path)\n"
      ]
    },
    {
      "cell_type": "markdown",
      "metadata": {
        "id": "ovnJxejlCwW4"
      },
      "source": [
        "---\n",
        "## Predict Loan Repayment Success by Using your Neural Network Model"
      ]
    },
    {
      "cell_type": "markdown",
      "metadata": {
        "id": "Q5vGhIPTCwW4"
      },
      "source": [
        "### Step 1: Reload your saved model."
      ]
    },
    {
      "cell_type": "code",
      "execution_count": 26,
      "metadata": {
        "id": "oVXNns9bCwW4"
      },
      "outputs": [],
      "source": [
        "# Import the load_model function from the tensorflow.keras.models module\n",
        "from tensorflow.keras.models import load_model\n",
        "\n",
        "# Set the model's file path\n",
        "file_path = \"student_loans.h5\"\n",
        "\n",
        "# Load the model to a new object\n",
        "nn_imported = load_model(file_path)\n"
      ]
    },
    {
      "cell_type": "markdown",
      "metadata": {
        "id": "W7zl8RCZCwW4"
      },
      "source": [
        "### Step 2: Make predictions on the testing data."
      ]
    },
    {
      "cell_type": "code",
      "execution_count": 27,
      "metadata": {
        "colab": {
          "base_uri": "https://localhost:8080/"
        },
        "id": "vRIQG8OdCwW4",
        "outputId": "9aca598e-ba13-4d07-81fc-51ff714881f5"
      },
      "outputs": [
        {
          "output_type": "stream",
          "name": "stdout",
          "text": [
            "13/13 [==============================] - 0s 2ms/step\n"
          ]
        }
      ],
      "source": [
        "# Make predictions on the testing data\n",
        "predictions = nn_imported.predict(X_test_scaled)\n"
      ]
    },
    {
      "cell_type": "markdown",
      "metadata": {
        "id": "lxjzvMBCCwW4"
      },
      "source": [
        "### Step 3: Create a DataFrame to compare the predictions with the actual values."
      ]
    },
    {
      "cell_type": "code",
      "execution_count": 28,
      "metadata": {
        "id": "GAyu3U4XCwW4"
      },
      "outputs": [],
      "source": [
        "# Create a DataFrame to compare the predictions with the actual values\n",
        "results_df = pd.DataFrame({\n",
        "    \"Actual\": y_test,\n",
        "    \"Predicted\": predictions.ravel()\n",
        "})\n"
      ]
    },
    {
      "cell_type": "markdown",
      "metadata": {
        "id": "1CtfncucCwW4"
      },
      "source": [
        "### Step 4: Display a sample of the DataFrame you created in step 3."
      ]
    },
    {
      "cell_type": "code",
      "execution_count": 29,
      "metadata": {
        "colab": {
          "base_uri": "https://localhost:8080/",
          "height": 206
        },
        "id": "K5FfIhBrCwXC",
        "outputId": "1379c7ab-2270-461b-a9d9-6b2b8e6b505b"
      },
      "outputs": [
        {
          "output_type": "execute_result",
          "data": {
            "text/plain": [
              "   Actual  Predicted\n",
              "0       5   1.758364\n",
              "1       6   1.758364\n",
              "2       6   1.758364\n",
              "3       6   1.758364\n",
              "4       6   1.758364"
            ],
            "text/html": [
              "\n",
              "  <div id=\"df-e60acd66-fe3e-4808-8b46-016eaa88dd40\" class=\"colab-df-container\">\n",
              "    <div>\n",
              "<style scoped>\n",
              "    .dataframe tbody tr th:only-of-type {\n",
              "        vertical-align: middle;\n",
              "    }\n",
              "\n",
              "    .dataframe tbody tr th {\n",
              "        vertical-align: top;\n",
              "    }\n",
              "\n",
              "    .dataframe thead th {\n",
              "        text-align: right;\n",
              "    }\n",
              "</style>\n",
              "<table border=\"1\" class=\"dataframe\">\n",
              "  <thead>\n",
              "    <tr style=\"text-align: right;\">\n",
              "      <th></th>\n",
              "      <th>Actual</th>\n",
              "      <th>Predicted</th>\n",
              "    </tr>\n",
              "  </thead>\n",
              "  <tbody>\n",
              "    <tr>\n",
              "      <th>0</th>\n",
              "      <td>5</td>\n",
              "      <td>1.758364</td>\n",
              "    </tr>\n",
              "    <tr>\n",
              "      <th>1</th>\n",
              "      <td>6</td>\n",
              "      <td>1.758364</td>\n",
              "    </tr>\n",
              "    <tr>\n",
              "      <th>2</th>\n",
              "      <td>6</td>\n",
              "      <td>1.758364</td>\n",
              "    </tr>\n",
              "    <tr>\n",
              "      <th>3</th>\n",
              "      <td>6</td>\n",
              "      <td>1.758364</td>\n",
              "    </tr>\n",
              "    <tr>\n",
              "      <th>4</th>\n",
              "      <td>6</td>\n",
              "      <td>1.758364</td>\n",
              "    </tr>\n",
              "  </tbody>\n",
              "</table>\n",
              "</div>\n",
              "    <div class=\"colab-df-buttons\">\n",
              "\n",
              "  <div class=\"colab-df-container\">\n",
              "    <button class=\"colab-df-convert\" onclick=\"convertToInteractive('df-e60acd66-fe3e-4808-8b46-016eaa88dd40')\"\n",
              "            title=\"Convert this dataframe to an interactive table.\"\n",
              "            style=\"display:none;\">\n",
              "\n",
              "  <svg xmlns=\"http://www.w3.org/2000/svg\" height=\"24px\" viewBox=\"0 -960 960 960\">\n",
              "    <path d=\"M120-120v-720h720v720H120Zm60-500h600v-160H180v160Zm220 220h160v-160H400v160Zm0 220h160v-160H400v160ZM180-400h160v-160H180v160Zm440 0h160v-160H620v160ZM180-180h160v-160H180v160Zm440 0h160v-160H620v160Z\"/>\n",
              "  </svg>\n",
              "    </button>\n",
              "\n",
              "  <style>\n",
              "    .colab-df-container {\n",
              "      display:flex;\n",
              "      gap: 12px;\n",
              "    }\n",
              "\n",
              "    .colab-df-convert {\n",
              "      background-color: #E8F0FE;\n",
              "      border: none;\n",
              "      border-radius: 50%;\n",
              "      cursor: pointer;\n",
              "      display: none;\n",
              "      fill: #1967D2;\n",
              "      height: 32px;\n",
              "      padding: 0 0 0 0;\n",
              "      width: 32px;\n",
              "    }\n",
              "\n",
              "    .colab-df-convert:hover {\n",
              "      background-color: #E2EBFA;\n",
              "      box-shadow: 0px 1px 2px rgba(60, 64, 67, 0.3), 0px 1px 3px 1px rgba(60, 64, 67, 0.15);\n",
              "      fill: #174EA6;\n",
              "    }\n",
              "\n",
              "    .colab-df-buttons div {\n",
              "      margin-bottom: 4px;\n",
              "    }\n",
              "\n",
              "    [theme=dark] .colab-df-convert {\n",
              "      background-color: #3B4455;\n",
              "      fill: #D2E3FC;\n",
              "    }\n",
              "\n",
              "    [theme=dark] .colab-df-convert:hover {\n",
              "      background-color: #434B5C;\n",
              "      box-shadow: 0px 1px 3px 1px rgba(0, 0, 0, 0.15);\n",
              "      filter: drop-shadow(0px 1px 2px rgba(0, 0, 0, 0.3));\n",
              "      fill: #FFFFFF;\n",
              "    }\n",
              "  </style>\n",
              "\n",
              "    <script>\n",
              "      const buttonEl =\n",
              "        document.querySelector('#df-e60acd66-fe3e-4808-8b46-016eaa88dd40 button.colab-df-convert');\n",
              "      buttonEl.style.display =\n",
              "        google.colab.kernel.accessAllowed ? 'block' : 'none';\n",
              "\n",
              "      async function convertToInteractive(key) {\n",
              "        const element = document.querySelector('#df-e60acd66-fe3e-4808-8b46-016eaa88dd40');\n",
              "        const dataTable =\n",
              "          await google.colab.kernel.invokeFunction('convertToInteractive',\n",
              "                                                    [key], {});\n",
              "        if (!dataTable) return;\n",
              "\n",
              "        const docLinkHtml = 'Like what you see? Visit the ' +\n",
              "          '<a target=\"_blank\" href=https://colab.research.google.com/notebooks/data_table.ipynb>data table notebook</a>'\n",
              "          + ' to learn more about interactive tables.';\n",
              "        element.innerHTML = '';\n",
              "        dataTable['output_type'] = 'display_data';\n",
              "        await google.colab.output.renderOutput(dataTable, element);\n",
              "        const docLink = document.createElement('div');\n",
              "        docLink.innerHTML = docLinkHtml;\n",
              "        element.appendChild(docLink);\n",
              "      }\n",
              "    </script>\n",
              "  </div>\n",
              "\n",
              "\n",
              "<div id=\"df-671eebb6-b3bd-44f1-8f1f-0a47bd4e2283\">\n",
              "  <button class=\"colab-df-quickchart\" onclick=\"quickchart('df-671eebb6-b3bd-44f1-8f1f-0a47bd4e2283')\"\n",
              "            title=\"Suggest charts\"\n",
              "            style=\"display:none;\">\n",
              "\n",
              "<svg xmlns=\"http://www.w3.org/2000/svg\" height=\"24px\"viewBox=\"0 0 24 24\"\n",
              "     width=\"24px\">\n",
              "    <g>\n",
              "        <path d=\"M19 3H5c-1.1 0-2 .9-2 2v14c0 1.1.9 2 2 2h14c1.1 0 2-.9 2-2V5c0-1.1-.9-2-2-2zM9 17H7v-7h2v7zm4 0h-2V7h2v10zm4 0h-2v-4h2v4z\"/>\n",
              "    </g>\n",
              "</svg>\n",
              "  </button>\n",
              "\n",
              "<style>\n",
              "  .colab-df-quickchart {\n",
              "      --bg-color: #E8F0FE;\n",
              "      --fill-color: #1967D2;\n",
              "      --hover-bg-color: #E2EBFA;\n",
              "      --hover-fill-color: #174EA6;\n",
              "      --disabled-fill-color: #AAA;\n",
              "      --disabled-bg-color: #DDD;\n",
              "  }\n",
              "\n",
              "  [theme=dark] .colab-df-quickchart {\n",
              "      --bg-color: #3B4455;\n",
              "      --fill-color: #D2E3FC;\n",
              "      --hover-bg-color: #434B5C;\n",
              "      --hover-fill-color: #FFFFFF;\n",
              "      --disabled-bg-color: #3B4455;\n",
              "      --disabled-fill-color: #666;\n",
              "  }\n",
              "\n",
              "  .colab-df-quickchart {\n",
              "    background-color: var(--bg-color);\n",
              "    border: none;\n",
              "    border-radius: 50%;\n",
              "    cursor: pointer;\n",
              "    display: none;\n",
              "    fill: var(--fill-color);\n",
              "    height: 32px;\n",
              "    padding: 0;\n",
              "    width: 32px;\n",
              "  }\n",
              "\n",
              "  .colab-df-quickchart:hover {\n",
              "    background-color: var(--hover-bg-color);\n",
              "    box-shadow: 0 1px 2px rgba(60, 64, 67, 0.3), 0 1px 3px 1px rgba(60, 64, 67, 0.15);\n",
              "    fill: var(--button-hover-fill-color);\n",
              "  }\n",
              "\n",
              "  .colab-df-quickchart-complete:disabled,\n",
              "  .colab-df-quickchart-complete:disabled:hover {\n",
              "    background-color: var(--disabled-bg-color);\n",
              "    fill: var(--disabled-fill-color);\n",
              "    box-shadow: none;\n",
              "  }\n",
              "\n",
              "  .colab-df-spinner {\n",
              "    border: 2px solid var(--fill-color);\n",
              "    border-color: transparent;\n",
              "    border-bottom-color: var(--fill-color);\n",
              "    animation:\n",
              "      spin 1s steps(1) infinite;\n",
              "  }\n",
              "\n",
              "  @keyframes spin {\n",
              "    0% {\n",
              "      border-color: transparent;\n",
              "      border-bottom-color: var(--fill-color);\n",
              "      border-left-color: var(--fill-color);\n",
              "    }\n",
              "    20% {\n",
              "      border-color: transparent;\n",
              "      border-left-color: var(--fill-color);\n",
              "      border-top-color: var(--fill-color);\n",
              "    }\n",
              "    30% {\n",
              "      border-color: transparent;\n",
              "      border-left-color: var(--fill-color);\n",
              "      border-top-color: var(--fill-color);\n",
              "      border-right-color: var(--fill-color);\n",
              "    }\n",
              "    40% {\n",
              "      border-color: transparent;\n",
              "      border-right-color: var(--fill-color);\n",
              "      border-top-color: var(--fill-color);\n",
              "    }\n",
              "    60% {\n",
              "      border-color: transparent;\n",
              "      border-right-color: var(--fill-color);\n",
              "    }\n",
              "    80% {\n",
              "      border-color: transparent;\n",
              "      border-right-color: var(--fill-color);\n",
              "      border-bottom-color: var(--fill-color);\n",
              "    }\n",
              "    90% {\n",
              "      border-color: transparent;\n",
              "      border-bottom-color: var(--fill-color);\n",
              "    }\n",
              "  }\n",
              "</style>\n",
              "\n",
              "  <script>\n",
              "    async function quickchart(key) {\n",
              "      const quickchartButtonEl =\n",
              "        document.querySelector('#' + key + ' button');\n",
              "      quickchartButtonEl.disabled = true;  // To prevent multiple clicks.\n",
              "      quickchartButtonEl.classList.add('colab-df-spinner');\n",
              "      try {\n",
              "        const charts = await google.colab.kernel.invokeFunction(\n",
              "            'suggestCharts', [key], {});\n",
              "      } catch (error) {\n",
              "        console.error('Error during call to suggestCharts:', error);\n",
              "      }\n",
              "      quickchartButtonEl.classList.remove('colab-df-spinner');\n",
              "      quickchartButtonEl.classList.add('colab-df-quickchart-complete');\n",
              "    }\n",
              "    (() => {\n",
              "      let quickchartButtonEl =\n",
              "        document.querySelector('#df-671eebb6-b3bd-44f1-8f1f-0a47bd4e2283 button');\n",
              "      quickchartButtonEl.style.display =\n",
              "        google.colab.kernel.accessAllowed ? 'block' : 'none';\n",
              "    })();\n",
              "  </script>\n",
              "</div>\n",
              "    </div>\n",
              "  </div>\n"
            ]
          },
          "metadata": {},
          "execution_count": 29
        }
      ],
      "source": [
        "# Display sample data\n",
        "results_df.head()\n"
      ]
    }
  ],
  "metadata": {
    "kernelspec": {
      "display_name": "Python 3 (ipykernel)",
      "language": "python",
      "name": "python3"
    },
    "language_info": {
      "codemirror_mode": {
        "name": "ipython",
        "version": 3
      },
      "file_extension": ".py",
      "mimetype": "text/x-python",
      "name": "python",
      "nbconvert_exporter": "python",
      "pygments_lexer": "ipython3",
      "version": "3.10.10"
    },
    "colab": {
      "provenance": []
    }
  },
  "nbformat": 4,
  "nbformat_minor": 0
}